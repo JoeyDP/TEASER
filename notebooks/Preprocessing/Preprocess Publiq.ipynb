{
 "cells": [
  {
   "cell_type": "markdown",
   "id": "150a7b4c",
   "metadata": {},
   "source": [
    "# Preprocess Publiq\n",
    "This proprietary dataset is already preprocessed and only needs to be split"
   ]
  },
  {
   "cell_type": "code",
   "execution_count": 1,
   "id": "fe9c34a6",
   "metadata": {},
   "outputs": [],
   "source": [
    "import teaser.util as util\n",
    "import numpy as np\n",
    "import pandas as pd\n",
    "from pathlib import Path"
   ]
  },
  {
   "cell_type": "code",
   "execution_count": 2,
   "id": "05bf63ce",
   "metadata": {},
   "outputs": [],
   "source": [
    "DATA_DIR = Path('../../data/Publiq/raw')\n",
    "INTERACTIONS_PATH = DATA_DIR / 'interactions.csv'\n",
    "METADATA_PATH = DATA_DIR / 'features.csv'\n",
    "\n",
    "# parse ids\n",
    "ITEM_ID = 'eventId'\n",
    "USER_ID = 'sessionId'\n",
    "\n",
    "# For output\n",
    "T_ITEM_ID = 'itemId'\n",
    "T_USER_ID = 'userId'\n",
    "\n",
    "OUTPUT_DIR = Path('../../data/Publiq/')\n",
    "OUTPUT_INTERACTIONS_PATH = OUTPUT_DIR / 'interactions.csv'\n",
    "OUTPUT_FEATURES_PATH = OUTPUT_DIR / 'features.csv'\n",
    "\n",
    "# For preprocessing\n",
    "# MIN_USERS_PER_ITEM = 5\n",
    "# MIN_ITEMS_PER_USER = 5\n",
    "\n",
    "# For split\n",
    "AMT_VAL_USERS = 1000\n",
    "AMT_TEST_USERS = 1500\n",
    "PERC_HISTORY = 0.8\n",
    "VAL_MIN_ITEMS_PER_USER = 5   # Make sure only users with at least this many items are selected for validation\n",
    "\n",
    "# For reproducibility\n",
    "SEED = 42"
   ]
  },
  {
   "cell_type": "markdown",
   "id": "8f3a8565",
   "metadata": {},
   "source": [
    "## Load data"
   ]
  },
  {
   "cell_type": "code",
   "execution_count": 3,
   "id": "97789d0c",
   "metadata": {},
   "outputs": [
    {
     "data": {
      "text/plain": [
       "(452395, 15000)"
      ]
     },
     "execution_count": 3,
     "metadata": {},
     "output_type": "execute_result"
    }
   ],
   "source": [
    "X = util.parse_interactions(INTERACTIONS_PATH, item_id=ITEM_ID, user_id=USER_ID)\n",
    "X.shape"
   ]
  },
  {
   "cell_type": "code",
   "execution_count": 4,
   "id": "b189b758",
   "metadata": {},
   "outputs": [
    {
     "data": {
      "text/plain": [
       "3781"
      ]
     },
     "execution_count": 4,
     "metadata": {},
     "output_type": "execute_result"
    }
   ],
   "source": [
    "hist_lengths = np.asarray(X.sum(axis=1)).flatten()\n",
    "(hist_lengths >= 5).sum()"
   ]
  },
  {
   "cell_type": "markdown",
   "id": "409b3136",
   "metadata": {},
   "source": [
    "## Only keep users with more than one interaction"
   ]
  },
  {
   "cell_type": "code",
   "execution_count": 5,
   "id": "7c19061c",
   "metadata": {},
   "outputs": [
    {
     "data": {
      "text/plain": [
       "(46075, 15000)"
      ]
     },
     "execution_count": 5,
     "metadata": {},
     "output_type": "execute_result"
    }
   ],
   "source": [
    "X = X[hist_lengths > 1]\n",
    "X.shape"
   ]
  },
  {
   "cell_type": "markdown",
   "id": "73cc4aac",
   "metadata": {},
   "source": [
    "## Print statistics"
   ]
  },
  {
   "cell_type": "code",
   "execution_count": 6,
   "id": "ea37fd04",
   "metadata": {},
   "outputs": [
    {
     "name": "stdout",
     "output_type": "stream",
     "text": [
      "# users: 46075\n",
      "# items: 15000\n",
      "inter. density: 0.019%\n",
      "columns: targetaudience, postalCode, price, eventtype, dayType, theme, region, label, minimumage\n",
      "# features: 2158\n",
      "feature density: 0.578%\n"
     ]
    }
   ],
   "source": [
    "amt_users, amt_items = X.shape\n",
    "i_density = X.getnnz() / (amt_users * amt_items)\n",
    "\n",
    "S, tags = util.parse_metadata(METADATA_PATH, T_ITEM_ID)\n",
    "metadata_names = set((tag.split('_')[0] for tag in tags))\n",
    "_, amt_features = S.shape\n",
    "f_density = S.getnnz() / (amt_features * amt_items)\n",
    "\n",
    "print(f\"# users: {amt_users}\")\n",
    "print(f\"# items: {amt_items}\")\n",
    "print(f\"inter. density: {i_density:.3%}\")\n",
    "print(f\"columns: {', '.join(metadata_names)}\")\n",
    "print(f\"# features: {amt_features}\")\n",
    "print(f\"feature density: {f_density:.3%}\")"
   ]
  },
  {
   "cell_type": "markdown",
   "id": "7c860b13",
   "metadata": {},
   "source": [
    "## Split interactions with strong generalization scheme"
   ]
  },
  {
   "cell_type": "code",
   "execution_count": 7,
   "id": "9dc0421f",
   "metadata": {},
   "outputs": [],
   "source": [
    "Xtrainval, Xtest_in, Xtest_out = util.split(X, test_users=AMT_TEST_USERS, perc_history=PERC_HISTORY, min_interactions=VAL_MIN_ITEMS_PER_USER, seed=SEED)\n",
    "Xtrain, Xval_in, Xval_out = util.split(Xtrainval, test_users=AMT_VAL_USERS, perc_history=PERC_HISTORY, min_interactions=VAL_MIN_ITEMS_PER_USER, seed=SEED)"
   ]
  },
  {
   "cell_type": "markdown",
   "id": "a4cea974",
   "metadata": {},
   "source": [
    "## Save files"
   ]
  },
  {
   "cell_type": "code",
   "execution_count": 8,
   "id": "59d523ec",
   "metadata": {},
   "outputs": [],
   "source": [
    "basename = OUTPUT_INTERACTIONS_PATH.stem\n",
    "\n",
    "util.store_interactions(Xtrain, OUTPUT_DIR / f\"{basename}.train.csv\", item_id=T_ITEM_ID, user_id=T_USER_ID)\n",
    "util.store_interactions(Xtest_in, OUTPUT_DIR / f\"{basename}.testin.csv\", item_id=T_ITEM_ID, user_id=T_USER_ID)\n",
    "util.store_interactions(Xtest_out, OUTPUT_DIR / f\"{basename}.testout.csv\", item_id=T_ITEM_ID, user_id=T_USER_ID)\n",
    "util.store_interactions(Xval_in, OUTPUT_DIR / f\"{basename}.valin.csv\", item_id=T_ITEM_ID, user_id=T_USER_ID)\n",
    "util.store_interactions(Xval_out, OUTPUT_DIR / f\"{basename}.valout.csv\", item_id=T_ITEM_ID, user_id=T_USER_ID)\n",
    "\n",
    "pd.read_csv(METADATA_PATH).to_csv(OUTPUT_FEATURES_PATH, index=False)"
   ]
  }
 ],
 "metadata": {
  "kernelspec": {
   "display_name": "Python 3",
   "language": "python",
   "name": "python3"
  },
  "language_info": {
   "codemirror_mode": {
    "name": "ipython",
    "version": 3
   },
   "file_extension": ".py",
   "mimetype": "text/x-python",
   "name": "python",
   "nbconvert_exporter": "python",
   "pygments_lexer": "ipython3",
   "version": "3.8.10"
  }
 },
 "nbformat": 4,
 "nbformat_minor": 5
}
