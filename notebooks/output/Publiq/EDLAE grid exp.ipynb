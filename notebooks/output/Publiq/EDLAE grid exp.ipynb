{
 "cells": [
  {
   "cell_type": "code",
   "execution_count": 1,
   "id": "a65f4cb7",
   "metadata": {},
   "outputs": [],
   "source": [
    "# %load_ext autoreload\n",
    "# %autoreload 2"
   ]
  },
  {
   "cell_type": "markdown",
   "id": "55bab0c8",
   "metadata": {},
   "source": [
    "# Experiments with EDLAE model"
   ]
  },
  {
   "cell_type": "code",
   "execution_count": 2,
   "id": "ec55d42c",
   "metadata": {},
   "outputs": [],
   "source": [
    "from pathlib import Path\n",
    "import numpy as np\n",
    "\n",
    "import teaser.util as util\n",
    "import teaser.evaluation as evaluation\n",
    "\n",
    "from teaser.algorithm.baseline.edlae import EDLAE"
   ]
  },
  {
   "cell_type": "markdown",
   "id": "c469b253",
   "metadata": {},
   "source": [
    "## Datasets"
   ]
  },
  {
   "cell_type": "code",
   "execution_count": 3,
   "id": "e0622ed1",
   "metadata": {},
   "outputs": [],
   "source": [
    "## Uncomment corresponding directory.\n",
    "# DATA_DIR = Path('../../data/ML20M/')\n",
    "# DATA_DIR = Path('../../data/Amazon Video Games/')\n",
    "DATA_DIR = Path('../../data/Publiq/')"
   ]
  },
  {
   "cell_type": "code",
   "execution_count": 4,
   "id": "d53bce36",
   "metadata": {},
   "outputs": [],
   "source": [
    "# Shouldn't need to change this info\n",
    "INTERACTIONS_TRAIN_PATH = DATA_DIR / 'interactions.train.csv'\n",
    "INTERACTIONS_VALIN_PATH = DATA_DIR / 'interactions.valin.csv'\n",
    "INTERACTIONS_VALOUT_PATH = DATA_DIR / 'interactions.valout.csv'\n",
    "INTERACTIONS_TESTIN_PATH = DATA_DIR / 'interactions.testin.csv'\n",
    "INTERACTIONS_TESTOUT_PATH = DATA_DIR / 'interactions.testout.csv'\n",
    "\n",
    "METADATA_PATH = DATA_DIR / 'features.csv'\n",
    "\n",
    "ITEM_ID = 'itemId'\n",
    "USER_ID = 'userId'"
   ]
  },
  {
   "cell_type": "markdown",
   "id": "48457625",
   "metadata": {},
   "source": [
    "## Define algorithm and hyperparameter ranges"
   ]
  },
  {
   "cell_type": "code",
   "execution_count": 5,
   "id": "11a5ac4c",
   "metadata": {},
   "outputs": [
    {
     "data": {
      "text/plain": [
       "{'l2': [100, 1000, 10000, 100000],\n",
       " 'rho': [100, 500, 1000],\n",
       " 'max_iterations': 10}"
      ]
     },
     "execution_count": 5,
     "metadata": {},
     "output_type": "execute_result"
    }
   ],
   "source": [
    "ALG = EDLAE\n",
    "\n",
    "L2 = [10 ** p for p in range(2, 6)]\n",
    "# L2 = [5000, 10000, 20000, 40000]\n",
    "RHO = [100, 500, 1000]\n",
    "MAX_ITER = 10\n",
    "HYPERPARAMS = {'l2': L2, 'rho': RHO, 'max_iterations': MAX_ITER}\n",
    "HYPERPARAMS"
   ]
  },
  {
   "cell_type": "markdown",
   "id": "32d25f41",
   "metadata": {},
   "source": [
    "## Parse data"
   ]
  },
  {
   "cell_type": "code",
   "execution_count": 6,
   "id": "ce0d0435",
   "metadata": {},
   "outputs": [],
   "source": [
    "S, tags = util.parse_metadata(METADATA_PATH, item_id=ITEM_ID)\n",
    "n, t = S.shape  # amount of items and tags\n",
    "HYPERPARAMS['t'] = t\n",
    "del S\n",
    "\n",
    "X = util.parse_interactions(INTERACTIONS_TRAIN_PATH, item_id=ITEM_ID, user_id=USER_ID, shape_items=n)\n",
    "\n",
    "Xval_in = util.parse_interactions(INTERACTIONS_VALIN_PATH, item_id=ITEM_ID, user_id=USER_ID, shape_items=n)\n",
    "Xval_out = util.parse_interactions(INTERACTIONS_VALOUT_PATH, item_id=ITEM_ID, user_id=USER_ID, shape_items=n)\n",
    "Xtest_in = util.parse_interactions(INTERACTIONS_TESTIN_PATH, item_id=ITEM_ID, user_id=USER_ID, shape_items=n)\n",
    "Xtest_out = util.parse_interactions(INTERACTIONS_TESTOUT_PATH, item_id=ITEM_ID, user_id=USER_ID, shape_items=n)"
   ]
  },
  {
   "cell_type": "markdown",
   "id": "fc85ffb4",
   "metadata": {},
   "source": [
    "## Perform gridsearch on validation set"
   ]
  },
  {
   "cell_type": "code",
   "execution_count": 7,
   "id": "36a9347a",
   "metadata": {
    "scrolled": true
   },
   "outputs": [
    {
     "data": {
      "application/vnd.jupyter.widget-view+json": {
       "model_id": "59e5ee98922e4457b7d358416c366448",
       "version_major": 2,
       "version_minor": 0
      },
      "text/plain": [
       "HBox(children=(FloatProgress(value=0.0, max=12.0), HTML(value='')))"
      ]
     },
     "metadata": {},
     "output_type": "display_data"
    },
    {
     "name": "stdout",
     "output_type": "stream",
     "text": [
      "\r",
      "Training model EDLAE with hyperparameters {'l2': 100, 'rho': 100, 'max_iterations': 10, 't': 2158}\n"
     ]
    },
    {
     "data": {
      "application/vnd.jupyter.widget-view+json": {
       "model_id": "d51863ee08024e3fa4cda0ef3e1f179e",
       "version_major": 2,
       "version_minor": 0
      },
      "text/plain": [
       "HBox(children=(FloatProgress(value=0.0, max=10.0), HTML(value='')))"
      ]
     },
     "metadata": {},
     "output_type": "display_data"
    },
    {
     "name": "stdout",
     "output_type": "stream",
     "text": [
      "norm E 0.8547220509188103\n",
      "norm D 768.114514713382\n",
      "diag norm: 9.831869809059674\n",
      "diag_diff: 7.967472232537504\n",
      "\n",
      "norm E 0.7722396931250064\n",
      "norm D 798.9905673470647\n",
      "diag norm: 9.614011513585275\n",
      "diag_diff: 5.948416892576245\n",
      "rho * change E: 26.179819141754535\n",
      "\n",
      "norm E 0.757487749908573\n",
      "norm D 807.9777197289702\n",
      "diag norm: 9.473477235934398\n",
      "diag_diff: 4.462557124866795\n",
      "rho * change E: 7.922053831617656\n",
      "\n",
      "norm E 0.7523595890282657\n",
      "norm D 812.1095291590548\n",
      "diag norm: 9.39480463141506\n",
      "diag_diff: 3.3843580938162674\n",
      "rho * change E: 4.270366342487544\n",
      "\n",
      "norm E 0.7514746539796513\n",
      "norm D 814.3941131099916\n",
      "diag norm: 9.348241323655747\n",
      "diag_diff: 2.593689146446966\n",
      "rho * change E: 2.7157283204823455\n",
      "\n",
      "norm E 0.7522178982839152\n",
      "norm D 815.8311695575752\n",
      "diag norm: 9.318849483965856\n",
      "diag_diff: 2.007630274142123\n",
      "rho * change E: 1.9512618639538795\n",
      "\n",
      "norm E 0.753430290447779\n",
      "norm D 816.8001298053344\n",
      "diag norm: 9.29947753466549\n",
      "diag_diff: 1.5683812513245827\n",
      "rho * change E: 1.5093338435617767\n",
      "\n",
      "norm E 0.7546911426833812\n",
      "norm D 817.5044680644363\n",
      "diag norm: 9.286426615413493\n",
      "diag_diff: 1.2359719356998977\n",
      "rho * change E: 1.2159196852911895\n",
      "\n",
      "norm E 0.7558491608837954\n",
      "norm D 818.0065906138802\n",
      "diag norm: 9.277554857361375\n",
      "diag_diff: 0.9820400241835164\n",
      "rho * change E: 1.0000145669915326\n",
      "\n",
      "norm E 0.7568615030844044\n",
      "norm D 818.3793199087619\n",
      "diag norm: 9.271513415987757\n",
      "diag_diff: 0.7863792292836752\n",
      "rho * change E: 0.8346777486547916\n",
      "\n",
      "\n",
      "Evaluating with 1000 users\n",
      "Average Recall@20 0.493\n",
      "Average Recall@100 0.656\n",
      "Average nDCG@100 0.318\n",
      "Training model EDLAE with hyperparameters {'l2': 1000, 'rho': 100, 'max_iterations': 10, 't': 2158}\n"
     ]
    },
    {
     "data": {
      "application/vnd.jupyter.widget-view+json": {
       "model_id": "1dfa423c2b79417b973c6ee9dd6bab2e",
       "version_major": 2,
       "version_minor": 0
      },
      "text/plain": [
       "HBox(children=(FloatProgress(value=0.0, max=10.0), HTML(value='')))"
      ]
     },
     "metadata": {},
     "output_type": "display_data"
    },
    {
     "name": "stdout",
     "output_type": "stream",
     "text": [
      "norm E 0.16360088930695507\n",
      "norm D 791.4323150196702\n",
      "diag norm: 2.0757457980303586\n",
      "diag_diff: 1.9722478884011434\n",
      "\n",
      "norm E 0.162177368688244\n",
      "norm D 813.3757018074922\n",
      "diag norm: 2.1040127100487758\n",
      "diag_diff: 1.870843391080898\n",
      "rho * change E: 2.7104293340471197\n",
      "\n",
      "norm E 0.1613174823648634\n",
      "norm D 817.7006825935078\n",
      "diag norm: 2.0961619227355492\n",
      "diag_diff: 1.7392100093544818\n",
      "rho * change E: 0.863460098642917\n",
      "\n",
      "norm E 0.16054507311010557\n",
      "norm D 819.5052006173053\n",
      "diag norm: 2.087073102559303\n",
      "diag_diff: 1.6145993648782557\n",
      "rho * change E: 0.5068227264853942\n",
      "\n",
      "norm E 0.15985921029966704\n",
      "norm D 820.6363992215032\n",
      "diag norm: 2.078619152123228\n",
      "diag_diff: 1.4986282513806557\n",
      "rho * change E: 0.382973755058228\n",
      "\n",
      "norm E 0.15925817863158734\n",
      "norm D 821.5108312597453\n",
      "diag norm: 2.0711347522618806\n",
      "diag_diff: 1.391147681807862\n",
      "rho * change E: 0.3231831537440908\n",
      "\n",
      "norm E 0.15873563228224535\n",
      "norm D 822.2619197616895\n",
      "diag norm: 2.064621223649179\n",
      "diag_diff: 1.2916512159379863\n",
      "rho * change E: 0.28519391061238286\n",
      "\n",
      "norm E 0.15828402937122518\n",
      "norm D 822.9516825376729\n",
      "diag norm: 2.0589807814895473\n",
      "diag_diff: 1.199526334941778\n",
      "rho * change E: 0.2570958236030309\n",
      "\n",
      "norm E 0.1578967998312032\n",
      "norm D 823.6041165241293\n",
      "diag norm: 2.0541169195986315\n",
      "diag_diff: 1.114243800906444\n",
      "rho * change E: 0.23367004663073926\n",
      "\n",
      "norm E 0.15756554995572897\n",
      "norm D 824.2222827621836\n",
      "diag norm: 2.049930370089902\n",
      "diag_diff: 1.0353073324384003\n",
      "rho * change E: 0.2130787992107171\n",
      "\n",
      "\n",
      "Evaluating with 1000 users\n",
      "Average Recall@20 0.494\n",
      "Average Recall@100 0.657\n",
      "Average nDCG@100 0.312\n",
      "Training model EDLAE with hyperparameters {'l2': 10000, 'rho': 100, 'max_iterations': 10, 't': 2158}\n"
     ]
    },
    {
     "data": {
      "application/vnd.jupyter.widget-view+json": {
       "model_id": "01a138d853144973bd842e033b9c73ee",
       "version_major": 2,
       "version_minor": 0
      },
      "text/plain": [
       "HBox(children=(FloatProgress(value=0.0, max=10.0), HTML(value='')))"
      ]
     },
     "metadata": {},
     "output_type": "display_data"
    },
    {
     "name": "stdout",
     "output_type": "stream",
     "text": [
      "norm E 0.02002948242993472\n",
      "norm D 794.4913363161924\n",
      "diag norm: 0.2519425418380693\n",
      "diag_diff: 0.2509783713288016\n",
      "\n",
      "norm E 0.020135431543914912\n",
      "norm D 816.5241672830984\n",
      "diag norm: 0.25782820495177833\n",
      "diag_diff: 0.25476550230306505\n",
      "rho * change E: 0.2807033230091642\n",
      "\n",
      "norm E 0.020130612090248863\n",
      "norm D 820.6049901375665\n",
      "diag norm: 0.25805713765603555\n",
      "diag_diff: 0.25285361390227545\n",
      "rho * change E: 0.08812713789466907\n",
      "\n",
      "norm E 0.02011471903965811\n",
      "norm D 822.017083389205\n",
      "diag norm: 0.25792662922762305\n",
      "diag_diff: 0.2505892469216089\n",
      "rho * change E: 0.0466425442554252\n",
      "\n",
      "norm E 0.02009645221115369\n",
      "norm D 822.6693316814622\n",
      "diag norm: 0.25771544573362243\n",
      "diag_diff: 0.2482597595165321\n",
      "rho * change E: 0.029987076938039148\n",
      "\n",
      "norm E 0.02007752243855814\n",
      "norm D 823.0265691972169\n",
      "diag norm: 0.2574773962375515\n",
      "diag_diff: 0.24592160356535198\n",
      "rho * change E: 0.02157558209690917\n",
      "\n",
      "norm E 0.020058422939887494\n",
      "norm D 823.2462485976745\n",
      "diag norm: 0.2572287217019634\n",
      "diag_diff: 0.24359170265055088\n",
      "rho * change E: 0.0167305415577496\n",
      "\n",
      "norm E 0.020039354575190474\n",
      "norm D 823.39349203253\n",
      "diag norm: 0.2569759239581194\n",
      "diag_diff: 0.2412767259036094\n",
      "rho * change E: 0.013701286929213899\n",
      "\n",
      "norm E 0.02002040838486863\n",
      "norm D 823.4991302565714\n",
      "diag norm: 0.2567220447524432\n",
      "diag_diff: 0.23897992302679608\n",
      "rho * change E: 0.011699218222582316\n",
      "\n",
      "norm E 0.020001617136717397\n",
      "norm D 823.5792924303735\n",
      "diag norm: 0.2564685479362065\n",
      "diag_diff: 0.2367029111912515\n",
      "rho * change E: 0.010323009884559888\n",
      "\n",
      "\n",
      "Evaluating with 1000 users\n",
      "Average Recall@20 0.484\n",
      "Average Recall@100 0.642\n",
      "Average nDCG@100 0.304\n",
      "Training model EDLAE with hyperparameters {'l2': 100000, 'rho': 100, 'max_iterations': 10, 't': 2158}\n"
     ]
    },
    {
     "data": {
      "application/vnd.jupyter.widget-view+json": {
       "model_id": "4181ce5b38aa4d639a85276cba6e611c",
       "version_major": 2,
       "version_minor": 0
      },
      "text/plain": [
       "HBox(children=(FloatProgress(value=0.0, max=10.0), HTML(value='')))"
      ]
     },
     "metadata": {},
     "output_type": "display_data"
    },
    {
     "name": "stdout",
     "output_type": "stream",
     "text": [
      "norm E 0.0020544757181347683\n",
      "norm D 795.0542636811628\n",
      "diag norm: 0.025854901667828507\n",
      "diag_diff: 0.025854108842839063\n",
      "\n",
      "norm E 0.002072345932740032\n",
      "norm D 817.1243978399358\n",
      "diag norm: 0.02655380991374594\n",
      "diag_diff: 0.026533390133588092\n",
      "rho * change E: 0.028258405731988755\n",
      "\n",
      "norm E 0.0020738166104652795\n",
      "norm D 821.2307156056886\n",
      "diag norm: 0.026602575833224444\n",
      "diag_diff: 0.026561876778918497\n",
      "rho * change E: 0.008916408753452948\n",
      "\n",
      "norm E 0.002073944846491779\n",
      "norm D 822.652734034813\n",
      "diag norm: 0.026612308690064285\n",
      "diag_diff: 0.02655120204196162\n",
      "rho * change E: 0.004722404330847647\n",
      "\n",
      "norm E 0.0020737616082798557\n",
      "norm D 823.3061761209018\n",
      "diag norm: 0.026613009991235097\n",
      "diag_diff: 0.026531461140814557\n",
      "rho * change E: 0.003015990247152735\n",
      "\n",
      "norm E 0.0020734717945676893\n",
      "norm D 823.6596405519902\n",
      "diag norm: 0.026610534175084546\n",
      "diag_diff: 0.026508536012063624\n",
      "rho * change E: 0.002137173004297407\n",
      "\n",
      "norm E 0.002073136353302956\n",
      "norm D 823.8721582609556\n",
      "diag norm: 0.026606661149965606\n",
      "diag_diff: 0.026484218210867518\n",
      "rho * change E: 0.0016164883929725572\n",
      "\n",
      "norm E 0.002072778362572143\n",
      "norm D 824.0097646749646\n",
      "diag norm: 0.026602078883494036\n",
      "diag_diff: 0.026459201694685828\n",
      "rho * change E: 0.0012785222438353766\n",
      "\n",
      "norm E 0.0020724080753156105\n",
      "norm D 824.1038877425597\n",
      "diag norm: 0.02659709820321578\n",
      "diag_diff: 0.02643380059719718\n",
      "rho * change E: 0.001044580047196183\n",
      "\n",
      "norm E 0.0020720306045495817\n",
      "norm D 824.1710437741806\n",
      "diag norm: 0.02659187629889181\n",
      "diag_diff: 0.026408174074520792\n",
      "rho * change E: 0.0008746401385119934\n",
      "\n",
      "\n",
      "Evaluating with 1000 users\n",
      "Average Recall@20 0.482\n",
      "Average Recall@100 0.643\n",
      "Average nDCG@100 0.302\n",
      "Training model EDLAE with hyperparameters {'l2': 100, 'rho': 500, 'max_iterations': 10, 't': 2158}\n"
     ]
    },
    {
     "data": {
      "application/vnd.jupyter.widget-view+json": {
       "model_id": "3414e2bcc3fd49bf80c451a852503f07",
       "version_major": 2,
       "version_minor": 0
      },
      "text/plain": [
       "HBox(children=(FloatProgress(value=0.0, max=10.0), HTML(value='')))"
      ]
     },
     "metadata": {},
     "output_type": "display_data"
    },
    {
     "name": "stdout",
     "output_type": "stream",
     "text": [
      "norm E 0.8553264383569246\n",
      "norm D 768.3727085676865\n",
      "diag norm: 9.832825446395836\n",
      "diag_diff: 5.9849962959901575\n",
      "\n",
      "norm E 0.7613136271227021\n",
      "norm D 811.7451086223064\n",
      "diag norm: 9.556793982967383\n",
      "diag_diff: 3.3876207503890923\n",
      "rho * change E: 142.54588917000515\n",
      "\n",
      "norm E 0.7582171516379786\n",
      "norm D 820.1959252010895\n",
      "diag norm: 9.446846663079103\n",
      "diag_diff: 1.9532892000311841\n",
      "rho * change E: 32.215585886243645\n",
      "\n",
      "norm E 0.7600975645787134\n",
      "norm D 823.2769047409\n",
      "diag norm: 9.390953488504945\n",
      "diag_diff: 1.13707819135324\n",
      "rho * change E: 16.0018890098382\n",
      "\n",
      "norm E 0.76199258268998\n",
      "norm D 824.8279536524925\n",
      "diag norm: 9.360618259435874\n",
      "diag_diff: 0.6685607371257405\n",
      "rho * change E: 9.971456358199111\n",
      "\n",
      "norm E 0.7633496411962172\n",
      "norm D 825.7768736803356\n",
      "diag norm: 9.343735853839405\n",
      "diag_diff: 0.39862244420987963\n",
      "rho * change E: 6.895159699973867\n",
      "\n",
      "norm E 0.7642493786806049\n",
      "norm D 826.3982888658587\n",
      "diag norm: 9.334302335471385\n",
      "diag_diff: 0.24318084260728326\n",
      "rho * change E: 5.165699284302873\n",
      "\n",
      "norm E 0.7648400149112381\n",
      "norm D 826.8482216456167\n",
      "diag norm: 9.329134314596223\n",
      "diag_diff: 0.15446241118266787\n",
      "rho * change E: 4.151879427452285\n",
      "\n",
      "norm E 0.765237490705198\n",
      "norm D 827.1756400523935\n",
      "diag norm: 9.326461946453298\n",
      "diag_diff: 0.10455079172524441\n",
      "rho * change E: 3.475425836293685\n",
      "\n",
      "norm E 0.7655181025256405\n",
      "norm D 827.4293895666324\n",
      "diag norm: 9.325253397243124\n",
      "diag_diff: 0.07703937074393447\n",
      "rho * change E: 3.002627057100164\n",
      "\n",
      "\n",
      "Evaluating with 1000 users\n",
      "Average Recall@20 0.492\n",
      "Average Recall@100 0.654\n",
      "Average nDCG@100 0.314\n",
      "Training model EDLAE with hyperparameters {'l2': 1000, 'rho': 500, 'max_iterations': 10, 't': 2158}\n"
     ]
    },
    {
     "data": {
      "application/vnd.jupyter.widget-view+json": {
       "model_id": "f711eb2a806c485a82910f3db902d14f",
       "version_major": 2,
       "version_minor": 0
      },
      "text/plain": [
       "HBox(children=(FloatProgress(value=0.0, max=10.0), HTML(value='')))"
      ]
     },
     "metadata": {},
     "output_type": "display_data"
    },
    {
     "name": "stdout",
     "output_type": "stream",
     "text": [
      "norm E 0.16354774493131113\n",
      "norm D 792.3400104282446\n",
      "diag norm: 2.075654459411236\n",
      "diag_diff: 1.655011097640737\n",
      "\n",
      "norm E 0.15877413584758407\n",
      "norm D 817.2879372008999\n",
      "diag norm: 2.067197440325763\n",
      "diag_diff: 1.28378615835983\n",
      "rho * change E: 13.822661379778323\n",
      "\n",
      "norm E 0.1577212019415271\n",
      "norm D 824.45505737658\n",
      "diag norm: 2.0565917803918476\n",
      "diag_diff: 0.9901859707147866\n",
      "rho * change E: 4.516387557162549\n",
      "\n",
      "norm E 0.15716937108260098\n",
      "norm D 828.3081211347619\n",
      "diag norm: 2.049858378474846\n",
      "diag_diff: 0.7643471409336625\n",
      "rho * change E: 2.7164645140714088\n",
      "\n",
      "norm E 0.1569062257487379\n",
      "norm D 830.7619649246758\n",
      "diag norm: 2.04569627199072\n",
      "diag_diff: 0.5906762465191241\n",
      "rho * change E: 1.824671479780676\n",
      "\n",
      "norm E 0.15680968042541332\n",
      "norm D 832.4452410452668\n",
      "diag norm: 2.04308746500497\n",
      "diag_diff: 0.456940570490805\n",
      "rho * change E: 1.2908153129945017\n",
      "\n",
      "norm E 0.15680079111351064\n",
      "norm D 833.6180449377784\n",
      "diag norm: 2.0414049509207692\n",
      "diag_diff: 0.3538394236329958\n",
      "rho * change E: 0.956819446493267\n",
      "\n",
      "norm E 0.15683177787497532\n",
      "norm D 834.4807766116119\n",
      "diag norm: 2.0402805386849447\n",
      "diag_diff: 0.27428256095109005\n",
      "rho * change E: 0.747577144461111\n",
      "\n",
      "norm E 0.15687693548867343\n",
      "norm D 835.1504019893326\n",
      "diag norm: 2.0395041805529526\n",
      "diag_diff: 0.21286808949463543\n",
      "rho * change E: 0.6104932970241672\n",
      "\n",
      "norm E 0.15692354386560145\n",
      "norm D 835.6988913688572\n",
      "diag norm: 2.038955914322362\n",
      "diag_diff: 0.16542610175884925\n",
      "rho * change E: 0.5170174793200227\n",
      "\n",
      "\n",
      "Evaluating with 1000 users\n",
      "Average Recall@20 0.483\n",
      "Average Recall@100 0.656\n",
      "Average nDCG@100 0.308\n",
      "Training model EDLAE with hyperparameters {'l2': 10000, 'rho': 500, 'max_iterations': 10, 't': 2158}\n"
     ]
    },
    {
     "data": {
      "application/vnd.jupyter.widget-view+json": {
       "model_id": "76b62550692a47bda5455114f856e130",
       "version_major": 2,
       "version_minor": 0
      },
      "text/plain": [
       "HBox(children=(FloatProgress(value=0.0, max=10.0), HTML(value='')))"
      ]
     },
     "metadata": {},
     "output_type": "display_data"
    },
    {
     "name": "stdout",
     "output_type": "stream",
     "text": [
      "norm E 0.01991452574469547\n",
      "norm D 794.6617788551594\n",
      "diag norm: 0.25192323913384584\n",
      "diag_diff: 0.24401677361530327\n",
      "\n",
      "norm E 0.019875142937577944\n",
      "norm D 816.6103297306103\n",
      "diag norm: 0.2556869495338872\n",
      "diag_diff: 0.23777632076732225\n",
      "rho * change E: 1.3830702229453875\n",
      "\n",
      "norm E 0.01982378762176083\n",
      "norm D 820.7320323048399\n",
      "diag norm: 0.25536158500980005\n",
      "diag_diff: 0.22764905195585491\n",
      "rho * change E: 0.4335307425899052\n",
      "\n",
      "norm E 0.0197707423878371\n",
      "norm D 822.2547740359915\n",
      "diag norm: 0.2548017141040583\n",
      "diag_diff: 0.2176756246198587\n",
      "rho * change E: 0.239012138693461\n",
      "\n",
      "norm E 0.01971963111987387\n",
      "norm D 823.0611832327478\n",
      "diag norm: 0.2542186433535909\n",
      "diag_diff: 0.2080760377530917\n",
      "rho * change E: 0.16797777935438846\n",
      "\n",
      "norm E 0.01967124329724044\n",
      "norm D 823.6031184038119\n",
      "diag norm: 0.25365413103924483\n",
      "diag_diff: 0.19888200981393644\n",
      "rho * change E: 0.13595065231054163\n",
      "\n",
      "norm E 0.01962571888003534\n",
      "norm D 824.0294380638684\n",
      "diag norm: 0.25312064838613463\n",
      "diag_diff: 0.19008976571773933\n",
      "rho * change E: 0.11903159365869329\n",
      "\n",
      "norm E 0.019583140856737027\n",
      "norm D 824.3911335835309\n",
      "diag norm: 0.25262483790648066\n",
      "diag_diff: 0.18168848477727834\n",
      "rho * change E: 0.10823528568166851\n",
      "\n",
      "norm E 0.01954355032773639\n",
      "norm D 824.7135910963644\n",
      "diag norm: 0.2521679093468309\n",
      "diag_diff: 0.17366380030556586\n",
      "rho * change E: 0.10021561553909701\n",
      "\n",
      "norm E 0.019506870378990893\n",
      "norm D 825.0157432283286\n",
      "diag norm: 0.251747753331267\n",
      "diag_diff: 0.16599987337457833\n",
      "rho * change E: 0.09394563504689586\n",
      "\n",
      "\n",
      "Evaluating with 1000 users\n",
      "Average Recall@20 0.492\n",
      "Average Recall@100 0.654\n",
      "Average nDCG@100 0.306\n",
      "Training model EDLAE with hyperparameters {'l2': 100000, 'rho': 500, 'max_iterations': 10, 't': 2158}\n"
     ]
    },
    {
     "data": {
      "application/vnd.jupyter.widget-view+json": {
       "model_id": "e752a462a1104a029ae95deb14e9af16",
       "version_major": 2,
       "version_minor": 0
      },
      "text/plain": [
       "HBox(children=(FloatProgress(value=0.0, max=10.0), HTML(value='')))"
      ]
     },
     "metadata": {},
     "output_type": "display_data"
    },
    {
     "name": "stdout",
     "output_type": "stream",
     "text": [
      "norm E 0.0020571972588497834\n",
      "norm D 794.7338300928805\n",
      "diag norm: 0.02585568722586156\n",
      "diag_diff: 0.025823341037066908\n",
      "\n",
      "norm E 0.0020706768549768884\n",
      "norm D 816.8101090188228\n",
      "diag norm: 0.02648315206162161\n",
      "diag_diff: 0.026341973777957012\n",
      "rho * change E: 0.1408497487990684\n",
      "\n",
      "norm E 0.0020711137905901106\n",
      "norm D 820.9061379652339\n",
      "diag norm: 0.026517921606112823\n",
      "diag_diff: 0.02626548359549771\n",
      "rho * change E: 0.044370747499316555\n",
      "\n",
      "norm E 0.002070323196634596\n",
      "norm D 822.3229436258339\n",
      "diag norm: 0.026515300613473073\n",
      "diag_diff: 0.026151443955254525\n",
      "rho * change E: 0.023489111511929138\n",
      "\n",
      "norm E 0.002069254468916481\n",
      "norm D 822.9739230982711\n",
      "diag norm: 0.026504159800059813\n",
      "diag_diff: 0.02602917311351988\n",
      "rho * change E: 0.015014332729422427\n",
      "\n",
      "norm E 0.0020680954876135128\n",
      "norm D 823.3265248672553\n",
      "diag norm: 0.02649007075339734\n",
      "diag_diff: 0.025904379547255628\n",
      "rho * change E: 0.01067744218185288\n",
      "\n",
      "norm E 0.0020669018616761947\n",
      "norm D 823.5392685193523\n",
      "diag norm: 0.026474721352879267\n",
      "diag_diff: 0.02577880879205557\n",
      "rho * change E: 0.008131324481998863\n",
      "\n",
      "norm E 0.002065694267449788\n",
      "norm D 823.6778616339539\n",
      "diag norm: 0.0264587628233029\n",
      "diag_diff: 0.025653138361178968\n",
      "rho * change E: 0.00649678729659287\n",
      "\n",
      "norm E 0.0020644818860999182\n",
      "norm D 823.7735635410869\n",
      "diag norm: 0.0264424912191529\n",
      "diag_diff: 0.025527675930091368\n",
      "rho * change E: 0.005381585391618191\n",
      "\n",
      "norm E 0.0020632693085155824\n",
      "norm D 823.8428053581736\n",
      "diag norm: 0.026426060147784838\n",
      "diag_diff: 0.02540258455513375\n",
      "rho * change E: 0.004587631615242812\n",
      "\n",
      "\n",
      "Evaluating with 1000 users\n",
      "Average Recall@20 0.48\n",
      "Average Recall@100 0.643\n",
      "Average nDCG@100 0.303\n",
      "Training model EDLAE with hyperparameters {'l2': 100, 'rho': 1000, 'max_iterations': 10, 't': 2158}\n"
     ]
    },
    {
     "data": {
      "application/vnd.jupyter.widget-view+json": {
       "model_id": "f520edb174d543728d7a3972230edc06",
       "version_major": 2,
       "version_minor": 0
      },
      "text/plain": [
       "HBox(children=(FloatProgress(value=0.0, max=10.0), HTML(value='')))"
      ]
     },
     "metadata": {},
     "output_type": "display_data"
    },
    {
     "name": "stdout",
     "output_type": "stream",
     "text": [
      "norm E 0.8550833972444022\n",
      "norm D 768.9363695485955\n",
      "diag norm: 9.832339510973494\n",
      "diag_diff: 5.506227548884191\n",
      "\n",
      "norm E 0.761287839667579\n",
      "norm D 813.5077459594522\n",
      "diag norm: 9.539552523781836\n",
      "diag_diff: 2.8777310842756463\n",
      "rho * change E: 287.5727873010281\n",
      "\n",
      "norm E 0.758958081638521\n",
      "norm D 821.9184025588208\n",
      "diag norm: 9.428714620338281\n",
      "diag_diff: 1.5306376434542035\n",
      "rho * change E: 64.18409267170966\n",
      "\n",
      "norm E 0.7609062251974927\n",
      "norm D 824.9208238306128\n",
      "diag norm: 9.376342426421006\n",
      "diag_diff: 0.8217173905018469\n",
      "rho * change E: 30.894431439089036\n",
      "\n",
      "norm E 0.7626006784431242\n",
      "norm D 826.4357253063\n",
      "diag norm: 9.35026010045823\n",
      "diag_diff: 0.4474627512294765\n",
      "rho * change E: 18.780536456215753\n",
      "\n",
      "norm E 0.7637140308387986\n",
      "norm D 827.3580776283974\n",
      "diag norm: 9.337043023435541\n",
      "diag_diff: 0.25103773823505865\n",
      "rho * change E: 12.959317977907022\n",
      "\n",
      "norm E 0.7644061309245734\n",
      "norm D 828.007050575001\n",
      "diag norm: 9.330417452847398\n",
      "diag_diff: 0.15016591491775705\n",
      "rho * change E: 9.93957229327063\n",
      "\n",
      "norm E 0.764842103851478\n",
      "norm D 828.450592575782\n",
      "diag norm: 9.327256024881855\n",
      "diag_diff: 0.09990120546131726\n",
      "rho * change E: 8.091557923209075\n",
      "\n",
      "norm E 0.7651301133251946\n",
      "norm D 828.7826501713141\n",
      "diag norm: 9.325922873038852\n",
      "diag_diff: 0.07533399786075223\n",
      "rho * change E: 6.8270212780122135\n",
      "\n",
      "norm E 0.7653350554268927\n",
      "norm D 829.0519688574299\n",
      "diag norm: 9.325589398707695\n",
      "diag_diff: 0.06287326723188973\n",
      "rho * change E: 5.976429485379849\n",
      "\n",
      "\n",
      "Evaluating with 1000 users\n",
      "Average Recall@20 0.49\n",
      "Average Recall@100 0.655\n",
      "Average nDCG@100 0.314\n",
      "Training model EDLAE with hyperparameters {'l2': 1000, 'rho': 1000, 'max_iterations': 10, 't': 2158}\n"
     ]
    },
    {
     "data": {
      "application/vnd.jupyter.widget-view+json": {
       "model_id": "711e3c369e704287b3add3748574a185",
       "version_major": 2,
       "version_minor": 0
      },
      "text/plain": [
       "HBox(children=(FloatProgress(value=0.0, max=10.0), HTML(value='')))"
      ]
     },
     "metadata": {},
     "output_type": "display_data"
    },
    {
     "name": "stdout",
     "output_type": "stream",
     "text": [
      "norm E 0.1636762194688862\n",
      "norm D 791.9395527510651\n",
      "diag norm: 2.075551140889081\n",
      "diag_diff: 1.4669187350667607\n",
      "\n",
      "norm E 0.15796342639819905\n",
      "norm D 823.026495959294\n",
      "diag norm: 2.0618289846699787\n",
      "diag_diff: 1.004761653501435\n",
      "rho * change E: 28.99195684400023\n",
      "\n",
      "norm E 0.15736172531602297\n",
      "norm D 831.5998499499306\n",
      "diag norm: 2.0544646837019984\n",
      "diag_diff: 0.688417161838189\n",
      "rho * change E: 8.189997761703376\n",
      "\n",
      "norm E 0.15726139963179958\n",
      "norm D 835.3531867183702\n",
      "diag norm: 2.0506360053129287\n",
      "diag_diff: 0.4723714526372826\n",
      "rho * change E: 4.223139333599767\n",
      "\n",
      "norm E 0.157325328973607\n",
      "norm D 837.376988097049\n",
      "diag norm: 2.0484850051611274\n",
      "diag_diff: 0.3246229271643726\n",
      "rho * change E: 2.5744728481010504\n",
      "\n",
      "norm E 0.157421394832584\n",
      "norm D 838.6302098700415\n",
      "diag norm: 2.047176968660672\n",
      "diag_diff: 0.223418547512031\n",
      "rho * change E: 1.7927218977114943\n",
      "\n",
      "norm E 0.1575080393258479\n",
      "norm D 839.4791424970311\n",
      "diag norm: 2.0463384429201588\n",
      "diag_diff: 0.15399886336690902\n",
      "rho * change E: 1.3588671187668788\n",
      "\n",
      "norm E 0.15757685297573634\n",
      "norm D 840.0972267639758\n",
      "diag norm: 2.0457832134821916\n",
      "diag_diff: 0.1063412491863095\n",
      "rho * change E: 1.085925394876029\n",
      "\n",
      "norm E 0.15762885498958562\n",
      "norm D 840.5894300365054\n",
      "diag norm: 2.0454101362305064\n",
      "diag_diff: 0.07360895249189195\n",
      "rho * change E: 0.9064433195543619\n",
      "\n",
      "norm E 0.1576674700453757\n",
      "norm D 840.9577905281636\n",
      "diag norm: 2.045157871985616\n",
      "diag_diff: 0.05112165481349004\n",
      "rho * change E: 0.7728567371864341\n",
      "\n",
      "\n",
      "Evaluating with 1000 users\n",
      "Average Recall@20 0.482\n",
      "Average Recall@100 0.653\n",
      "Average nDCG@100 0.306\n",
      "Training model EDLAE with hyperparameters {'l2': 10000, 'rho': 1000, 'max_iterations': 10, 't': 2158}\n"
     ]
    },
    {
     "data": {
      "application/vnd.jupyter.widget-view+json": {
       "model_id": "c8f94599e81d4f94bad253c34bbf592c",
       "version_major": 2,
       "version_minor": 0
      },
      "text/plain": [
       "HBox(children=(FloatProgress(value=0.0, max=10.0), HTML(value='')))"
      ]
     },
     "metadata": {},
     "output_type": "display_data"
    },
    {
     "name": "stdout",
     "output_type": "stream",
     "text": [
      "norm E 0.019979166866607632\n",
      "norm D 794.5368773296725\n",
      "diag norm: 0.25193946403274203\n",
      "diag_diff: 0.23561002647046508\n",
      "\n",
      "norm E 0.019833943316185567\n",
      "norm D 816.4460037393093\n",
      "diag norm: 0.25429831804087805\n",
      "diag_diff: 0.2198918397342261\n",
      "rho * change E: 2.736994429122664\n",
      "\n",
      "norm E 0.019752718888471493\n",
      "norm D 820.7693156536269\n",
      "diag norm: 0.25365497677655136\n",
      "diag_diff: 0.2022900000208104\n",
      "rho * change E: 0.8682795153377847\n",
      "\n",
      "norm E 0.01968010805355201\n",
      "norm D 822.5834786110762\n",
      "diag norm: 0.25291446441616555\n",
      "diag_diff: 0.18589900978722998\n",
      "rho * change E: 0.5094591851189739\n",
      "\n",
      "norm E 0.01961555097741579\n",
      "norm D 823.7282427569456\n",
      "diag norm: 0.2522312363924962\n",
      "diag_diff: 0.17080100316132443\n",
      "rho * change E: 0.3847382326824022\n",
      "\n",
      "norm E 0.01955875325056567\n",
      "norm D 824.6199988760359\n",
      "diag norm: 0.2516304269824604\n",
      "diag_diff: 0.1569338249117169\n",
      "rho * change E: 0.32406710232377206\n",
      "\n",
      "norm E 0.019508979604271913\n",
      "norm D 825.3939544989711\n",
      "diag norm: 0.2511113044236907\n",
      "diag_diff: 0.14420856941621268\n",
      "rho * change E: 0.2857053689333017\n",
      "\n",
      "norm E 0.019465526389585337\n",
      "norm D 826.1027838452299\n",
      "diag norm: 0.2506666967439772\n",
      "diag_diff: 0.1325316740341074\n",
      "rho * change E: 0.25701980664175644\n",
      "\n",
      "norm E 0.01942784649535452\n",
      "norm D 826.7724066385929\n",
      "diag norm: 0.25028802419869767\n",
      "diag_diff: 0.1218193745454518\n",
      "rho * change E: 0.233241798420558\n",
      "\n",
      "norm E 0.01939521573275728\n",
      "norm D 827.4048899049754\n",
      "diag norm: 0.24996657216081528\n",
      "diag_diff: 0.11199216057356284\n",
      "rho * change E: 0.21232433516266377\n",
      "\n",
      "\n",
      "Evaluating with 1000 users\n",
      "Average Recall@20 0.488\n",
      "Average Recall@100 0.657\n",
      "Average nDCG@100 0.308\n",
      "Training model EDLAE with hyperparameters {'l2': 100000, 'rho': 1000, 'max_iterations': 10, 't': 2158}\n"
     ]
    },
    {
     "data": {
      "application/vnd.jupyter.widget-view+json": {
       "model_id": "6fc4dd55b7f2489795e8a65d7e0d7130",
       "version_major": 2,
       "version_minor": 0
      },
      "text/plain": [
       "HBox(children=(FloatProgress(value=0.0, max=10.0), HTML(value='')))"
      ]
     },
     "metadata": {},
     "output_type": "display_data"
    },
    {
     "name": "stdout",
     "output_type": "stream",
     "text": [
      "norm E 0.002054352171691666\n",
      "norm D 794.7171973374499\n",
      "diag norm: 0.025854874234362578\n",
      "diag_diff: 0.02574732328766684\n",
      "\n",
      "norm E 0.002064616065594511\n",
      "norm D 816.8103048421839\n",
      "diag norm: 0.0264316032570738\n",
      "diag_diff: 0.026102667153194235\n",
      "rho * change E: 0.2813359307131063\n",
      "\n",
      "norm E 0.0020640716931845157\n",
      "norm D 820.8880541908017\n",
      "diag norm: 0.0264538301532054\n",
      "diag_diff: 0.02589938856885792\n",
      "rho * change E: 0.0881246237383857\n",
      "\n",
      "norm E 0.0020624479267539785\n",
      "norm D 822.2952808825268\n",
      "diag norm: 0.02644080678498487\n",
      "diag_diff: 0.025661719855953342\n",
      "rho * change E: 0.046586151430797904\n",
      "\n",
      "norm E 0.0020605936508106717\n",
      "norm D 822.9438893945795\n",
      "diag norm: 0.026419889253736725\n",
      "diag_diff: 0.02541786097374513\n",
      "rho * change E: 0.029896714138051932\n",
      "\n",
      "norm E 0.002058676455022758\n",
      "norm D 823.2985856440345\n",
      "diag norm: 0.026396375307488413\n",
      "diag_diff: 0.025173367600855402\n",
      "rho * change E: 0.021480590632624315\n",
      "\n",
      "norm E 0.0020567444658306892\n",
      "norm D 823.5160922553665\n",
      "diag norm: 0.02637185230056374\n",
      "diag_diff: 0.024929891911581615\n",
      "rho * change E: 0.016636234167860035\n",
      "\n",
      "norm E 0.0020548171969257704\n",
      "norm D 823.6612680662635\n",
      "diag norm: 0.026346943972298486\n",
      "diag_diff: 0.024688094053182355\n",
      "rho * change E: 0.013603937014448298\n",
      "\n",
      "norm E 0.002052902158440449\n",
      "norm D 823.7649862401358\n",
      "diag norm: 0.02632193144163423\n",
      "diag_diff: 0.024448271696241905\n",
      "rho * change E: 0.011601560371191826\n",
      "\n",
      "norm E 0.002051002572385368\n",
      "norm D 823.843473172372\n",
      "diag norm: 0.026296955423552842\n",
      "diag_diff: 0.02421055944855543\n",
      "rho * change E: 0.010231159120174763\n",
      "\n",
      "\n",
      "Evaluating with 1000 users\n",
      "Average Recall@20 0.483\n",
      "Average Recall@100 0.642\n",
      "Average nDCG@100 0.303\n",
      "\n"
     ]
    }
   ],
   "source": [
    "score, best_hyperparams = evaluation.gridsearch(ALG, X, None, Xval_in, Xval_out, HYPERPARAMS)"
   ]
  },
  {
   "cell_type": "code",
   "execution_count": 8,
   "id": "2c057f9c",
   "metadata": {},
   "outputs": [
    {
     "data": {
      "text/plain": [
       "\"Best score of 0.3176079394875636 achieved with {'l2': 100, 'rho': 100, 'max_iterations': 10, 't': 2158}.\""
      ]
     },
     "execution_count": 8,
     "metadata": {},
     "output_type": "execute_result"
    }
   ],
   "source": [
    "f\"Best score of {score} achieved with {best_hyperparams}.\""
   ]
  },
  {
   "cell_type": "markdown",
   "id": "e89dad17",
   "metadata": {},
   "source": [
    "## Evaluate model with optimal hyperparams on test set"
   ]
  },
  {
   "cell_type": "code",
   "execution_count": 9,
   "id": "81674e0b",
   "metadata": {
    "scrolled": true
   },
   "outputs": [
    {
     "data": {
      "application/vnd.jupyter.widget-view+json": {
       "model_id": "6e1ae624988344748a28ecdd73d6bf40",
       "version_major": 2,
       "version_minor": 0
      },
      "text/plain": [
       "HBox(children=(FloatProgress(value=0.0, max=10.0), HTML(value='')))"
      ]
     },
     "metadata": {},
     "output_type": "display_data"
    },
    {
     "name": "stdout",
     "output_type": "stream",
     "text": [
      "norm E 0.8540658689662187\n",
      "norm D 768.6174482177636\n",
      "diag norm: 9.830977510781391\n",
      "diag_diff: 7.967230068941614\n",
      "\n",
      "norm E 0.7714912405517506\n",
      "norm D 799.4428338069232\n",
      "diag norm: 9.61318248468945\n",
      "diag_diff: 5.948271716308144\n",
      "rho * change E: 26.16694859681626\n",
      "\n",
      "norm E 0.7567456216890003\n",
      "norm D 808.4206168257815\n",
      "diag norm: 9.47282706544409\n",
      "diag_diff: 4.462545569094105\n",
      "rho * change E: 7.925632862009251\n",
      "\n",
      "norm E 0.7516310556322493\n",
      "norm D 812.5506490663702\n",
      "diag norm: 9.394334839252096\n",
      "diag_diff: 3.3843124279564742\n",
      "rho * change E: 4.271125786047628\n",
      "\n",
      "norm E 0.7507704632473109\n",
      "norm D 814.8319743997597\n",
      "diag norm: 9.347890400127822\n",
      "diag_diff: 2.593671718553114\n",
      "rho * change E: 2.7109846792029506\n",
      "\n",
      "norm E 0.7515291033223767\n",
      "norm D 816.2387489087622\n",
      "diag norm: 9.318527977107234\n",
      "diag_diff: 2.00758400005322\n",
      "rho * change E: 1.94852929228427\n",
      "\n",
      "norm E 0.752751381800342\n",
      "norm D 817.190430126148\n",
      "diag norm: 9.299115686841372\n",
      "diag_diff: 1.5683546908340567\n",
      "rho * change E: 1.5085125338732763\n",
      "\n",
      "norm E 0.7540153644930532\n",
      "norm D 817.8867000742567\n",
      "diag norm: 9.28599601066027\n",
      "diag_diff: 1.2359505046866233\n",
      "rho * change E: 1.2165905080310402\n",
      "\n",
      "norm E 0.7551742085446352\n",
      "norm D 818.3899518758752\n",
      "diag norm: 9.277049491327949\n",
      "diag_diff: 0.9820401042093575\n",
      "rho * change E: 1.0032027357228428\n",
      "\n",
      "norm E 0.7561858856797274\n",
      "norm D 818.7638232917074\n",
      "diag norm: 9.270935199324743\n",
      "diag_diff: 0.7863786785425586\n",
      "rho * change E: 0.8394049013811093\n",
      "\n",
      "\n",
      "CPU times: user 1h 16min 39s, sys: 10min 21s, total: 1h 27min 1s\n",
      "Wall time: 5min 59s\n"
     ]
    },
    {
     "data": {
      "text/plain": [
       "<teaser.algorithm.baseline.edlae.EDLAE at 0x7f6d046a54c0>"
      ]
     },
     "execution_count": 9,
     "metadata": {},
     "output_type": "execute_result"
    }
   ],
   "source": [
    "%%time\n",
    "alg = ALG(**best_hyperparams)\n",
    "alg.fit(X)"
   ]
  },
  {
   "cell_type": "code",
   "execution_count": 10,
   "id": "005a5a02",
   "metadata": {},
   "outputs": [
    {
     "name": "stdout",
     "output_type": "stream",
     "text": [
      "Performance on test set\n",
      "Evaluating with 1500 users\n",
      "Average Recall@20 0.487\n",
      "Average Recall@100 0.659\n",
      "Average nDCG@100 0.322\n"
     ]
    }
   ],
   "source": [
    "print(\"Performance on test set\")\n",
    "score = evaluation.eval(alg, Xtest_in, Xtest_out)"
   ]
  },
  {
   "cell_type": "markdown",
   "id": "9c1a9dea",
   "metadata": {},
   "source": [
    "## Plot amount of items from long tail recommended"
   ]
  },
  {
   "cell_type": "code",
   "execution_count": 11,
   "id": "95cc7884",
   "metadata": {},
   "outputs": [
    {
     "data": {
      "image/png": "[encoded data removed]",
      "text/plain": [
       "<Figure size 432x288 with 1 Axes>"
      ]
     },
     "metadata": {
      "needs_background": "light"
     },
     "output_type": "display_data"
    }
   ],
   "source": [
    "# evaluation.plot_long_tail(alg, Xtest_in=Xtest_in, Xtest_out=Xtest_out, labels=[\"EASE\", \"Test items\"], k=100)\n",
    "evaluation.plot_long_tail(alg, histories=Xtest_in, labels=[\"EDLAE\"], k=100)"
   ]
  }
 ],
 "metadata": {
  "kernelspec": {
   "display_name": "Python 3",
   "language": "python",
   "name": "python3"
  },
  "language_info": {
   "codemirror_mode": {
    "name": "ipython",
    "version": 3
   },
   "file_extension": ".py",
   "mimetype": "text/x-python",
   "name": "python",
   "nbconvert_exporter": "python",
   "pygments_lexer": "ipython3",
   "version": "3.8.10"
  }
 },
 "nbformat": 4,
 "nbformat_minor": 5
}
