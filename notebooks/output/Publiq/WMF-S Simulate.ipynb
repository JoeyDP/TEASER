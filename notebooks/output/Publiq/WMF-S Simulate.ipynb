{
 "cells": [
  {
   "cell_type": "code",
   "execution_count": 1,
   "id": "a65f4cb7",
   "metadata": {
    "execution": {
     "iopub.execute_input": "2022-01-21T14:04:06.447481Z",
     "iopub.status.busy": "2022-01-21T14:04:06.445868Z",
     "iopub.status.idle": "2022-01-21T14:04:06.462611Z",
     "shell.execute_reply": "2022-01-21T14:04:06.462068Z"
    }
   },
   "outputs": [],
   "source": [
    "%load_ext autoreload\n",
    "%autoreload 2"
   ]
  },
  {
   "cell_type": "markdown",
   "id": "55bab0c8",
   "metadata": {},
   "source": [
    "# Experiments with WMF-S model and simulated feedback"
   ]
  },
  {
   "cell_type": "code",
   "execution_count": 2,
   "id": "ec55d42c",
   "metadata": {
    "execution": {
     "iopub.execute_input": "2022-01-21T14:04:06.466600Z",
     "iopub.status.busy": "2022-01-21T14:04:06.465968Z",
     "iopub.status.idle": "2022-01-21T14:04:10.666042Z",
     "shell.execute_reply": "2022-01-21T14:04:10.665248Z"
    }
   },
   "outputs": [],
   "source": [
    "from pathlib import Path\n",
    "import numpy as np\n",
    "\n",
    "import teaser.util as util\n",
    "import teaser.evaluation as evaluation\n",
    "\n",
    "from teaser.algorithm.wmf_s import WMF_S"
   ]
  },
  {
   "cell_type": "markdown",
   "id": "c469b253",
   "metadata": {},
   "source": [
    "## Datasets"
   ]
  },
  {
   "cell_type": "code",
   "execution_count": 3,
   "id": "e0622ed1",
   "metadata": {
    "execution": {
     "iopub.execute_input": "2022-01-21T14:04:10.671635Z",
     "iopub.status.busy": "2022-01-21T14:04:10.670613Z",
     "iopub.status.idle": "2022-01-21T14:04:10.693642Z",
     "shell.execute_reply": "2022-01-21T14:04:10.694449Z"
    }
   },
   "outputs": [],
   "source": [
    "## Uncomment corresponding directory.\n",
    "# DATA_DIR = Path('../../data/ML20M/')\n",
    "# DATA_DIR = Path('../../data/Amazon Video Games/')\n",
    "DATA_DIR = Path('../../data/Publiq/')"
   ]
  },
  {
   "cell_type": "code",
   "execution_count": 4,
   "id": "d53bce36",
   "metadata": {
    "execution": {
     "iopub.execute_input": "2022-01-21T14:04:10.699884Z",
     "iopub.status.busy": "2022-01-21T14:04:10.698851Z",
     "iopub.status.idle": "2022-01-21T14:04:10.720491Z",
     "shell.execute_reply": "2022-01-21T14:04:10.721299Z"
    }
   },
   "outputs": [],
   "source": [
    "# Shouldn't need to change this info\n",
    "INTERACTIONS_TRAIN_PATH = DATA_DIR / 'interactions.train.csv'\n",
    "INTERACTIONS_VALIN_PATH = DATA_DIR / 'interactions.valin.csv'\n",
    "INTERACTIONS_VALOUT_PATH = DATA_DIR / 'interactions.valout.csv'\n",
    "INTERACTIONS_TESTIN_PATH = DATA_DIR / 'interactions.testin.csv'\n",
    "INTERACTIONS_TESTOUT_PATH = DATA_DIR / 'interactions.testout.csv'\n",
    "\n",
    "METADATA_PATH = DATA_DIR / 'features.csv'\n",
    "\n",
    "ITEM_ID = 'itemId'\n",
    "USER_ID = 'userId'"
   ]
  },
  {
   "cell_type": "markdown",
   "id": "48457625",
   "metadata": {},
   "source": [
    "## Define algorithm and hyperparameter ranges"
   ]
  },
  {
   "cell_type": "code",
   "execution_count": 5,
   "id": "11a5ac4c",
   "metadata": {
    "execution": {
     "iopub.execute_input": "2022-01-21T14:04:10.726681Z",
     "iopub.status.busy": "2022-01-21T14:04:10.725660Z",
     "iopub.status.idle": "2022-01-21T14:04:10.751850Z",
     "shell.execute_reply": "2022-01-21T14:04:10.752679Z"
    }
   },
   "outputs": [
    {
     "data": {
      "text/plain": [
       "{'l2': 2000, 'alpha': 10}"
      ]
     },
     "execution_count": 1,
     "metadata": {},
     "output_type": "execute_result"
    }
   ],
   "source": [
    "ALG = WMF_S\n",
    "\n",
    "# ML20M\n",
    "# L2 = 500\n",
    "# ALPHA = 10\n",
    "\n",
    "# AVG\n",
    "# L2 = 1\n",
    "# ALPHA = 150\n",
    "\n",
    "# Publiq\n",
    "L2 = 2000\n",
    "ALPHA = 10\n",
    "\n",
    "HYPERPARAMS = {'l2': L2, 'alpha': ALPHA}\n",
    "HYPERPARAMS"
   ]
  },
  {
   "cell_type": "markdown",
   "id": "32d25f41",
   "metadata": {},
   "source": [
    "## Parse data"
   ]
  },
  {
   "cell_type": "code",
   "execution_count": 6,
   "id": "ce0d0435",
   "metadata": {
    "execution": {
     "iopub.execute_input": "2022-01-21T14:04:10.758855Z",
     "iopub.status.busy": "2022-01-21T14:04:10.757801Z",
     "iopub.status.idle": "2022-01-21T14:04:18.638589Z",
     "shell.execute_reply": "2022-01-21T14:04:18.639812Z"
    }
   },
   "outputs": [],
   "source": [
    "S, tags = util.parse_metadata(METADATA_PATH, item_id=ITEM_ID)\n",
    "n, t = S.shape  # amount of items and tags\n",
    "\n",
    "X = util.parse_interactions(INTERACTIONS_TRAIN_PATH, item_id=ITEM_ID, user_id=USER_ID, shape_items=n)\n",
    "\n",
    "Xtest_in = util.parse_interactions(INTERACTIONS_TESTIN_PATH, item_id=ITEM_ID, user_id=USER_ID, shape_items=n)\n",
    "Xtest_out = util.parse_interactions(INTERACTIONS_TESTOUT_PATH, item_id=ITEM_ID, user_id=USER_ID, shape_items=n)"
   ]
  },
  {
   "cell_type": "code",
   "execution_count": 7,
   "id": "fcfaf306",
   "metadata": {
    "execution": {
     "iopub.execute_input": "2022-01-21T14:04:18.647273Z",
     "iopub.status.busy": "2022-01-21T14:04:18.645855Z",
     "iopub.status.idle": "2022-01-21T14:04:18.673197Z",
     "shell.execute_reply": "2022-01-21T14:04:18.674415Z"
    }
   },
   "outputs": [],
   "source": [
    "# # debug\n",
    "# d_items = 1000\n",
    "# S = S[:d_items,:]\n",
    "# tags = tags[:d_items]\n",
    "# X = X[:,:d_items]\n",
    "# Xtest_in = Xtest_in[:,:d_items]\n",
    "# Xtest_out = Xtest_out[:,:d_items]"
   ]
  },
  {
   "cell_type": "markdown",
   "id": "e89dad17",
   "metadata": {},
   "source": [
    "## Evaluate model with optimal hyperparams on test set"
   ]
  },
  {
   "cell_type": "code",
   "execution_count": 8,
   "id": "81674e0b",
   "metadata": {
    "execution": {
     "iopub.execute_input": "2022-01-21T14:04:18.681624Z",
     "iopub.status.busy": "2022-01-21T14:04:18.680085Z",
     "iopub.status.idle": "2022-01-21T14:04:19.357612Z",
     "shell.execute_reply": "2022-01-21T14:04:19.357123Z"
    },
    "scrolled": true
   },
   "outputs": [
    {
     "name": "stdout",
     "output_type": "stream",
     "text": [
      "CPU times: user 9.76 s, sys: 2.94 s, total: 12.7 s\n",
      "Wall time: 656 ms\n"
     ]
    },
    {
     "data": {
      "text/plain": [
       "<teaser.algorithm.wmf_s.WMF_S at 0x7fdc24540128>"
      ]
     },
     "execution_count": 1,
     "metadata": {},
     "output_type": "execute_result"
    }
   ],
   "source": [
    "%%time\n",
    "alg = ALG(**HYPERPARAMS)\n",
    "alg.fit(X, S)"
   ]
  },
  {
   "cell_type": "code",
   "execution_count": 9,
   "id": "33fa826c",
   "metadata": {
    "execution": {
     "iopub.execute_input": "2022-01-21T14:04:19.361625Z",
     "iopub.status.busy": "2022-01-21T14:04:19.361073Z",
     "iopub.status.idle": "2022-01-21T14:06:12.205955Z",
     "shell.execute_reply": "2022-01-21T14:06:12.205305Z"
    }
   },
   "outputs": [
    {
     "name": "stdout",
     "output_type": "stream",
     "text": [
      "Performance on test set with simulation\n",
      "Pos feedback count: 1 with strength (out of 5): 3\n",
      "Evaluating with 1500 users\n",
      "Average Recall@20 0.394\n",
      "Average Recall@100 0.629\n",
      "Average nDCG@100 0.261\n",
      "\n",
      "Pos feedback count: 2 with strength (out of 5): 3\n",
      "Evaluating with 1500 users\n",
      "Average Recall@20 0.5\n",
      "Average Recall@100 0.732\n",
      "Average nDCG@100 0.336\n",
      "\n"
     ]
    }
   ],
   "source": [
    "print(\"Performance on test set with simulation\")\n",
    "for POS_FEEDBACK in [1, 2]:\n",
    "    for STRENGTH in [3]:\n",
    "        print(\"Pos feedback count:\", POS_FEEDBACK, \"with strength (out of 5):\", STRENGTH)\n",
    "        score = evaluation.simulate(alg, Xtest_in, Xtest_out, S, pos_feedback=POS_FEEDBACK, strength=STRENGTH, repeats=3)\n",
    "    print()"
   ]
  }
 ],
 "metadata": {
  "kernelspec": {
   "display_name": "Python 3",
   "language": "python",
   "name": "python3"
  },
  "language_info": {
   "codemirror_mode": {
    "name": "ipython",
    "version": 3
   },
   "file_extension": ".py",
   "mimetype": "text/x-python",
   "name": "python",
   "nbconvert_exporter": "python",
   "pygments_lexer": "ipython3",
   "version": "3.8.10"
  }
 },
 "nbformat": 4,
 "nbformat_minor": 5
}
