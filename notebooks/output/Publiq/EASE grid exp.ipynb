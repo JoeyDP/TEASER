{
 "cells": [
  {
   "cell_type": "code",
   "execution_count": 1,
   "id": "9ef88bc4",
   "metadata": {},
   "outputs": [],
   "source": [
    "# %load_ext autoreload\n",
    "# %autoreload 2"
   ]
  },
  {
   "cell_type": "markdown",
   "id": "55bab0c8",
   "metadata": {},
   "source": [
    "# Experiments with EASE model"
   ]
  },
  {
   "cell_type": "code",
   "execution_count": 2,
   "id": "ec55d42c",
   "metadata": {},
   "outputs": [],
   "source": [
    "from pathlib import Path\n",
    "\n",
    "import teaser.util as util\n",
    "import teaser.evaluation as evaluation\n",
    "\n",
    "from teaser.algorithm.baseline.ease import EASE"
   ]
  },
  {
   "cell_type": "markdown",
   "id": "c469b253",
   "metadata": {},
   "source": [
    "## Datasets"
   ]
  },
  {
   "cell_type": "code",
   "execution_count": 3,
   "id": "e0622ed1",
   "metadata": {},
   "outputs": [],
   "source": [
    "## Uncomment corresponding directory.\n",
    "# DATA_DIR = Path('../../data/ML20M/')\n",
    "# DATA_DIR = Path('../../data/Amazon Video Games/')\n",
    "DATA_DIR = Path('../../data/Publiq/')"
   ]
  },
  {
   "cell_type": "code",
   "execution_count": 4,
   "id": "d53bce36",
   "metadata": {},
   "outputs": [],
   "source": [
    "# Shouldn't need to change this info\n",
    "INTERACTIONS_TRAIN_PATH = DATA_DIR / 'interactions.train.csv'\n",
    "INTERACTIONS_VALIN_PATH = DATA_DIR / 'interactions.valin.csv'\n",
    "INTERACTIONS_VALOUT_PATH = DATA_DIR / 'interactions.valout.csv'\n",
    "INTERACTIONS_TESTIN_PATH = DATA_DIR / 'interactions.testin.csv'\n",
    "INTERACTIONS_TESTOUT_PATH = DATA_DIR / 'interactions.testout.csv'\n",
    "\n",
    "METADATA_PATH = DATA_DIR / 'features.csv'\n",
    "\n",
    "ITEM_ID = 'itemId'\n",
    "USER_ID = 'userId'"
   ]
  },
  {
   "cell_type": "markdown",
   "id": "48457625",
   "metadata": {},
   "source": [
    "## Define algorithm and hyperparameter ranges"
   ]
  },
  {
   "cell_type": "code",
   "execution_count": 5,
   "id": "11a5ac4c",
   "metadata": {},
   "outputs": [
    {
     "data": {
      "text/plain": [
       "{'l2': [10, 100, 1000, 10000, 100000]}"
      ]
     },
     "execution_count": 5,
     "metadata": {},
     "output_type": "execute_result"
    }
   ],
   "source": [
    "ALG = EASE\n",
    "\n",
    "L2 = [10 ** p for p in range(1, 6)]\n",
    "# L2 = [500, 1000, 1500, 2000, 5000]\n",
    "HYPERPARAMS = {'l2': L2}\n",
    "HYPERPARAMS"
   ]
  },
  {
   "cell_type": "markdown",
   "id": "32d25f41",
   "metadata": {},
   "source": [
    "## Parse data"
   ]
  },
  {
   "cell_type": "code",
   "execution_count": 6,
   "id": "ce0d0435",
   "metadata": {},
   "outputs": [],
   "source": [
    "S, tags = util.parse_metadata(METADATA_PATH, item_id=ITEM_ID)\n",
    "n, t = S.shape  # amount of items and tags\n",
    "del S, tags\n",
    "\n",
    "X = util.parse_interactions(INTERACTIONS_TRAIN_PATH, item_id=ITEM_ID, user_id=USER_ID, shape_items=n)\n",
    "\n",
    "Xval_in = util.parse_interactions(INTERACTIONS_VALIN_PATH, item_id=ITEM_ID, user_id=USER_ID, shape_items=n)\n",
    "Xval_out = util.parse_interactions(INTERACTIONS_VALOUT_PATH, item_id=ITEM_ID, user_id=USER_ID, shape_items=n)\n",
    "Xtest_in = util.parse_interactions(INTERACTIONS_TESTIN_PATH, item_id=ITEM_ID, user_id=USER_ID, shape_items=n)\n",
    "Xtest_out = util.parse_interactions(INTERACTIONS_TESTOUT_PATH, item_id=ITEM_ID, user_id=USER_ID, shape_items=n)"
   ]
  },
  {
   "cell_type": "markdown",
   "id": "fc85ffb4",
   "metadata": {},
   "source": [
    "## Perform gridsearch on validation set"
   ]
  },
  {
   "cell_type": "code",
   "execution_count": 7,
   "id": "36a9347a",
   "metadata": {},
   "outputs": [
    {
     "data": {
      "application/vnd.jupyter.widget-view+json": {
       "model_id": "c58d5b07c8e7463bba41d8685236ab36",
       "version_major": 2,
       "version_minor": 0
      },
      "text/plain": [
       "HBox(children=(FloatProgress(value=0.0, max=5.0), HTML(value='')))"
      ]
     },
     "metadata": {},
     "output_type": "display_data"
    },
    {
     "name": "stdout",
     "output_type": "stream",
     "text": [
      "Training model EASE with hyperparameters {'l2': 10}\n",
      "Evaluating with 1000 users\n",
      "Average Recall@20 0.492\n",
      "Average Recall@100 0.631\n",
      "Average nDCG@100 0.325\n",
      "Training model EASE with hyperparameters {'l2': 100}\n",
      "Evaluating with 1000 users\n",
      "Average Recall@20 0.509\n",
      "Average Recall@100 0.648\n",
      "Average nDCG@100 0.32\n",
      "Training model EASE with hyperparameters {'l2': 1000}\n",
      "Evaluating with 1000 users\n",
      "Average Recall@20 0.5\n",
      "Average Recall@100 0.647\n",
      "Average nDCG@100 0.312\n",
      "Training model EASE with hyperparameters {'l2': 10000}\n",
      "Evaluating with 1000 users\n",
      "Average Recall@20 0.497\n",
      "Average Recall@100 0.647\n",
      "Average nDCG@100 0.309\n",
      "Training model EASE with hyperparameters {'l2': 100000}\n",
      "Evaluating with 1000 users\n",
      "Average Recall@20 0.497\n",
      "Average Recall@100 0.647\n",
      "Average nDCG@100 0.309\n",
      "\n"
     ]
    },
    {
     "data": {
      "text/plain": [
       "\"Best score of 0.32532087958051775 achieved with {'l2': 10}.\""
      ]
     },
     "execution_count": 7,
     "metadata": {},
     "output_type": "execute_result"
    }
   ],
   "source": [
    "score, best_hyperparams = evaluation.gridsearch(ALG, X, None, Xval_in, Xval_out, HYPERPARAMS)\n",
    "f\"Best score of {score} achieved with {best_hyperparams}.\""
   ]
  },
  {
   "cell_type": "markdown",
   "id": "e89dad17",
   "metadata": {},
   "source": [
    "## Evaluate model with optimal hyperparams on test set"
   ]
  },
  {
   "cell_type": "code",
   "execution_count": 8,
   "id": "81674e0b",
   "metadata": {},
   "outputs": [
    {
     "name": "stdout",
     "output_type": "stream",
     "text": [
      "CPU times: user 22min 30s, sys: 1min 14s, total: 23min 45s\n",
      "Wall time: 1min 37s\n"
     ]
    }
   ],
   "source": [
    "%%time\n",
    "alg = ALG(**best_hyperparams)\n",
    "alg = alg.fit(X)"
   ]
  },
  {
   "cell_type": "code",
   "execution_count": 9,
   "id": "d69277a1",
   "metadata": {},
   "outputs": [
    {
     "name": "stdout",
     "output_type": "stream",
     "text": [
      "Performance on test set\n",
      "Evaluating with 1500 users\n",
      "Average Recall@20 0.481\n",
      "Average Recall@100 0.639\n",
      "Average nDCG@100 0.329\n"
     ]
    }
   ],
   "source": [
    "print(\"Performance on test set\")\n",
    "score = evaluation.eval(alg, Xtest_in, Xtest_out)"
   ]
  },
  {
   "cell_type": "markdown",
   "id": "09c71a1a",
   "metadata": {},
   "source": [
    "## Plot amount of items from long tail recommended"
   ]
  },
  {
   "cell_type": "code",
   "execution_count": 10,
   "id": "74064148",
   "metadata": {},
   "outputs": [
    {
     "data": {
      "image/png": "[encoded data removed]",
      "text/plain": [
       "<Figure size 432x288 with 1 Axes>"
      ]
     },
     "metadata": {
      "needs_background": "light"
     },
     "output_type": "display_data"
    }
   ],
   "source": [
    "# evaluation.plot_long_tail(alg, Xtest_in=Xtest_in, Xtest_out=Xtest_out, labels=[\"EASE\", \"Test items\"], k=100)\n",
    "evaluation.plot_long_tail(alg, histories=Xtest_in, labels=[\"EASE\"], k=100)"
   ]
  }
 ],
 "metadata": {
  "kernelspec": {
   "display_name": "Python 3",
   "language": "python",
   "name": "python3"
  },
  "language_info": {
   "codemirror_mode": {
    "name": "ipython",
    "version": 3
   },
   "file_extension": ".py",
   "mimetype": "text/x-python",
   "name": "python",
   "nbconvert_exporter": "python",
   "pygments_lexer": "ipython3",
   "version": "3.8.10"
  }
 },
 "nbformat": 4,
 "nbformat_minor": 5
}
