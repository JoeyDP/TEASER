{
 "cells": [
  {
   "cell_type": "code",
   "execution_count": 1,
   "id": "a65f4cb7",
   "metadata": {
    "execution": {
     "iopub.execute_input": "2022-01-21T15:33:11.570905Z",
     "iopub.status.busy": "2022-01-21T15:33:11.568902Z",
     "iopub.status.idle": "2022-01-21T15:33:11.585977Z",
     "shell.execute_reply": "2022-01-21T15:33:11.585027Z"
    }
   },
   "outputs": [],
   "source": [
    "%load_ext autoreload\n",
    "%autoreload 2"
   ]
  },
  {
   "cell_type": "markdown",
   "id": "55bab0c8",
   "metadata": {},
   "source": [
    "# Experiments with TEASER-EASE model and simulated feedback"
   ]
  },
  {
   "cell_type": "code",
   "execution_count": 2,
   "id": "ec55d42c",
   "metadata": {
    "execution": {
     "iopub.execute_input": "2022-01-21T15:33:11.590334Z",
     "iopub.status.busy": "2022-01-21T15:33:11.589696Z",
     "iopub.status.idle": "2022-01-21T15:33:13.377182Z",
     "shell.execute_reply": "2022-01-21T15:33:13.376604Z"
    }
   },
   "outputs": [],
   "source": [
    "from pathlib import Path\n",
    "import numpy as np\n",
    "\n",
    "import teaser.util as util\n",
    "import teaser.evaluation as evaluation\n",
    "\n",
    "from teaser.algorithm.teaser_ease import TEASER_EASE"
   ]
  },
  {
   "cell_type": "markdown",
   "id": "c469b253",
   "metadata": {},
   "source": [
    "## Datasets"
   ]
  },
  {
   "cell_type": "code",
   "execution_count": 3,
   "id": "e0622ed1",
   "metadata": {
    "execution": {
     "iopub.execute_input": "2022-01-21T15:33:13.382348Z",
     "iopub.status.busy": "2022-01-21T15:33:13.381426Z",
     "iopub.status.idle": "2022-01-21T15:33:13.404725Z",
     "shell.execute_reply": "2022-01-21T15:33:13.403751Z"
    }
   },
   "outputs": [],
   "source": [
    "## Uncomment corresponding directory.\n",
    "# DATA_DIR = Path('../../data/ML20M/')\n",
    "# DATA_DIR = Path('../../data/Amazon Video Games/')\n",
    "DATA_DIR = Path('../../data/Publiq/')"
   ]
  },
  {
   "cell_type": "code",
   "execution_count": 4,
   "id": "d53bce36",
   "metadata": {
    "execution": {
     "iopub.execute_input": "2022-01-21T15:33:13.410634Z",
     "iopub.status.busy": "2022-01-21T15:33:13.409474Z",
     "iopub.status.idle": "2022-01-21T15:33:13.430677Z",
     "shell.execute_reply": "2022-01-21T15:33:13.430070Z"
    }
   },
   "outputs": [],
   "source": [
    "# Shouldn't need to change this info\n",
    "INTERACTIONS_TRAIN_PATH = DATA_DIR / 'interactions.train.csv'\n",
    "INTERACTIONS_VALIN_PATH = DATA_DIR / 'interactions.valin.csv'\n",
    "INTERACTIONS_VALOUT_PATH = DATA_DIR / 'interactions.valout.csv'\n",
    "INTERACTIONS_TESTIN_PATH = DATA_DIR / 'interactions.testin.csv'\n",
    "INTERACTIONS_TESTOUT_PATH = DATA_DIR / 'interactions.testout.csv'\n",
    "\n",
    "METADATA_PATH = DATA_DIR / 'features.csv'\n",
    "\n",
    "ITEM_ID = 'itemId'\n",
    "USER_ID = 'userId'"
   ]
  },
  {
   "cell_type": "markdown",
   "id": "48457625",
   "metadata": {},
   "source": [
    "## Define algorithm and hyperparameter ranges"
   ]
  },
  {
   "cell_type": "code",
   "execution_count": 5,
   "id": "11a5ac4c",
   "metadata": {
    "execution": {
     "iopub.execute_input": "2022-01-21T15:33:13.436534Z",
     "iopub.status.busy": "2022-01-21T15:33:13.435470Z",
     "iopub.status.idle": "2022-01-21T15:33:13.461695Z",
     "shell.execute_reply": "2022-01-21T15:33:13.460455Z"
    }
   },
   "outputs": [
    {
     "data": {
      "text/plain": [
       "{'l2_ease': 10,\n",
       " 'l2_1': 500,\n",
       " 'l2_2': 50000,\n",
       " 'rho': 1000,\n",
       " 'delta': 0,\n",
       " 'max_iterations': 10}"
      ]
     },
     "execution_count": 1,
     "metadata": {},
     "output_type": "execute_result"
    }
   ],
   "source": [
    "ALG = TEASER_EASE\n",
    "\n",
    "# ML20M\n",
    "# L2_EASE = 500\n",
    "# L2_1 = 100\n",
    "# L2_2 = 100000000\n",
    "# RHO = 100\n",
    "# DELTA = 0\n",
    "# MAX_ITER = 10\n",
    "\n",
    "# AVG\n",
    "# L2_EASE = 100\n",
    "# L2_1 = 500\n",
    "# L2_2 = 2000\n",
    "# RHO = 10000\n",
    "# DELTA = 0\n",
    "# MAX_ITER = 15\n",
    "\n",
    "# Publiq\n",
    "L2_EASE = 10\n",
    "L2_1 = 500\n",
    "L2_2 = 50000\n",
    "RHO = 1000\n",
    "DELTA = 0\n",
    "MAX_ITER = 10\n",
    "\n",
    "HYPERPARAMS = {'l2_ease': L2_EASE, 'l2_1': L2_1, 'l2_2': L2_2, 'rho': RHO, 'delta': DELTA,'max_iterations': MAX_ITER}\n",
    "HYPERPARAMS"
   ]
  },
  {
   "cell_type": "markdown",
   "id": "32d25f41",
   "metadata": {},
   "source": [
    "## Parse data"
   ]
  },
  {
   "cell_type": "code",
   "execution_count": 6,
   "id": "ce0d0435",
   "metadata": {
    "execution": {
     "iopub.execute_input": "2022-01-21T15:33:13.468785Z",
     "iopub.status.busy": "2022-01-21T15:33:13.467532Z",
     "iopub.status.idle": "2022-01-21T15:33:21.389256Z",
     "shell.execute_reply": "2022-01-21T15:33:21.390002Z"
    }
   },
   "outputs": [],
   "source": [
    "S, tags = util.parse_metadata(METADATA_PATH, item_id=ITEM_ID)\n",
    "n, t = S.shape  # amount of items and tags\n",
    "\n",
    "X = util.parse_interactions(INTERACTIONS_TRAIN_PATH, item_id=ITEM_ID, user_id=USER_ID, shape_items=n)\n",
    "\n",
    "Xtest_in = util.parse_interactions(INTERACTIONS_TESTIN_PATH, item_id=ITEM_ID, user_id=USER_ID, shape_items=n)\n",
    "Xtest_out = util.parse_interactions(INTERACTIONS_TESTOUT_PATH, item_id=ITEM_ID, user_id=USER_ID, shape_items=n)"
   ]
  },
  {
   "cell_type": "code",
   "execution_count": 7,
   "id": "fcfaf306",
   "metadata": {
    "execution": {
     "iopub.execute_input": "2022-01-21T15:33:21.394822Z",
     "iopub.status.busy": "2022-01-21T15:33:21.394166Z",
     "iopub.status.idle": "2022-01-21T15:33:21.424959Z",
     "shell.execute_reply": "2022-01-21T15:33:21.423945Z"
    }
   },
   "outputs": [],
   "source": [
    "# # debug\n",
    "# d_items = 1000\n",
    "# S = S[:d_items,:]\n",
    "# tags = tags[:d_items]\n",
    "# X = X[:,:d_items]\n",
    "# Xtest_in = Xtest_in[:,:d_items]\n",
    "# Xtest_out = Xtest_out[:,:d_items]"
   ]
  },
  {
   "cell_type": "markdown",
   "id": "e89dad17",
   "metadata": {},
   "source": [
    "## Evaluate model with optimal hyperparams on test set"
   ]
  },
  {
   "cell_type": "code",
   "execution_count": 8,
   "id": "81674e0b",
   "metadata": {
    "execution": {
     "iopub.execute_input": "2022-01-21T15:33:21.429863Z",
     "iopub.status.busy": "2022-01-21T15:33:21.429224Z",
     "iopub.status.idle": "2022-01-21T15:41:43.786958Z",
     "shell.execute_reply": "2022-01-21T15:41:43.786525Z"
    },
    "scrolled": true
   },
   "outputs": [
    {
     "name": "stdout",
     "output_type": "stream",
     "text": [
      "Decompose XTX\n",
      "Decompose DTD\n"
     ]
    },
    {
     "data": {
      "application/vnd.jupyter.widget-view+json": {
       "model_id": "94f5d8d576dc49c28a9e0fdf9cc91733",
       "version_major": 2,
       "version_minor": 0
      },
      "text/plain": [
       "HBox(children=(FloatProgress(value=0.0, max=10.0), HTML(value='')))"
      ]
     },
     "metadata": {},
     "output_type": "display_data"
    },
    {
     "name": "stdout",
     "output_type": "stream",
     "text": [
      "norm E 0.07669366399801096\n",
      "diag norm: 0.18003174226815033\n",
      "diag_diff: 0.18003174226815033\n",
      "\r\n",
      "norm E 0.0731307986138746\n",
      "diag norm: 0.16779351583014077\n",
      "diag_diff: 0.16779308035476556\n",
      "rho * change E: 4.513214418564987\n",
      "\r\n",
      "norm E 0.06990921250416259\n",
      "diag norm: 0.15674290682466535\n",
      "diag_diff: 0.15674123245897487\n",
      "rho * change E: 4.133515514214311\n",
      "\r\n",
      "norm E 0.06699078068409459\n",
      "diag norm: 0.14672511022107898\n",
      "diag_diff: 0.1466787519676885\n",
      "rho * change E: 3.798050927815055\n",
      "\r\n",
      "norm E 0.06434520804365418\n",
      "diag norm: 0.13762011870698282\n",
      "diag_diff: 0.1370656915374678\n",
      "rho * change E: 3.497286529397503\n",
      "\r\n",
      "norm E 0.061968074851912504\n",
      "diag norm: 0.12943905556136567\n",
      "diag_diff: 0.12821699593648236\n",
      "rho * change E: 3.204209541940055\n",
      "\r\n",
      "norm E 0.05983058258268388\n",
      "diag norm: 0.12208268209370003\n",
      "diag_diff: 0.12015329602211003\n",
      "rho * change E: 2.9506211138578173\n",
      "\r\n",
      "norm E 0.0579036123436321\n",
      "diag norm: 0.11544427980279477\n",
      "diag_diff: 0.11250869463629783\n",
      "rho * change E: 2.716259068729214\n",
      "\r\n",
      "norm E 0.05618354624872604\n",
      "diag norm: 0.10949831928035902\n",
      "diag_diff: 0.10581040065633858\n",
      "rho * change E: 2.496847807417683\n",
      "\r\n",
      "norm E 0.05462627338846514\n",
      "diag norm: 0.10409370888258691\n",
      "diag_diff: 0.09911361141353742\n",
      "rho * change E: 2.3190358581077755\n",
      "\r\n",
      "\n",
      "Fitting EASE\n",
      "CPU times: user 3h 18min 33s, sys: 33min 33s, total: 3h 52min 6s\n",
      "Wall time: 8min 22s\n"
     ]
    },
    {
     "data": {
      "text/plain": [
       "<teaser.algorithm.teaser_ease.TEASER_EASE at 0x7fa383ab04e0>"
      ]
     },
     "execution_count": 1,
     "metadata": {},
     "output_type": "execute_result"
    }
   ],
   "source": [
    "%%time\n",
    "alg = ALG(**HYPERPARAMS)\n",
    "alg.fit(X, S)"
   ]
  },
  {
   "cell_type": "code",
   "execution_count": 9,
   "id": "33b6aadc",
   "metadata": {
    "execution": {
     "iopub.execute_input": "2022-01-21T15:41:43.791519Z",
     "iopub.status.busy": "2022-01-21T15:41:43.790864Z",
     "iopub.status.idle": "2022-01-21T15:42:07.263436Z",
     "shell.execute_reply": "2022-01-21T15:42:07.263002Z"
    }
   },
   "outputs": [
    {
     "name": "stdout",
     "output_type": "stream",
     "text": [
      "Performance on test set with simulation\n",
      "Pos feedback count: 1 with strength (out of 5): 3\n",
      "Evaluating with 1500 users\n",
      "Average Recall@20 0.541\n",
      "Average Recall@100 0.665\n",
      "Average nDCG@100 0.356\n",
      "\n",
      "Pos feedback count: 2 with strength (out of 5): 3\n",
      "Evaluating with 1500 users\n",
      "Average Recall@20 0.566\n",
      "Average Recall@100 0.671\n",
      "Average nDCG@100 0.375\n",
      "\n"
     ]
    }
   ],
   "source": [
    "print(\"Performance on test set with simulation\")\n",
    "for POS_FEEDBACK in [1, 2]:\n",
    "    for STRENGTH in [3]:\n",
    "        print(\"Pos feedback count:\", POS_FEEDBACK, \"with strength (out of 5):\", STRENGTH)\n",
    "        score = evaluation.simulate(alg, Xtest_in, Xtest_out, S, pos_feedback=POS_FEEDBACK, strength=STRENGTH, repeats=3)\n",
    "    print()"
   ]
  }
 ],
 "metadata": {
  "kernelspec": {
   "display_name": "Python 3",
   "language": "python",
   "name": "python3"
  },
  "language_info": {
   "codemirror_mode": {
    "name": "ipython",
    "version": 3
   },
   "file_extension": ".py",
   "mimetype": "text/x-python",
   "name": "python",
   "nbconvert_exporter": "python",
   "pygments_lexer": "ipython3",
   "version": "3.6.9"
  },
  "widgets": {
   "application/vnd.jupyter.widget-state+json": {
    "state": {
     "1ace06c6ff7541a88e2b294616e644a0": {
      "model_module": "@jupyter-widgets/base",
      "model_module_version": "1.2.0",
      "model_name": "LayoutModel",
      "state": {
       "_model_module": "@jupyter-widgets/base",
       "_model_module_version": "1.2.0",
       "_model_name": "LayoutModel",
       "_view_count": null,
       "_view_module": "@jupyter-widgets/base",
       "_view_module_version": "1.2.0",
       "_view_name": "LayoutView",
       "align_content": null,
       "align_items": null,
       "align_self": null,
       "border": null,
       "bottom": null,
       "display": null,
       "flex": null,
       "flex_flow": null,
       "grid_area": null,
       "grid_auto_columns": null,
       "grid_auto_flow": null,
       "grid_auto_rows": null,
       "grid_column": null,
       "grid_gap": null,
       "grid_row": null,
       "grid_template_areas": null,
       "grid_template_columns": null,
       "grid_template_rows": null,
       "height": null,
       "justify_content": null,
       "justify_items": null,
       "left": null,
       "margin": null,
       "max_height": null,
       "max_width": null,
       "min_height": null,
       "min_width": null,
       "object_fit": null,
       "object_position": null,
       "order": null,
       "overflow": null,
       "overflow_x": null,
       "overflow_y": null,
       "padding": null,
       "right": null,
       "top": null,
       "visibility": null,
       "width": null
      }
     },
     "388045a7e8744983817b040aa5f8f660": {
      "model_module": "@jupyter-widgets/controls",
      "model_module_version": "1.5.0",
      "model_name": "DescriptionStyleModel",
      "state": {
       "_model_module": "@jupyter-widgets/controls",
       "_model_module_version": "1.5.0",
       "_model_name": "DescriptionStyleModel",
       "_view_count": null,
       "_view_module": "@jupyter-widgets/base",
       "_view_module_version": "1.2.0",
       "_view_name": "StyleView",
       "description_width": ""
      }
     },
     "5e3fcda56bf64093807b4afd620b2ef1": {
      "model_module": "@jupyter-widgets/controls",
      "model_module_version": "1.5.0",
      "model_name": "HTMLModel",
      "state": {
       "_dom_classes": [],
       "_model_module": "@jupyter-widgets/controls",
       "_model_module_version": "1.5.0",
       "_model_name": "HTMLModel",
       "_view_count": null,
       "_view_module": "@jupyter-widgets/controls",
       "_view_module_version": "1.5.0",
       "_view_name": "HTMLView",
       "description": "",
       "description_tooltip": null,
       "layout": "IPY_MODEL_1ace06c6ff7541a88e2b294616e644a0",
       "placeholder": "​",
       "style": "IPY_MODEL_388045a7e8744983817b040aa5f8f660",
       "value": " 10/10 [04:16&lt;00:00, 25.62s/it]"
      }
     },
     "89235a43cdf041e6a1d4aca45adf3ee4": {
      "model_module": "@jupyter-widgets/base",
      "model_module_version": "1.2.0",
      "model_name": "LayoutModel",
      "state": {
       "_model_module": "@jupyter-widgets/base",
       "_model_module_version": "1.2.0",
       "_model_name": "LayoutModel",
       "_view_count": null,
       "_view_module": "@jupyter-widgets/base",
       "_view_module_version": "1.2.0",
       "_view_name": "LayoutView",
       "align_content": null,
       "align_items": null,
       "align_self": null,
       "border": null,
       "bottom": null,
       "display": null,
       "flex": null,
       "flex_flow": null,
       "grid_area": null,
       "grid_auto_columns": null,
       "grid_auto_flow": null,
       "grid_auto_rows": null,
       "grid_column": null,
       "grid_gap": null,
       "grid_row": null,
       "grid_template_areas": null,
       "grid_template_columns": null,
       "grid_template_rows": null,
       "height": null,
       "justify_content": null,
       "justify_items": null,
       "left": null,
       "margin": null,
       "max_height": null,
       "max_width": null,
       "min_height": null,
       "min_width": null,
       "object_fit": null,
       "object_position": null,
       "order": null,
       "overflow": null,
       "overflow_x": null,
       "overflow_y": null,
       "padding": null,
       "right": null,
       "top": null,
       "visibility": null,
       "width": null
      }
     },
     "94f5d8d576dc49c28a9e0fdf9cc91733": {
      "model_module": "@jupyter-widgets/controls",
      "model_module_version": "1.5.0",
      "model_name": "HBoxModel",
      "state": {
       "_dom_classes": [],
       "_model_module": "@jupyter-widgets/controls",
       "_model_module_version": "1.5.0",
       "_model_name": "HBoxModel",
       "_view_count": null,
       "_view_module": "@jupyter-widgets/controls",
       "_view_module_version": "1.5.0",
       "_view_name": "HBoxView",
       "box_style": "",
       "children": [
        "IPY_MODEL_d07900f5a64447b09d15d7188f77b3ff",
        "IPY_MODEL_5e3fcda56bf64093807b4afd620b2ef1"
       ],
       "layout": "IPY_MODEL_89235a43cdf041e6a1d4aca45adf3ee4"
      }
     },
     "a89212c1ccea43fda54cb1471bd04819": {
      "model_module": "@jupyter-widgets/controls",
      "model_module_version": "1.5.0",
      "model_name": "ProgressStyleModel",
      "state": {
       "_model_module": "@jupyter-widgets/controls",
       "_model_module_version": "1.5.0",
       "_model_name": "ProgressStyleModel",
       "_view_count": null,
       "_view_module": "@jupyter-widgets/base",
       "_view_module_version": "1.2.0",
       "_view_name": "StyleView",
       "bar_color": null,
       "description_width": "initial"
      }
     },
     "cbf23eb9c0f248349285226f588be171": {
      "model_module": "@jupyter-widgets/base",
      "model_module_version": "1.2.0",
      "model_name": "LayoutModel",
      "state": {
       "_model_module": "@jupyter-widgets/base",
       "_model_module_version": "1.2.0",
       "_model_name": "LayoutModel",
       "_view_count": null,
       "_view_module": "@jupyter-widgets/base",
       "_view_module_version": "1.2.0",
       "_view_name": "LayoutView",
       "align_content": null,
       "align_items": null,
       "align_self": null,
       "border": null,
       "bottom": null,
       "display": null,
       "flex": null,
       "flex_flow": null,
       "grid_area": null,
       "grid_auto_columns": null,
       "grid_auto_flow": null,
       "grid_auto_rows": null,
       "grid_column": null,
       "grid_gap": null,
       "grid_row": null,
       "grid_template_areas": null,
       "grid_template_columns": null,
       "grid_template_rows": null,
       "height": null,
       "justify_content": null,
       "justify_items": null,
       "left": null,
       "margin": null,
       "max_height": null,
       "max_width": null,
       "min_height": null,
       "min_width": null,
       "object_fit": null,
       "object_position": null,
       "order": null,
       "overflow": null,
       "overflow_x": null,
       "overflow_y": null,
       "padding": null,
       "right": null,
       "top": null,
       "visibility": null,
       "width": null
      }
     },
     "d07900f5a64447b09d15d7188f77b3ff": {
      "model_module": "@jupyter-widgets/controls",
      "model_module_version": "1.5.0",
      "model_name": "FloatProgressModel",
      "state": {
       "_dom_classes": [],
       "_model_module": "@jupyter-widgets/controls",
       "_model_module_version": "1.5.0",
       "_model_name": "FloatProgressModel",
       "_view_count": null,
       "_view_module": "@jupyter-widgets/controls",
       "_view_module_version": "1.5.0",
       "_view_name": "ProgressView",
       "bar_style": "success",
       "description": "100%",
       "description_tooltip": null,
       "layout": "IPY_MODEL_cbf23eb9c0f248349285226f588be171",
       "max": 10.0,
       "min": 0.0,
       "orientation": "horizontal",
       "style": "IPY_MODEL_a89212c1ccea43fda54cb1471bd04819",
       "value": 10.0
      }
     }
    },
    "version_major": 2,
    "version_minor": 0
   }
  }
 },
 "nbformat": 4,
 "nbformat_minor": 5
}
