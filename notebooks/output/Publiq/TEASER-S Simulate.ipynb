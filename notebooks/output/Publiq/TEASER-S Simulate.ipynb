{
 "cells": [
  {
   "cell_type": "code",
   "execution_count": 1,
   "id": "a65f4cb7",
   "metadata": {
    "execution": {
     "iopub.execute_input": "2022-01-21T14:03:44.412779Z",
     "iopub.status.busy": "2022-01-21T14:03:44.410531Z",
     "iopub.status.idle": "2022-01-21T14:03:44.426639Z",
     "shell.execute_reply": "2022-01-21T14:03:44.427155Z"
    }
   },
   "outputs": [],
   "source": [
    "%load_ext autoreload\n",
    "%autoreload 2"
   ]
  },
  {
   "cell_type": "markdown",
   "id": "55bab0c8",
   "metadata": {},
   "source": [
    "# Experiments with TEASER-S model and simulated feedback"
   ]
  },
  {
   "cell_type": "code",
   "execution_count": 2,
   "id": "ec55d42c",
   "metadata": {
    "execution": {
     "iopub.execute_input": "2022-01-21T14:03:44.431161Z",
     "iopub.status.busy": "2022-01-21T14:03:44.430520Z",
     "iopub.status.idle": "2022-01-21T14:03:46.476856Z",
     "shell.execute_reply": "2022-01-21T14:03:46.477401Z"
    }
   },
   "outputs": [],
   "source": [
    "from pathlib import Path\n",
    "import numpy as np\n",
    "\n",
    "import teaser.util as util\n",
    "import teaser.evaluation as evaluation\n",
    "\n",
    "from teaser.algorithm.teaser_s import TEASER_S"
   ]
  },
  {
   "cell_type": "markdown",
   "id": "c469b253",
   "metadata": {},
   "source": [
    "## Datasets"
   ]
  },
  {
   "cell_type": "code",
   "execution_count": 3,
   "id": "e0622ed1",
   "metadata": {
    "execution": {
     "iopub.execute_input": "2022-01-21T14:03:46.481763Z",
     "iopub.status.busy": "2022-01-21T14:03:46.481128Z",
     "iopub.status.idle": "2022-01-21T14:03:46.500927Z",
     "shell.execute_reply": "2022-01-21T14:03:46.501440Z"
    }
   },
   "outputs": [],
   "source": [
    "## Uncomment corresponding directory.\n",
    "# DATA_DIR = Path('../../data/ML20M/')\n",
    "# DATA_DIR = Path('../../data/Amazon Video Games/')\n",
    "DATA_DIR = Path('../../data/Publiq/')"
   ]
  },
  {
   "cell_type": "code",
   "execution_count": 4,
   "id": "d53bce36",
   "metadata": {
    "execution": {
     "iopub.execute_input": "2022-01-21T14:03:46.505496Z",
     "iopub.status.busy": "2022-01-21T14:03:46.504843Z",
     "iopub.status.idle": "2022-01-21T14:03:46.524906Z",
     "shell.execute_reply": "2022-01-21T14:03:46.524379Z"
    }
   },
   "outputs": [],
   "source": [
    "# Shouldn't need to change this info\n",
    "INTERACTIONS_TRAIN_PATH = DATA_DIR / 'interactions.train.csv'\n",
    "INTERACTIONS_VALIN_PATH = DATA_DIR / 'interactions.valin.csv'\n",
    "INTERACTIONS_VALOUT_PATH = DATA_DIR / 'interactions.valout.csv'\n",
    "INTERACTIONS_TESTIN_PATH = DATA_DIR / 'interactions.testin.csv'\n",
    "INTERACTIONS_TESTOUT_PATH = DATA_DIR / 'interactions.testout.csv'\n",
    "\n",
    "METADATA_PATH = DATA_DIR / 'features.csv'\n",
    "\n",
    "ITEM_ID = 'itemId'\n",
    "USER_ID = 'userId'"
   ]
  },
  {
   "cell_type": "markdown",
   "id": "48457625",
   "metadata": {},
   "source": [
    "## Define algorithm and hyperparameter ranges"
   ]
  },
  {
   "cell_type": "code",
   "execution_count": 5,
   "id": "11a5ac4c",
   "metadata": {
    "execution": {
     "iopub.execute_input": "2022-01-21T14:03:46.529352Z",
     "iopub.status.busy": "2022-01-21T14:03:46.528691Z",
     "iopub.status.idle": "2022-01-21T14:03:46.551383Z",
     "shell.execute_reply": "2022-01-21T14:03:46.551906Z"
    }
   },
   "outputs": [
    {
     "data": {
      "text/plain": [
       "{'l2_1': 500, 'l2_2': 50000, 'rho': 1000, 'delta': 0, 'max_iterations': 10}"
      ]
     },
     "execution_count": 1,
     "metadata": {},
     "output_type": "execute_result"
    }
   ],
   "source": [
    "ALG = TEASER_S\n",
    "\n",
    "# ML20M\n",
    "# L2_1 = 100\n",
    "# L2_2 = 100000000\n",
    "# RHO = 1000\n",
    "# DELTA = 0\n",
    "# MAX_ITER = 10\n",
    "\n",
    "# AVG\n",
    "# L2_1 = 500\n",
    "# L2_2 = 2000\n",
    "# RHO = 10000\n",
    "# DELTA = 0\n",
    "# MAX_ITER = 15\n",
    "\n",
    "# Publiq\n",
    "L2_1 = 500\n",
    "L2_2 = 50000\n",
    "RHO = 1000\n",
    "DELTA = 0\n",
    "MAX_ITER = 10\n",
    "\n",
    "HYPERPARAMS = {'l2_1': L2_1, 'l2_2': L2_2, 'rho': RHO, 'delta': DELTA,'max_iterations': MAX_ITER}\n",
    "HYPERPARAMS"
   ]
  },
  {
   "cell_type": "markdown",
   "id": "32d25f41",
   "metadata": {},
   "source": [
    "## Parse data"
   ]
  },
  {
   "cell_type": "code",
   "execution_count": 6,
   "id": "ce0d0435",
   "metadata": {
    "execution": {
     "iopub.execute_input": "2022-01-21T14:03:46.556790Z",
     "iopub.status.busy": "2022-01-21T14:03:46.556134Z",
     "iopub.status.idle": "2022-01-21T14:03:52.867009Z",
     "shell.execute_reply": "2022-01-21T14:03:52.866175Z"
    }
   },
   "outputs": [],
   "source": [
    "S, tags = util.parse_metadata(METADATA_PATH, item_id=ITEM_ID)\n",
    "n, t = S.shape  # amount of items and tags\n",
    "\n",
    "X = util.parse_interactions(INTERACTIONS_TRAIN_PATH, item_id=ITEM_ID, user_id=USER_ID, shape_items=n)\n",
    "\n",
    "Xtest_in = util.parse_interactions(INTERACTIONS_TESTIN_PATH, item_id=ITEM_ID, user_id=USER_ID, shape_items=n)\n",
    "Xtest_out = util.parse_interactions(INTERACTIONS_TESTOUT_PATH, item_id=ITEM_ID, user_id=USER_ID, shape_items=n)"
   ]
  },
  {
   "cell_type": "code",
   "execution_count": 7,
   "id": "fcfaf306",
   "metadata": {
    "execution": {
     "iopub.execute_input": "2022-01-21T14:03:52.870754Z",
     "iopub.status.busy": "2022-01-21T14:03:52.870197Z",
     "iopub.status.idle": "2022-01-21T14:03:52.890012Z",
     "shell.execute_reply": "2022-01-21T14:03:52.890414Z"
    }
   },
   "outputs": [],
   "source": [
    "# # debug\n",
    "# d_items = 1000\n",
    "# S = S[:d_items,:]\n",
    "# tags = tags[:d_items]\n",
    "# X = X[:,:d_items]\n",
    "# Xtest_in = Xtest_in[:,:d_items]\n",
    "# Xtest_out = Xtest_out[:,:d_items]"
   ]
  },
  {
   "cell_type": "markdown",
   "id": "e89dad17",
   "metadata": {},
   "source": [
    "## Evaluate model with optimal hyperparams on test set"
   ]
  },
  {
   "cell_type": "code",
   "execution_count": 8,
   "id": "6badc750",
   "metadata": {
    "execution": {
     "iopub.execute_input": "2022-01-21T14:03:52.893762Z",
     "iopub.status.busy": "2022-01-21T14:03:52.893253Z",
     "iopub.status.idle": "2022-01-21T14:18:55.296826Z",
     "shell.execute_reply": "2022-01-21T14:18:55.295977Z"
    }
   },
   "outputs": [],
   "source": [
    "# Precomput XTX and decomposition of XTX, since it's needed for all hyperparameters combinations and doesn't change\n",
    "XTX = (X.T @ X).toarray()\n",
    "p, U = np.linalg.eigh(XTX)\n",
    "fit_params = {'XTX': XTX, 'p': p, 'U': U}"
   ]
  },
  {
   "cell_type": "code",
   "execution_count": 9,
   "id": "81674e0b",
   "metadata": {
    "execution": {
     "iopub.execute_input": "2022-01-21T14:18:55.301261Z",
     "iopub.status.busy": "2022-01-21T14:18:55.300686Z",
     "iopub.status.idle": "2022-01-21T14:39:01.822361Z",
     "shell.execute_reply": "2022-01-21T14:39:01.820797Z"
    },
    "scrolled": true
   },
   "outputs": [
    {
     "name": "stdout",
     "output_type": "stream",
     "text": [
      "Decompose DTD\n"
     ]
    },
    {
     "data": {
      "application/vnd.jupyter.widget-view+json": {
       "model_id": "1748e633724d4ee88537b8aae84a6058",
       "version_major": 2,
       "version_minor": 0
      },
      "text/plain": [
       "HBox(children=(FloatProgress(value=0.0, max=10.0), HTML(value='')))"
      ]
     },
     "metadata": {},
     "output_type": "display_data"
    },
    {
     "name": "stdout",
     "output_type": "stream",
     "text": [
      "norm E 0.06109046846017588\n",
      "diag norm: 0.13716239344731093\n",
      "diag_diff: 0.3653087697280152\n",
      "\r\n",
      "norm E 0.05745460125774677\n",
      "diag norm: 0.12476903512529049\n",
      "diag_diff: 0.2159972038968077\n",
      "rho * change E: 19.149511549151462\n",
      "\r\n",
      "norm E 0.05524703366562962\n",
      "diag norm: 0.1160299699011726\n",
      "diag_diff: 0.15143179116814817\n",
      "rho * change E: 3.3612506720066424\n",
      "\r\n",
      "norm E 0.05332817588331851\n",
      "diag norm: 0.10823759225144375\n",
      "diag_diff: 0.11805019479217495\n",
      "rho * change E: 2.963323876390799\n",
      "\r\n",
      "norm E 0.05167057224223128\n",
      "diag norm: 0.1013656802857356\n",
      "diag_diff: 0.09947053954134188\n",
      "rho * change E: 2.6851739263441474\n",
      "\r\n",
      "norm E 0.050259392227827986\n",
      "diag norm: 0.09544088107745421\n",
      "diag_diff: 0.08791502707116965\n",
      "rho * change E: 2.410034541172794\n",
      "\r\n",
      "norm E 0.04905430113792256\n",
      "diag norm: 0.09034126728937328\n",
      "diag_diff: 0.07953870382847783\n",
      "rho * change E: 2.1798077068468156\n",
      "\r\n",
      "norm E 0.048024641432948746\n",
      "diag norm: 0.08595740020083947\n",
      "diag_diff: 0.07243282767432786\n",
      "rho * change E: 1.9617776254192858\n",
      "\r\n",
      "norm E 0.04716286002496448\n",
      "diag norm: 0.08225094641516924\n",
      "diag_diff: 0.06669708241688929\n",
      "rho * change E: 1.7598605854142286\n",
      "\r\n",
      "norm E 0.04642111281955987\n",
      "diag norm: 0.07904650388256844\n",
      "diag_diff: 0.06176052011684207\n",
      "rho * change E: 1.6003907627246186\n",
      "\r\n",
      "\n",
      "CPU times: user 19min 54s, sys: 11.8 s, total: 20min 6s\n",
      "Wall time: 20min 6s\n"
     ]
    },
    {
     "data": {
      "text/plain": [
       "<teaser.algorithm.teaser_s.TEASER_S at 0x7f2d35b9a860>"
      ]
     },
     "execution_count": 1,
     "metadata": {},
     "output_type": "execute_result"
    }
   ],
   "source": [
    "%%time\n",
    "alg = ALG(**HYPERPARAMS)\n",
    "alg.fit(X, S, **fit_params)"
   ]
  },
  {
   "cell_type": "code",
   "execution_count": 10,
   "id": "33b6aadc",
   "metadata": {
    "execution": {
     "iopub.execute_input": "2022-01-21T14:39:01.831738Z",
     "iopub.status.busy": "2022-01-21T14:39:01.830995Z",
     "iopub.status.idle": "2022-01-21T14:39:45.900211Z",
     "shell.execute_reply": "2022-01-21T14:39:45.900629Z"
    }
   },
   "outputs": [
    {
     "name": "stdout",
     "output_type": "stream",
     "text": [
      "Performance on test set with simulation\n",
      "Pos feedback count: 1 with strength (out of 5): 1\n",
      "Evaluating with 1500 users\n",
      "Average Recall@20 0.402\n",
      "Average Recall@100 0.606\n",
      "Average nDCG@100 0.268\n",
      "Pos feedback count: 1 with strength (out of 5): 3\n",
      "Evaluating with 1500 users\n",
      "Average Recall@20 0.475\n",
      "Average Recall@100 0.715\n",
      "Average nDCG@100 0.328\n",
      "\n",
      "Pos feedback count: 2 with strength (out of 5): 1\n",
      "Evaluating with 1500 users\n",
      "Average Recall@20 0.443\n",
      "Average Recall@100 0.672\n",
      "Average nDCG@100 0.305\n",
      "Pos feedback count: 2 with strength (out of 5): 3\n",
      "Evaluating with 1500 users\n",
      "Average Recall@20 0.625\n",
      "Average Recall@100 0.858\n",
      "Average nDCG@100 0.423\n",
      "\n"
     ]
    }
   ],
   "source": [
    "print(\"Performance on test set with simulation\")\n",
    "for POS_FEEDBACK in [1, 2]:\n",
    "    for STRENGTH in [1, 3]:\n",
    "        print(\"Pos feedback count:\", POS_FEEDBACK, \"with strength (out of 5):\", STRENGTH)\n",
    "        score = evaluation.simulate(alg, Xtest_in, Xtest_out, S, pos_feedback=POS_FEEDBACK, strength=STRENGTH, repeats=3)\n",
    "    print()"
   ]
  }
 ],
 "metadata": {
  "kernelspec": {
   "display_name": "Python 3",
   "language": "python",
   "name": "python3"
  },
  "language_info": {
   "codemirror_mode": {
    "name": "ipython",
    "version": 3
   },
   "file_extension": ".py",
   "mimetype": "text/x-python",
   "name": "python",
   "nbconvert_exporter": "python",
   "pygments_lexer": "ipython3",
   "version": "3.8.10"
  },
  "widgets": {
   "application/vnd.jupyter.widget-state+json": {
    "state": {
     "1748e633724d4ee88537b8aae84a6058": {
      "model_module": "@jupyter-widgets/controls",
      "model_module_version": "1.5.0",
      "model_name": "HBoxModel",
      "state": {
       "_dom_classes": [],
       "_model_module": "@jupyter-widgets/controls",
       "_model_module_version": "1.5.0",
       "_model_name": "HBoxModel",
       "_view_count": null,
       "_view_module": "@jupyter-widgets/controls",
       "_view_module_version": "1.5.0",
       "_view_name": "HBoxView",
       "box_style": "",
       "children": [
        "IPY_MODEL_6e9ef9aaa3544636ba83f89e81bcb61f",
        "IPY_MODEL_aaa96367d68d4a3b814fc9ec1a944b5f"
       ],
       "layout": "IPY_MODEL_1bec1cae8c1c4e219023b935a0a53ace"
      }
     },
     "1bec1cae8c1c4e219023b935a0a53ace": {
      "model_module": "@jupyter-widgets/base",
      "model_module_version": "1.2.0",
      "model_name": "LayoutModel",
      "state": {
       "_model_module": "@jupyter-widgets/base",
       "_model_module_version": "1.2.0",
       "_model_name": "LayoutModel",
       "_view_count": null,
       "_view_module": "@jupyter-widgets/base",
       "_view_module_version": "1.2.0",
       "_view_name": "LayoutView",
       "align_content": null,
       "align_items": null,
       "align_self": null,
       "border": null,
       "bottom": null,
       "display": null,
       "flex": null,
       "flex_flow": null,
       "grid_area": null,
       "grid_auto_columns": null,
       "grid_auto_flow": null,
       "grid_auto_rows": null,
       "grid_column": null,
       "grid_gap": null,
       "grid_row": null,
       "grid_template_areas": null,
       "grid_template_columns": null,
       "grid_template_rows": null,
       "height": null,
       "justify_content": null,
       "justify_items": null,
       "left": null,
       "margin": null,
       "max_height": null,
       "max_width": null,
       "min_height": null,
       "min_width": null,
       "object_fit": null,
       "object_position": null,
       "order": null,
       "overflow": null,
       "overflow_x": null,
       "overflow_y": null,
       "padding": null,
       "right": null,
       "top": null,
       "visibility": null,
       "width": null
      }
     },
     "45a23c1e13014b0ca0f04b2e0d7af36f": {
      "model_module": "@jupyter-widgets/controls",
      "model_module_version": "1.5.0",
      "model_name": "ProgressStyleModel",
      "state": {
       "_model_module": "@jupyter-widgets/controls",
       "_model_module_version": "1.5.0",
       "_model_name": "ProgressStyleModel",
       "_view_count": null,
       "_view_module": "@jupyter-widgets/base",
       "_view_module_version": "1.2.0",
       "_view_name": "StyleView",
       "bar_color": null,
       "description_width": "initial"
      }
     },
     "567d4b1c93cc4b30999d7b17b97d335b": {
      "model_module": "@jupyter-widgets/base",
      "model_module_version": "1.2.0",
      "model_name": "LayoutModel",
      "state": {
       "_model_module": "@jupyter-widgets/base",
       "_model_module_version": "1.2.0",
       "_model_name": "LayoutModel",
       "_view_count": null,
       "_view_module": "@jupyter-widgets/base",
       "_view_module_version": "1.2.0",
       "_view_name": "LayoutView",
       "align_content": null,
       "align_items": null,
       "align_self": null,
       "border": null,
       "bottom": null,
       "display": null,
       "flex": null,
       "flex_flow": null,
       "grid_area": null,
       "grid_auto_columns": null,
       "grid_auto_flow": null,
       "grid_auto_rows": null,
       "grid_column": null,
       "grid_gap": null,
       "grid_row": null,
       "grid_template_areas": null,
       "grid_template_columns": null,
       "grid_template_rows": null,
       "height": null,
       "justify_content": null,
       "justify_items": null,
       "left": null,
       "margin": null,
       "max_height": null,
       "max_width": null,
       "min_height": null,
       "min_width": null,
       "object_fit": null,
       "object_position": null,
       "order": null,
       "overflow": null,
       "overflow_x": null,
       "overflow_y": null,
       "padding": null,
       "right": null,
       "top": null,
       "visibility": null,
       "width": null
      }
     },
     "6e9ef9aaa3544636ba83f89e81bcb61f": {
      "model_module": "@jupyter-widgets/controls",
      "model_module_version": "1.5.0",
      "model_name": "FloatProgressModel",
      "state": {
       "_dom_classes": [],
       "_model_module": "@jupyter-widgets/controls",
       "_model_module_version": "1.5.0",
       "_model_name": "FloatProgressModel",
       "_view_count": null,
       "_view_module": "@jupyter-widgets/controls",
       "_view_module_version": "1.5.0",
       "_view_name": "ProgressView",
       "bar_style": "success",
       "description": "100%",
       "description_tooltip": null,
       "layout": "IPY_MODEL_7fb7810d7b784ce2b6e4e5105d20630f",
       "max": 10,
       "min": 0,
       "orientation": "horizontal",
       "style": "IPY_MODEL_45a23c1e13014b0ca0f04b2e0d7af36f",
       "value": 10
      }
     },
     "7fb7810d7b784ce2b6e4e5105d20630f": {
      "model_module": "@jupyter-widgets/base",
      "model_module_version": "1.2.0",
      "model_name": "LayoutModel",
      "state": {
       "_model_module": "@jupyter-widgets/base",
       "_model_module_version": "1.2.0",
       "_model_name": "LayoutModel",
       "_view_count": null,
       "_view_module": "@jupyter-widgets/base",
       "_view_module_version": "1.2.0",
       "_view_name": "LayoutView",
       "align_content": null,
       "align_items": null,
       "align_self": null,
       "border": null,
       "bottom": null,
       "display": null,
       "flex": null,
       "flex_flow": null,
       "grid_area": null,
       "grid_auto_columns": null,
       "grid_auto_flow": null,
       "grid_auto_rows": null,
       "grid_column": null,
       "grid_gap": null,
       "grid_row": null,
       "grid_template_areas": null,
       "grid_template_columns": null,
       "grid_template_rows": null,
       "height": null,
       "justify_content": null,
       "justify_items": null,
       "left": null,
       "margin": null,
       "max_height": null,
       "max_width": null,
       "min_height": null,
       "min_width": null,
       "object_fit": null,
       "object_position": null,
       "order": null,
       "overflow": null,
       "overflow_x": null,
       "overflow_y": null,
       "padding": null,
       "right": null,
       "top": null,
       "visibility": null,
       "width": null
      }
     },
     "aaa96367d68d4a3b814fc9ec1a944b5f": {
      "model_module": "@jupyter-widgets/controls",
      "model_module_version": "1.5.0",
      "model_name": "HTMLModel",
      "state": {
       "_dom_classes": [],
       "_model_module": "@jupyter-widgets/controls",
       "_model_module_version": "1.5.0",
       "_model_name": "HTMLModel",
       "_view_count": null,
       "_view_module": "@jupyter-widgets/controls",
       "_view_module_version": "1.5.0",
       "_view_name": "HTMLView",
       "description": "",
       "description_tooltip": null,
       "layout": "IPY_MODEL_567d4b1c93cc4b30999d7b17b97d335b",
       "placeholder": "​",
       "style": "IPY_MODEL_fa461fa83014499f96af0c8e310373f0",
       "value": " 10/10 [20:18&lt;00:00, 121.81s/it]"
      }
     },
     "fa461fa83014499f96af0c8e310373f0": {
      "model_module": "@jupyter-widgets/controls",
      "model_module_version": "1.5.0",
      "model_name": "DescriptionStyleModel",
      "state": {
       "_model_module": "@jupyter-widgets/controls",
       "_model_module_version": "1.5.0",
       "_model_name": "DescriptionStyleModel",
       "_view_count": null,
       "_view_module": "@jupyter-widgets/base",
       "_view_module_version": "1.2.0",
       "_view_name": "StyleView",
       "description_width": ""
      }
     }
    },
    "version_major": 2,
    "version_minor": 0
   }
  }
 },
 "nbformat": 4,
 "nbformat_minor": 5
}
