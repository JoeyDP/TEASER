{
 "cells": [
  {
   "cell_type": "code",
   "execution_count": 1,
   "id": "a65f4cb7",
   "metadata": {
    "execution": {
     "iopub.execute_input": "2021-10-14T15:20:00.476769Z",
     "iopub.status.busy": "2021-10-14T15:20:00.475154Z",
     "iopub.status.idle": "2021-10-14T15:20:00.477463Z",
     "shell.execute_reply": "2021-10-14T15:20:00.477981Z"
    }
   },
   "outputs": [],
   "source": [
    "# %load_ext autoreload\n",
    "# %autoreload 2"
   ]
  },
  {
   "cell_type": "markdown",
   "id": "55bab0c8",
   "metadata": {},
   "source": [
    "# Experiments with WMF-S model"
   ]
  },
  {
   "cell_type": "code",
   "execution_count": 2,
   "id": "ec55d42c",
   "metadata": {
    "execution": {
     "iopub.execute_input": "2021-10-14T15:20:00.491183Z",
     "iopub.status.busy": "2021-10-14T15:20:00.490466Z",
     "iopub.status.idle": "2021-10-14T15:20:02.478058Z",
     "shell.execute_reply": "2021-10-14T15:20:02.477506Z"
    }
   },
   "outputs": [],
   "source": [
    "from pathlib import Path\n",
    "import numpy as np\n",
    "\n",
    "import teaser.util as util\n",
    "import teaser.evaluation as evaluation\n",
    "\n",
    "from teaser.algorithm.wmf_s import WMF_S"
   ]
  },
  {
   "cell_type": "markdown",
   "id": "c469b253",
   "metadata": {},
   "source": [
    "## Datasets"
   ]
  },
  {
   "cell_type": "code",
   "execution_count": 3,
   "id": "e0622ed1",
   "metadata": {
    "execution": {
     "iopub.execute_input": "2021-10-14T15:20:02.483158Z",
     "iopub.status.busy": "2021-10-14T15:20:02.482304Z",
     "iopub.status.idle": "2021-10-14T15:20:02.485723Z",
     "shell.execute_reply": "2021-10-14T15:20:02.484802Z"
    }
   },
   "outputs": [],
   "source": [
    "## Uncomment corresponding directory.\n",
    "DATA_DIR = Path('../../data/ML20M/')\n",
    "# DATA_DIR = Path('../../data/Amazon Video Games/')\n",
    "# DATA_DIR = Path('../../data/Publiq/')"
   ]
  },
  {
   "cell_type": "code",
   "execution_count": 4,
   "id": "d53bce36",
   "metadata": {
    "execution": {
     "iopub.execute_input": "2021-10-14T15:20:02.492224Z",
     "iopub.status.busy": "2021-10-14T15:20:02.491331Z",
     "iopub.status.idle": "2021-10-14T15:20:02.494598Z",
     "shell.execute_reply": "2021-10-14T15:20:02.493773Z"
    }
   },
   "outputs": [],
   "source": [
    "# Shouldn't need to change this info\n",
    "INTERACTIONS_TRAIN_PATH = DATA_DIR / 'interactions.train.csv'\n",
    "INTERACTIONS_VALIN_PATH = DATA_DIR / 'interactions.valin.csv'\n",
    "INTERACTIONS_VALOUT_PATH = DATA_DIR / 'interactions.valout.csv'\n",
    "INTERACTIONS_TESTIN_PATH = DATA_DIR / 'interactions.testin.csv'\n",
    "INTERACTIONS_TESTOUT_PATH = DATA_DIR / 'interactions.testout.csv'\n",
    "\n",
    "METADATA_PATH = DATA_DIR / 'features.csv'\n",
    "\n",
    "ITEM_ID = 'itemId'\n",
    "USER_ID = 'userId'"
   ]
  },
  {
   "cell_type": "markdown",
   "id": "48457625",
   "metadata": {},
   "source": [
    "## Define algorithm and hyperparameter ranges"
   ]
  },
  {
   "cell_type": "code",
   "execution_count": 5,
   "id": "11a5ac4c",
   "metadata": {
    "execution": {
     "iopub.execute_input": "2021-10-14T15:20:02.503538Z",
     "iopub.status.busy": "2021-10-14T15:20:02.502658Z",
     "iopub.status.idle": "2021-10-14T15:20:02.506684Z",
     "shell.execute_reply": "2021-10-14T15:20:02.507396Z"
    }
   },
   "outputs": [
    {
     "data": {
      "text/plain": [
       "{'l2': [500, 1000, 2000], 'alpha': [5, 10, 20]}"
      ]
     },
     "execution_count": 1,
     "metadata": {},
     "output_type": "execute_result"
    }
   ],
   "source": [
    "ALG = WMF_S\n",
    "\n",
    "# L2 = [10 ** p for p in range(1, 5)]\n",
    "# ALPHA = [10 ** p for p in range(0, 3)]\n",
    "L2 = [500, 1000, 2000]\n",
    "ALPHA = [5, 10, 20]\n",
    "\n",
    "HYPERPARAMS = {'l2': L2, 'alpha': ALPHA}\n",
    "HYPERPARAMS"
   ]
  },
  {
   "cell_type": "markdown",
   "id": "32d25f41",
   "metadata": {},
   "source": [
    "## Parse data"
   ]
  },
  {
   "cell_type": "code",
   "execution_count": 6,
   "id": "ce0d0435",
   "metadata": {
    "execution": {
     "iopub.execute_input": "2021-10-14T15:20:02.515131Z",
     "iopub.status.busy": "2021-10-14T15:20:02.514415Z",
     "iopub.status.idle": "2021-10-14T15:20:21.432638Z",
     "shell.execute_reply": "2021-10-14T15:20:21.432083Z"
    }
   },
   "outputs": [],
   "source": [
    "S, tags = util.parse_metadata(METADATA_PATH, item_id=ITEM_ID)\n",
    "n, t = S.shape  # amount of items and tags\n",
    "\n",
    "X = util.parse_interactions(INTERACTIONS_TRAIN_PATH, item_id=ITEM_ID, user_id=USER_ID, shape_items=n)\n",
    "\n",
    "Xval_in = util.parse_interactions(INTERACTIONS_VALIN_PATH, item_id=ITEM_ID, user_id=USER_ID, shape_items=n)\n",
    "Xval_out = util.parse_interactions(INTERACTIONS_VALOUT_PATH, item_id=ITEM_ID, user_id=USER_ID, shape_items=n)\n",
    "Xtest_in = util.parse_interactions(INTERACTIONS_TESTIN_PATH, item_id=ITEM_ID, user_id=USER_ID, shape_items=n)\n",
    "Xtest_out = util.parse_interactions(INTERACTIONS_TESTOUT_PATH, item_id=ITEM_ID, user_id=USER_ID, shape_items=n)"
   ]
  },
  {
   "cell_type": "code",
   "execution_count": 7,
   "id": "fcfaf306",
   "metadata": {
    "execution": {
     "iopub.execute_input": "2021-10-14T15:20:21.436693Z",
     "iopub.status.busy": "2021-10-14T15:20:21.435997Z",
     "iopub.status.idle": "2021-10-14T15:20:21.438482Z",
     "shell.execute_reply": "2021-10-14T15:20:21.437996Z"
    }
   },
   "outputs": [],
   "source": [
    "# # debug\n",
    "# d_items = 1000\n",
    "# S = S[:d_items,:]\n",
    "# tags = tags[:d_items]\n",
    "# X = X[:,:d_items]\n",
    "# Xval_in = Xval_in[:,:d_items]\n",
    "# Xval_out = Xval_out[:,:d_items]\n",
    "# Xtest_in = Xtest_in[:,:d_items]\n",
    "# Xtest_out = Xtest_out[:,:d_items]"
   ]
  },
  {
   "cell_type": "markdown",
   "id": "fc85ffb4",
   "metadata": {},
   "source": [
    "## Perform gridsearch on validation set"
   ]
  },
  {
   "cell_type": "code",
   "execution_count": 8,
   "id": "36a9347a",
   "metadata": {
    "execution": {
     "iopub.execute_input": "2021-10-14T15:20:21.442950Z",
     "iopub.status.busy": "2021-10-14T15:20:21.442266Z",
     "iopub.status.idle": "2021-10-14T19:15:07.569753Z",
     "shell.execute_reply": "2021-10-14T19:15:07.568951Z"
    },
    "scrolled": true
   },
   "outputs": [
    {
     "data": {
      "application/vnd.jupyter.widget-view+json": {
       "model_id": "da0c508d4cf34b5c8b4ed3416636c2bf",
       "version_major": 2,
       "version_minor": 0
      },
      "text/plain": [
       "HBox(children=(FloatProgress(value=0.0, max=9.0), HTML(value='')))"
      ]
     },
     "metadata": {},
     "output_type": "display_data"
    },
    {
     "name": "stdout",
     "output_type": "stream",
     "text": [
      "Training model WMF_S with hyperparameters {'l2': 500, 'alpha': 5}\n",
      "Evaluating with 10000 users\n",
      "Average Recall@20 0.225\n",
      "Average Recall@100 0.417\n",
      "Average nDCG@100 0.266\n",
      "Training model WMF_S with hyperparameters {'l2': 1000, 'alpha': 5}\n",
      "Evaluating with 10000 users\n",
      "Average Recall@20 0.22\n",
      "Average Recall@100 0.414\n",
      "Average nDCG@100 0.26\n",
      "Training model WMF_S with hyperparameters {'l2': 2000, 'alpha': 5}\n",
      "Evaluating with 10000 users\n",
      "Average Recall@20 0.212\n",
      "Average Recall@100 0.405\n",
      "Average nDCG@100 0.25\n",
      "Training model WMF_S with hyperparameters {'l2': 500, 'alpha': 10}\n",
      "Evaluating with 10000 users\n",
      "Average Recall@20 0.225\n",
      "Average Recall@100 0.42\n",
      "Average nDCG@100 0.266\n",
      "Training model WMF_S with hyperparameters {'l2': 1000, 'alpha': 10}\n",
      "Evaluating with 10000 users\n",
      "Average Recall@20 0.223\n",
      "Average Recall@100 0.421\n",
      "Average nDCG@100 0.263\n",
      "Training model WMF_S with hyperparameters {'l2': 2000, 'alpha': 10}\n",
      "Evaluating with 10000 users\n",
      "Average Recall@20 0.215\n",
      "Average Recall@100 0.41\n",
      "Average nDCG@100 0.253\n",
      "Training model WMF_S with hyperparameters {'l2': 500, 'alpha': 20}\n",
      "Evaluating with 10000 users\n",
      "Average Recall@20 0.224\n",
      "Average Recall@100 0.419\n",
      "Average nDCG@100 0.264\n",
      "Training model WMF_S with hyperparameters {'l2': 1000, 'alpha': 20}\n",
      "Evaluating with 10000 users\n",
      "Average Recall@20 0.224\n",
      "Average Recall@100 0.425\n",
      "Average nDCG@100 0.265\n",
      "Training model WMF_S with hyperparameters {'l2': 2000, 'alpha': 20}\n",
      "Evaluating with 10000 users\n",
      "Average Recall@20 0.217\n",
      "Average Recall@100 0.417\n",
      "Average nDCG@100 0.256\n",
      "\n"
     ]
    }
   ],
   "source": [
    "score, best_hyperparams = evaluation.gridsearch(ALG, X, S, Xval_in, Xval_out, HYPERPARAMS)"
   ]
  },
  {
   "cell_type": "code",
   "execution_count": 9,
   "id": "2c057f9c",
   "metadata": {
    "execution": {
     "iopub.execute_input": "2021-10-14T19:15:07.576580Z",
     "iopub.status.busy": "2021-10-14T19:15:07.575781Z",
     "iopub.status.idle": "2021-10-14T19:15:07.579918Z",
     "shell.execute_reply": "2021-10-14T19:15:07.579287Z"
    }
   },
   "outputs": [
    {
     "data": {
      "text/plain": [
       "\"Best score of 0.26636597007485524 achieved with {'l2': 500, 'alpha': 10}.\""
      ]
     },
     "execution_count": 1,
     "metadata": {},
     "output_type": "execute_result"
    }
   ],
   "source": [
    "f\"Best score of {score} achieved with {best_hyperparams}.\""
   ]
  },
  {
   "cell_type": "markdown",
   "id": "e89dad17",
   "metadata": {},
   "source": [
    "## Evaluate model with optimal hyperparams on test set"
   ]
  },
  {
   "cell_type": "code",
   "execution_count": 10,
   "id": "81674e0b",
   "metadata": {
    "execution": {
     "iopub.execute_input": "2021-10-14T19:15:07.589900Z",
     "iopub.status.busy": "2021-10-14T19:15:07.589029Z",
     "iopub.status.idle": "2021-10-14T19:15:09.238028Z",
     "shell.execute_reply": "2021-10-14T19:15:09.238460Z"
    },
    "scrolled": true
   },
   "outputs": [
    {
     "name": "stdout",
     "output_type": "stream",
     "text": [
      "CPU times: user 22.5 s, sys: 2.22 s, total: 24.8 s\n",
      "Wall time: 1.65 s\n"
     ]
    },
    {
     "data": {
      "text/plain": [
       "<teaser.algorithm.wmf_s.WMF_S at 0x7f375c99acf8>"
      ]
     },
     "execution_count": 1,
     "metadata": {},
     "output_type": "execute_result"
    }
   ],
   "source": [
    "%%time\n",
    "alg = ALG(**best_hyperparams)\n",
    "alg.fit(X, S)"
   ]
  },
  {
   "cell_type": "code",
   "execution_count": 11,
   "id": "005a5a02",
   "metadata": {
    "execution": {
     "iopub.execute_input": "2021-10-14T19:15:09.243288Z",
     "iopub.status.busy": "2021-10-14T19:15:09.242779Z",
     "iopub.status.idle": "2021-10-14T19:41:33.279817Z",
     "shell.execute_reply": "2021-10-14T19:41:33.280607Z"
    }
   },
   "outputs": [
    {
     "name": "stdout",
     "output_type": "stream",
     "text": [
      "Performance on test set\n",
      "Evaluating with 10000 users\n",
      "Average Recall@20 0.225\n",
      "Average Recall@100 0.42\n",
      "Average nDCG@100 0.266\n",
      "CPU times: user 5h 33min 47s, sys: 7h 53min 35s, total: 13h 27min 22s\n",
      "Wall time: 26min 24s\n"
     ]
    }
   ],
   "source": [
    "%%time\n",
    "print(\"Performance on test set\")\n",
    "score = evaluation.eval(alg, Xtest_in, Xtest_out)"
   ]
  },
  {
   "cell_type": "markdown",
   "id": "9c1a9dea",
   "metadata": {},
   "source": [
    "## Plot amount of items from long tail recommended"
   ]
  },
  {
   "cell_type": "code",
   "execution_count": 12,
   "id": "95cc7884",
   "metadata": {
    "execution": {
     "iopub.execute_input": "2021-10-14T19:41:33.286865Z",
     "iopub.status.busy": "2021-10-14T19:41:33.285736Z",
     "iopub.status.idle": "2021-10-14T20:07:58.388853Z",
     "shell.execute_reply": "2021-10-14T20:07:58.389416Z"
    }
   },
   "outputs": [
    {
     "data": {
      "image/png": "[encoded data removed]",
      "text/plain": [
       "<Figure size 432x288 with 1 Axes>"
      ]
     },
     "metadata": {
      "needs_background": "light"
     },
     "output_type": "display_data"
    }
   ],
   "source": [
    "# evaluation.plot_long_tail(alg, Xtest_in=Xtest_in, Xtest_out=Xtest_out, labels=[\"EASE\", \"Test items\"], k=100)\n",
    "evaluation.plot_long_tail(alg, histories=Xtest_in, labels=[\"WMF-S\"], k=100)"
   ]
  }
 ],
 "metadata": {
  "kernelspec": {
   "display_name": "Python 3",
   "language": "python",
   "name": "python3"
  },
  "language_info": {
   "codemirror_mode": {
    "name": "ipython",
    "version": 3
   },
   "file_extension": ".py",
   "mimetype": "text/x-python",
   "name": "python",
   "nbconvert_exporter": "python",
   "pygments_lexer": "ipython3",
   "version": "3.8.10"
  },
  "widgets": {
   "application/vnd.jupyter.widget-state+json": {
    "state": {
     "10ae59255dcc4705af3546fa69bdc890": {
      "model_module": "@jupyter-widgets/base",
      "model_module_version": "1.2.0",
      "model_name": "LayoutModel",
      "state": {
       "_model_module": "@jupyter-widgets/base",
       "_model_module_version": "1.2.0",
       "_model_name": "LayoutModel",
       "_view_count": null,
       "_view_module": "@jupyter-widgets/base",
       "_view_module_version": "1.2.0",
       "_view_name": "LayoutView",
       "align_content": null,
       "align_items": null,
       "align_self": null,
       "border": null,
       "bottom": null,
       "display": null,
       "flex": null,
       "flex_flow": null,
       "grid_area": null,
       "grid_auto_columns": null,
       "grid_auto_flow": null,
       "grid_auto_rows": null,
       "grid_column": null,
       "grid_gap": null,
       "grid_row": null,
       "grid_template_areas": null,
       "grid_template_columns": null,
       "grid_template_rows": null,
       "height": null,
       "justify_content": null,
       "justify_items": null,
       "left": null,
       "margin": null,
       "max_height": null,
       "max_width": null,
       "min_height": null,
       "min_width": null,
       "object_fit": null,
       "object_position": null,
       "order": null,
       "overflow": null,
       "overflow_x": null,
       "overflow_y": null,
       "padding": null,
       "right": null,
       "top": null,
       "visibility": null,
       "width": null
      }
     },
     "3d08174a66e54703adf2c933667d75eb": {
      "model_module": "@jupyter-widgets/controls",
      "model_module_version": "1.5.0",
      "model_name": "ProgressStyleModel",
      "state": {
       "_model_module": "@jupyter-widgets/controls",
       "_model_module_version": "1.5.0",
       "_model_name": "ProgressStyleModel",
       "_view_count": null,
       "_view_module": "@jupyter-widgets/base",
       "_view_module_version": "1.2.0",
       "_view_name": "StyleView",
       "bar_color": null,
       "description_width": "initial"
      }
     },
     "95a4e1ddec084229bd2ff77d9bf9d1d2": {
      "model_module": "@jupyter-widgets/base",
      "model_module_version": "1.2.0",
      "model_name": "LayoutModel",
      "state": {
       "_model_module": "@jupyter-widgets/base",
       "_model_module_version": "1.2.0",
       "_model_name": "LayoutModel",
       "_view_count": null,
       "_view_module": "@jupyter-widgets/base",
       "_view_module_version": "1.2.0",
       "_view_name": "LayoutView",
       "align_content": null,
       "align_items": null,
       "align_self": null,
       "border": null,
       "bottom": null,
       "display": null,
       "flex": null,
       "flex_flow": null,
       "grid_area": null,
       "grid_auto_columns": null,
       "grid_auto_flow": null,
       "grid_auto_rows": null,
       "grid_column": null,
       "grid_gap": null,
       "grid_row": null,
       "grid_template_areas": null,
       "grid_template_columns": null,
       "grid_template_rows": null,
       "height": null,
       "justify_content": null,
       "justify_items": null,
       "left": null,
       "margin": null,
       "max_height": null,
       "max_width": null,
       "min_height": null,
       "min_width": null,
       "object_fit": null,
       "object_position": null,
       "order": null,
       "overflow": null,
       "overflow_x": null,
       "overflow_y": null,
       "padding": null,
       "right": null,
       "top": null,
       "visibility": null,
       "width": null
      }
     },
     "da0c508d4cf34b5c8b4ed3416636c2bf": {
      "model_module": "@jupyter-widgets/controls",
      "model_module_version": "1.5.0",
      "model_name": "HBoxModel",
      "state": {
       "_dom_classes": [],
       "_model_module": "@jupyter-widgets/controls",
       "_model_module_version": "1.5.0",
       "_model_name": "HBoxModel",
       "_view_count": null,
       "_view_module": "@jupyter-widgets/controls",
       "_view_module_version": "1.5.0",
       "_view_name": "HBoxView",
       "box_style": "",
       "children": [
        "IPY_MODEL_e81eaaa4c1994cbaa814634d4a307e33",
        "IPY_MODEL_ece89e30055f40e59d1adcf52bdebace"
       ],
       "layout": "IPY_MODEL_eb54c47818ae46599d87fab2bb8e7ea6"
      }
     },
     "e81eaaa4c1994cbaa814634d4a307e33": {
      "model_module": "@jupyter-widgets/controls",
      "model_module_version": "1.5.0",
      "model_name": "FloatProgressModel",
      "state": {
       "_dom_classes": [],
       "_model_module": "@jupyter-widgets/controls",
       "_model_module_version": "1.5.0",
       "_model_name": "FloatProgressModel",
       "_view_count": null,
       "_view_module": "@jupyter-widgets/controls",
       "_view_module_version": "1.5.0",
       "_view_name": "ProgressView",
       "bar_style": "success",
       "description": "100%",
       "description_tooltip": null,
       "layout": "IPY_MODEL_10ae59255dcc4705af3546fa69bdc890",
       "max": 9,
       "min": 0,
       "orientation": "horizontal",
       "style": "IPY_MODEL_3d08174a66e54703adf2c933667d75eb",
       "value": 9
      }
     },
     "eb54c47818ae46599d87fab2bb8e7ea6": {
      "model_module": "@jupyter-widgets/base",
      "model_module_version": "1.2.0",
      "model_name": "LayoutModel",
      "state": {
       "_model_module": "@jupyter-widgets/base",
       "_model_module_version": "1.2.0",
       "_model_name": "LayoutModel",
       "_view_count": null,
       "_view_module": "@jupyter-widgets/base",
       "_view_module_version": "1.2.0",
       "_view_name": "LayoutView",
       "align_content": null,
       "align_items": null,
       "align_self": null,
       "border": null,
       "bottom": null,
       "display": null,
       "flex": null,
       "flex_flow": null,
       "grid_area": null,
       "grid_auto_columns": null,
       "grid_auto_flow": null,
       "grid_auto_rows": null,
       "grid_column": null,
       "grid_gap": null,
       "grid_row": null,
       "grid_template_areas": null,
       "grid_template_columns": null,
       "grid_template_rows": null,
       "height": null,
       "justify_content": null,
       "justify_items": null,
       "left": null,
       "margin": null,
       "max_height": null,
       "max_width": null,
       "min_height": null,
       "min_width": null,
       "object_fit": null,
       "object_position": null,
       "order": null,
       "overflow": null,
       "overflow_x": null,
       "overflow_y": null,
       "padding": null,
       "right": null,
       "top": null,
       "visibility": null,
       "width": null
      }
     },
     "ece89e30055f40e59d1adcf52bdebace": {
      "model_module": "@jupyter-widgets/controls",
      "model_module_version": "1.5.0",
      "model_name": "HTMLModel",
      "state": {
       "_dom_classes": [],
       "_model_module": "@jupyter-widgets/controls",
       "_model_module_version": "1.5.0",
       "_model_name": "HTMLModel",
       "_view_count": null,
       "_view_module": "@jupyter-widgets/controls",
       "_view_module_version": "1.5.0",
       "_view_name": "HTMLView",
       "description": "",
       "description_tooltip": null,
       "layout": "IPY_MODEL_95a4e1ddec084229bd2ff77d9bf9d1d2",
       "placeholder": "​",
       "style": "IPY_MODEL_efa67d6f96ab48ec82ba03bd0d098515",
       "value": " 9/9 [3:54:46&lt;00:00, 1565.12s/it]"
      }
     },
     "efa67d6f96ab48ec82ba03bd0d098515": {
      "model_module": "@jupyter-widgets/controls",
      "model_module_version": "1.5.0",
      "model_name": "DescriptionStyleModel",
      "state": {
       "_model_module": "@jupyter-widgets/controls",
       "_model_module_version": "1.5.0",
       "_model_name": "DescriptionStyleModel",
       "_view_count": null,
       "_view_module": "@jupyter-widgets/base",
       "_view_module_version": "1.2.0",
       "_view_name": "StyleView",
       "description_width": ""
      }
     }
    },
    "version_major": 2,
    "version_minor": 0
   }
  }
 },
 "nbformat": 4,
 "nbformat_minor": 5
}
