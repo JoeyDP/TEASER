{
 "cells": [
  {
   "cell_type": "code",
   "execution_count": 1,
   "id": "a65f4cb7",
   "metadata": {
    "execution": {
     "iopub.execute_input": "2022-01-21T15:48:34.017118Z",
     "iopub.status.busy": "2022-01-21T15:48:34.014647Z",
     "iopub.status.idle": "2022-01-21T15:48:34.030520Z",
     "shell.execute_reply": "2022-01-21T15:48:34.029688Z"
    }
   },
   "outputs": [],
   "source": [
    "%load_ext autoreload\n",
    "%autoreload 2"
   ]
  },
  {
   "cell_type": "markdown",
   "id": "55bab0c8",
   "metadata": {},
   "source": [
    "# Experiments with TEASER-EASE model and simulated feedback"
   ]
  },
  {
   "cell_type": "code",
   "execution_count": 2,
   "id": "ec55d42c",
   "metadata": {
    "execution": {
     "iopub.execute_input": "2022-01-21T15:48:34.035564Z",
     "iopub.status.busy": "2022-01-21T15:48:34.034598Z",
     "iopub.status.idle": "2022-01-21T15:48:35.623669Z",
     "shell.execute_reply": "2022-01-21T15:48:35.622677Z"
    }
   },
   "outputs": [],
   "source": [
    "from pathlib import Path\n",
    "import numpy as np\n",
    "\n",
    "import teaser.util as util\n",
    "import teaser.evaluation as evaluation\n",
    "\n",
    "from teaser.algorithm.teaser_ease import TEASER_EASE"
   ]
  },
  {
   "cell_type": "markdown",
   "id": "c469b253",
   "metadata": {},
   "source": [
    "## Datasets"
   ]
  },
  {
   "cell_type": "code",
   "execution_count": 3,
   "id": "e0622ed1",
   "metadata": {
    "execution": {
     "iopub.execute_input": "2022-01-21T15:48:35.629721Z",
     "iopub.status.busy": "2022-01-21T15:48:35.628809Z",
     "iopub.status.idle": "2022-01-21T15:48:35.653904Z",
     "shell.execute_reply": "2022-01-21T15:48:35.654625Z"
    }
   },
   "outputs": [],
   "source": [
    "## Uncomment corresponding directory.\n",
    "DATA_DIR = Path('../../data/ML20M/')\n",
    "# DATA_DIR = Path('../../data/Amazon Video Games/')\n",
    "# DATA_DIR = Path('../../data/Publiq/')"
   ]
  },
  {
   "cell_type": "code",
   "execution_count": 4,
   "id": "d53bce36",
   "metadata": {
    "execution": {
     "iopub.execute_input": "2022-01-21T15:48:35.659680Z",
     "iopub.status.busy": "2022-01-21T15:48:35.658760Z",
     "iopub.status.idle": "2022-01-21T15:48:35.680294Z",
     "shell.execute_reply": "2022-01-21T15:48:35.679338Z"
    }
   },
   "outputs": [],
   "source": [
    "# Shouldn't need to change this info\n",
    "INTERACTIONS_TRAIN_PATH = DATA_DIR / 'interactions.train.csv'\n",
    "INTERACTIONS_VALIN_PATH = DATA_DIR / 'interactions.valin.csv'\n",
    "INTERACTIONS_VALOUT_PATH = DATA_DIR / 'interactions.valout.csv'\n",
    "INTERACTIONS_TESTIN_PATH = DATA_DIR / 'interactions.testin.csv'\n",
    "INTERACTIONS_TESTOUT_PATH = DATA_DIR / 'interactions.testout.csv'\n",
    "\n",
    "METADATA_PATH = DATA_DIR / 'features.csv'\n",
    "\n",
    "ITEM_ID = 'itemId'\n",
    "USER_ID = 'userId'"
   ]
  },
  {
   "cell_type": "markdown",
   "id": "48457625",
   "metadata": {},
   "source": [
    "## Define algorithm and hyperparameter ranges"
   ]
  },
  {
   "cell_type": "code",
   "execution_count": 5,
   "id": "11a5ac4c",
   "metadata": {
    "execution": {
     "iopub.execute_input": "2022-01-21T15:48:35.685899Z",
     "iopub.status.busy": "2022-01-21T15:48:35.684981Z",
     "iopub.status.idle": "2022-01-21T15:48:35.710703Z",
     "shell.execute_reply": "2022-01-21T15:48:35.709778Z"
    }
   },
   "outputs": [
    {
     "data": {
      "text/plain": [
       "{'l2_ease': 500,\n",
       " 'l2_1': 100,\n",
       " 'l2_2': 100000000,\n",
       " 'rho': 100,\n",
       " 'delta': 0,\n",
       " 'max_iterations': 10}"
      ]
     },
     "execution_count": 1,
     "metadata": {},
     "output_type": "execute_result"
    }
   ],
   "source": [
    "ALG = TEASER_EASE\n",
    "\n",
    "# ML20M\n",
    "L2_EASE = 500\n",
    "L2_1 = 100\n",
    "L2_2 = 100000000\n",
    "RHO = 100\n",
    "DELTA = 0\n",
    "MAX_ITER = 10\n",
    "\n",
    "# AVG\n",
    "# L2_EASE = 100\n",
    "# L2_1 = 500\n",
    "# L2_2 = 2000\n",
    "# RHO = 10000\n",
    "# DELTA = 0\n",
    "# MAX_ITER = 15\n",
    "\n",
    "# Publiq\n",
    "# L2_EASE = 10\n",
    "# L2_1 = 500\n",
    "# L2_2 = 50000\n",
    "# RHO = 1000\n",
    "# DELTA = 0\n",
    "# MAX_ITER = 10\n",
    "\n",
    "HYPERPARAMS = {'l2_ease': L2_EASE, 'l2_1': L2_1, 'l2_2': L2_2, 'rho': RHO, 'delta': DELTA,'max_iterations': MAX_ITER}\n",
    "HYPERPARAMS"
   ]
  },
  {
   "cell_type": "markdown",
   "id": "32d25f41",
   "metadata": {},
   "source": [
    "## Parse data"
   ]
  },
  {
   "cell_type": "code",
   "execution_count": 6,
   "id": "ce0d0435",
   "metadata": {
    "execution": {
     "iopub.execute_input": "2022-01-21T15:48:35.716482Z",
     "iopub.status.busy": "2022-01-21T15:48:35.715548Z",
     "iopub.status.idle": "2022-01-21T15:48:54.252708Z",
     "shell.execute_reply": "2022-01-21T15:48:54.250914Z"
    }
   },
   "outputs": [],
   "source": [
    "S, tags = util.parse_metadata(METADATA_PATH, item_id=ITEM_ID)\n",
    "n, t = S.shape  # amount of items and tags\n",
    "\n",
    "X = util.parse_interactions(INTERACTIONS_TRAIN_PATH, item_id=ITEM_ID, user_id=USER_ID, shape_items=n)\n",
    "\n",
    "Xtest_in = util.parse_interactions(INTERACTIONS_TESTIN_PATH, item_id=ITEM_ID, user_id=USER_ID, shape_items=n)\n",
    "Xtest_out = util.parse_interactions(INTERACTIONS_TESTOUT_PATH, item_id=ITEM_ID, user_id=USER_ID, shape_items=n)"
   ]
  },
  {
   "cell_type": "code",
   "execution_count": 7,
   "id": "fcfaf306",
   "metadata": {
    "execution": {
     "iopub.execute_input": "2022-01-21T15:48:54.261883Z",
     "iopub.status.busy": "2022-01-21T15:48:54.260168Z",
     "iopub.status.idle": "2022-01-21T15:48:54.291898Z",
     "shell.execute_reply": "2022-01-21T15:48:54.292693Z"
    }
   },
   "outputs": [],
   "source": [
    "# # debug\n",
    "# d_items = 1000\n",
    "# S = S[:d_items,:]\n",
    "# tags = tags[:d_items]\n",
    "# X = X[:,:d_items]\n",
    "# Xtest_in = Xtest_in[:,:d_items]\n",
    "# Xtest_out = Xtest_out[:,:d_items]"
   ]
  },
  {
   "cell_type": "markdown",
   "id": "e89dad17",
   "metadata": {},
   "source": [
    "## Evaluate model with optimal hyperparams on test set"
   ]
  },
  {
   "cell_type": "code",
   "execution_count": 8,
   "id": "81674e0b",
   "metadata": {
    "execution": {
     "iopub.execute_input": "2022-01-21T15:48:54.298745Z",
     "iopub.status.busy": "2022-01-21T15:48:54.297790Z",
     "iopub.status.idle": "2022-01-21T16:11:16.705683Z",
     "shell.execute_reply": "2022-01-21T16:11:16.704897Z"
    },
    "scrolled": true
   },
   "outputs": [
    {
     "name": "stdout",
     "output_type": "stream",
     "text": [
      "Decompose XTX\n",
      "Decompose DTD\n"
     ]
    },
    {
     "data": {
      "application/vnd.jupyter.widget-view+json": {
       "model_id": "028c11412da4489782463a26bd8ef035",
       "version_major": 2,
       "version_minor": 0
      },
      "text/plain": [
       "HBox(children=(FloatProgress(value=0.0, max=10.0), HTML(value='')))"
      ]
     },
     "metadata": {},
     "output_type": "display_data"
    },
    {
     "name": "stdout",
     "output_type": "stream",
     "text": [
      "norm E 0.044672216207076614\n",
      "diag norm: 0.19702029516317016\n",
      "diag_diff: 0.19702029516317016\n",
      "\r\n",
      "norm E 0.044671703830224764\n",
      "diag norm: 0.19700926989788112\n",
      "diag_diff: 0.19700926989788112\n",
      "rho * change E: 0.00014114594746936798\n",
      "\r\n",
      "norm E 0.044671191520337314\n",
      "diag norm: 0.19699824549789988\n",
      "diag_diff: 0.19699824549789988\n",
      "rho * change E: 0.0001411365387456688\n",
      "\r\n",
      "norm E 0.04467067927740572\n",
      "diag norm: 0.19698722196313428\n",
      "diag_diff: 0.19698722196313428\n",
      "rho * change E: 0.00014112713089108923\n",
      "\r\n",
      "norm E 0.044670167101421576\n",
      "diag norm: 0.19697619929349164\n",
      "diag_diff: 0.19697619929349164\n",
      "rho * change E: 0.00014111772390642112\n",
      "\r\n",
      "norm E 0.04466965499237638\n",
      "diag norm: 0.19696517748887976\n",
      "diag_diff: 0.19696517748887976\n",
      "rho * change E: 0.00014110831779057134\n",
      "\r\n",
      "norm E 0.044669142950261545\n",
      "diag norm: 0.19695415654920614\n",
      "diag_diff: 0.19695415654920614\n",
      "rho * change E: 0.00014109891254413066\n",
      "\r\n",
      "norm E 0.044668630975068714\n",
      "diag norm: 0.19694313647437836\n",
      "diag_diff: 0.19694313647437836\n",
      "rho * change E: 0.00014108950816664315\n",
      "\r\n",
      "norm E 0.04466811906678931\n",
      "diag norm: 0.19693211726430399\n",
      "diag_diff: 0.19693211726430399\n",
      "rho * change E: 0.00014108010465832682\n",
      "\r\n",
      "norm E 0.04466760722541493\n",
      "diag norm: 0.19692109891889079\n",
      "diag_diff: 0.19692109891889079\n",
      "rho * change E: 0.00014107070201869177\n",
      "\r\n",
      "\n",
      "Fitting EASE\n",
      "CPU times: user 9h 42s, sys: 1h 19min 21s, total: 10h 20min 4s\n",
      "Wall time: 22min 22s\n"
     ]
    },
    {
     "data": {
      "text/plain": [
       "<teaser.algorithm.teaser_ease.TEASER_EASE at 0x7efc13f68438>"
      ]
     },
     "execution_count": 1,
     "metadata": {},
     "output_type": "execute_result"
    }
   ],
   "source": [
    "%%time\n",
    "alg = ALG(**HYPERPARAMS)\n",
    "alg.fit(X, S)"
   ]
  },
  {
   "cell_type": "code",
   "execution_count": 9,
   "id": "33b6aadc",
   "metadata": {
    "execution": {
     "iopub.execute_input": "2022-01-21T16:11:16.711403Z",
     "iopub.status.busy": "2022-01-21T16:11:16.710605Z",
     "iopub.status.idle": "2022-01-21T16:15:44.192768Z",
     "shell.execute_reply": "2022-01-21T16:15:44.191306Z"
    }
   },
   "outputs": [
    {
     "name": "stdout",
     "output_type": "stream",
     "text": [
      "Performance on test set with simulation\n",
      "Pos feedback count: 1 with strength (out of 5): 3\n",
      "Evaluating with 10000 users\n",
      "Average Recall@20 0.365\n",
      "Average Recall@100 0.61\n",
      "Average nDCG@100 0.394\n",
      "\n",
      "Pos feedback count: 2 with strength (out of 5): 3\n",
      "Evaluating with 10000 users\n",
      "Average Recall@20 0.373\n",
      "Average Recall@100 0.617\n",
      "Average nDCG@100 0.4\n",
      "\n"
     ]
    }
   ],
   "source": [
    "print(\"Performance on test set with simulation\")\n",
    "for POS_FEEDBACK in [1, 2]:\n",
    "    for STRENGTH in [3]:\n",
    "        print(\"Pos feedback count:\", POS_FEEDBACK, \"with strength (out of 5):\", STRENGTH)\n",
    "        score = evaluation.simulate(alg, Xtest_in, Xtest_out, S, pos_feedback=POS_FEEDBACK, strength=STRENGTH, repeats=3)\n",
    "    print()"
   ]
  }
 ],
 "metadata": {
  "kernelspec": {
   "display_name": "Python 3",
   "language": "python",
   "name": "python3"
  },
  "language_info": {
   "codemirror_mode": {
    "name": "ipython",
    "version": 3
   },
   "file_extension": ".py",
   "mimetype": "text/x-python",
   "name": "python",
   "nbconvert_exporter": "python",
   "pygments_lexer": "ipython3",
   "version": "3.6.9"
  },
  "widgets": {
   "application/vnd.jupyter.widget-state+json": {
    "state": {
     "028c11412da4489782463a26bd8ef035": {
      "model_module": "@jupyter-widgets/controls",
      "model_module_version": "1.5.0",
      "model_name": "HBoxModel",
      "state": {
       "_dom_classes": [],
       "_model_module": "@jupyter-widgets/controls",
       "_model_module_version": "1.5.0",
       "_model_name": "HBoxModel",
       "_view_count": null,
       "_view_module": "@jupyter-widgets/controls",
       "_view_module_version": "1.5.0",
       "_view_name": "HBoxView",
       "box_style": "",
       "children": [
        "IPY_MODEL_826b55d61fd54be98b9547f60ec2f053",
        "IPY_MODEL_44be2a1d63284a4ab58f730b4b48d787"
       ],
       "layout": "IPY_MODEL_b99f1774fe7948f1acb65b4788a42667"
      }
     },
     "44be2a1d63284a4ab58f730b4b48d787": {
      "model_module": "@jupyter-widgets/controls",
      "model_module_version": "1.5.0",
      "model_name": "HTMLModel",
      "state": {
       "_dom_classes": [],
       "_model_module": "@jupyter-widgets/controls",
       "_model_module_version": "1.5.0",
       "_model_name": "HTMLModel",
       "_view_count": null,
       "_view_module": "@jupyter-widgets/controls",
       "_view_module_version": "1.5.0",
       "_view_name": "HTMLView",
       "description": "",
       "description_tooltip": null,
       "layout": "IPY_MODEL_8232be4158074b70bd1556915b7b4e47",
       "placeholder": "​",
       "style": "IPY_MODEL_b755a87c18cc4a2a91e18389c6ccc375",
       "value": " 10/10 [10:56&lt;00:00, 65.60s/it]"
      }
     },
     "8232be4158074b70bd1556915b7b4e47": {
      "model_module": "@jupyter-widgets/base",
      "model_module_version": "1.2.0",
      "model_name": "LayoutModel",
      "state": {
       "_model_module": "@jupyter-widgets/base",
       "_model_module_version": "1.2.0",
       "_model_name": "LayoutModel",
       "_view_count": null,
       "_view_module": "@jupyter-widgets/base",
       "_view_module_version": "1.2.0",
       "_view_name": "LayoutView",
       "align_content": null,
       "align_items": null,
       "align_self": null,
       "border": null,
       "bottom": null,
       "display": null,
       "flex": null,
       "flex_flow": null,
       "grid_area": null,
       "grid_auto_columns": null,
       "grid_auto_flow": null,
       "grid_auto_rows": null,
       "grid_column": null,
       "grid_gap": null,
       "grid_row": null,
       "grid_template_areas": null,
       "grid_template_columns": null,
       "grid_template_rows": null,
       "height": null,
       "justify_content": null,
       "justify_items": null,
       "left": null,
       "margin": null,
       "max_height": null,
       "max_width": null,
       "min_height": null,
       "min_width": null,
       "object_fit": null,
       "object_position": null,
       "order": null,
       "overflow": null,
       "overflow_x": null,
       "overflow_y": null,
       "padding": null,
       "right": null,
       "top": null,
       "visibility": null,
       "width": null
      }
     },
     "826b55d61fd54be98b9547f60ec2f053": {
      "model_module": "@jupyter-widgets/controls",
      "model_module_version": "1.5.0",
      "model_name": "FloatProgressModel",
      "state": {
       "_dom_classes": [],
       "_model_module": "@jupyter-widgets/controls",
       "_model_module_version": "1.5.0",
       "_model_name": "FloatProgressModel",
       "_view_count": null,
       "_view_module": "@jupyter-widgets/controls",
       "_view_module_version": "1.5.0",
       "_view_name": "ProgressView",
       "bar_style": "success",
       "description": "100%",
       "description_tooltip": null,
       "layout": "IPY_MODEL_ed07d8333b1d4ca691b5d307943ded86",
       "max": 10.0,
       "min": 0.0,
       "orientation": "horizontal",
       "style": "IPY_MODEL_eec77db5da65424782c256b97eea5aeb",
       "value": 10.0
      }
     },
     "b755a87c18cc4a2a91e18389c6ccc375": {
      "model_module": "@jupyter-widgets/controls",
      "model_module_version": "1.5.0",
      "model_name": "DescriptionStyleModel",
      "state": {
       "_model_module": "@jupyter-widgets/controls",
       "_model_module_version": "1.5.0",
       "_model_name": "DescriptionStyleModel",
       "_view_count": null,
       "_view_module": "@jupyter-widgets/base",
       "_view_module_version": "1.2.0",
       "_view_name": "StyleView",
       "description_width": ""
      }
     },
     "b99f1774fe7948f1acb65b4788a42667": {
      "model_module": "@jupyter-widgets/base",
      "model_module_version": "1.2.0",
      "model_name": "LayoutModel",
      "state": {
       "_model_module": "@jupyter-widgets/base",
       "_model_module_version": "1.2.0",
       "_model_name": "LayoutModel",
       "_view_count": null,
       "_view_module": "@jupyter-widgets/base",
       "_view_module_version": "1.2.0",
       "_view_name": "LayoutView",
       "align_content": null,
       "align_items": null,
       "align_self": null,
       "border": null,
       "bottom": null,
       "display": null,
       "flex": null,
       "flex_flow": null,
       "grid_area": null,
       "grid_auto_columns": null,
       "grid_auto_flow": null,
       "grid_auto_rows": null,
       "grid_column": null,
       "grid_gap": null,
       "grid_row": null,
       "grid_template_areas": null,
       "grid_template_columns": null,
       "grid_template_rows": null,
       "height": null,
       "justify_content": null,
       "justify_items": null,
       "left": null,
       "margin": null,
       "max_height": null,
       "max_width": null,
       "min_height": null,
       "min_width": null,
       "object_fit": null,
       "object_position": null,
       "order": null,
       "overflow": null,
       "overflow_x": null,
       "overflow_y": null,
       "padding": null,
       "right": null,
       "top": null,
       "visibility": null,
       "width": null
      }
     },
     "ed07d8333b1d4ca691b5d307943ded86": {
      "model_module": "@jupyter-widgets/base",
      "model_module_version": "1.2.0",
      "model_name": "LayoutModel",
      "state": {
       "_model_module": "@jupyter-widgets/base",
       "_model_module_version": "1.2.0",
       "_model_name": "LayoutModel",
       "_view_count": null,
       "_view_module": "@jupyter-widgets/base",
       "_view_module_version": "1.2.0",
       "_view_name": "LayoutView",
       "align_content": null,
       "align_items": null,
       "align_self": null,
       "border": null,
       "bottom": null,
       "display": null,
       "flex": null,
       "flex_flow": null,
       "grid_area": null,
       "grid_auto_columns": null,
       "grid_auto_flow": null,
       "grid_auto_rows": null,
       "grid_column": null,
       "grid_gap": null,
       "grid_row": null,
       "grid_template_areas": null,
       "grid_template_columns": null,
       "grid_template_rows": null,
       "height": null,
       "justify_content": null,
       "justify_items": null,
       "left": null,
       "margin": null,
       "max_height": null,
       "max_width": null,
       "min_height": null,
       "min_width": null,
       "object_fit": null,
       "object_position": null,
       "order": null,
       "overflow": null,
       "overflow_x": null,
       "overflow_y": null,
       "padding": null,
       "right": null,
       "top": null,
       "visibility": null,
       "width": null
      }
     },
     "eec77db5da65424782c256b97eea5aeb": {
      "model_module": "@jupyter-widgets/controls",
      "model_module_version": "1.5.0",
      "model_name": "ProgressStyleModel",
      "state": {
       "_model_module": "@jupyter-widgets/controls",
       "_model_module_version": "1.5.0",
       "_model_name": "ProgressStyleModel",
       "_view_count": null,
       "_view_module": "@jupyter-widgets/base",
       "_view_module_version": "1.2.0",
       "_view_name": "StyleView",
       "bar_color": null,
       "description_width": "initial"
      }
     }
    },
    "version_major": 2,
    "version_minor": 0
   }
  }
 },
 "nbformat": 4,
 "nbformat_minor": 5
}
