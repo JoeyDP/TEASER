{
 "cells": [
  {
   "cell_type": "code",
   "execution_count": 1,
   "id": "a65f4cb7",
   "metadata": {
    "execution": {
     "iopub.execute_input": "2022-01-21T14:49:49.936058Z",
     "iopub.status.busy": "2022-01-21T14:49:49.934463Z",
     "iopub.status.idle": "2022-01-21T14:49:49.949225Z",
     "shell.execute_reply": "2022-01-21T14:49:49.949745Z"
    }
   },
   "outputs": [],
   "source": [
    "%load_ext autoreload\n",
    "%autoreload 2"
   ]
  },
  {
   "cell_type": "markdown",
   "id": "55bab0c8",
   "metadata": {},
   "source": [
    "# Experiments with TEASER-S model and simulated feedback"
   ]
  },
  {
   "cell_type": "code",
   "execution_count": 2,
   "id": "ec55d42c",
   "metadata": {
    "execution": {
     "iopub.execute_input": "2022-01-21T14:49:49.953645Z",
     "iopub.status.busy": "2022-01-21T14:49:49.952992Z",
     "iopub.status.idle": "2022-01-21T14:49:51.601169Z",
     "shell.execute_reply": "2022-01-21T14:49:51.601693Z"
    }
   },
   "outputs": [],
   "source": [
    "from pathlib import Path\n",
    "import numpy as np\n",
    "\n",
    "import teaser.util as util\n",
    "import teaser.evaluation as evaluation\n",
    "\n",
    "from teaser.algorithm.teaser_s import TEASER_S"
   ]
  },
  {
   "cell_type": "markdown",
   "id": "c469b253",
   "metadata": {},
   "source": [
    "## Datasets"
   ]
  },
  {
   "cell_type": "code",
   "execution_count": 3,
   "id": "e0622ed1",
   "metadata": {
    "execution": {
     "iopub.execute_input": "2022-01-21T14:49:51.606114Z",
     "iopub.status.busy": "2022-01-21T14:49:51.605482Z",
     "iopub.status.idle": "2022-01-21T14:49:51.625653Z",
     "shell.execute_reply": "2022-01-21T14:49:51.626156Z"
    }
   },
   "outputs": [],
   "source": [
    "## Uncomment corresponding directory.\n",
    "DATA_DIR = Path('../../data/ML20M/')\n",
    "# DATA_DIR = Path('../../data/Amazon Video Games/')\n",
    "# DATA_DIR = Path('../../data/Publiq/')"
   ]
  },
  {
   "cell_type": "code",
   "execution_count": 4,
   "id": "d53bce36",
   "metadata": {
    "execution": {
     "iopub.execute_input": "2022-01-21T14:49:51.630254Z",
     "iopub.status.busy": "2022-01-21T14:49:51.629610Z",
     "iopub.status.idle": "2022-01-21T14:49:51.649240Z",
     "shell.execute_reply": "2022-01-21T14:49:51.649741Z"
    }
   },
   "outputs": [],
   "source": [
    "# Shouldn't need to change this info\n",
    "INTERACTIONS_TRAIN_PATH = DATA_DIR / 'interactions.train.csv'\n",
    "INTERACTIONS_VALIN_PATH = DATA_DIR / 'interactions.valin.csv'\n",
    "INTERACTIONS_VALOUT_PATH = DATA_DIR / 'interactions.valout.csv'\n",
    "INTERACTIONS_TESTIN_PATH = DATA_DIR / 'interactions.testin.csv'\n",
    "INTERACTIONS_TESTOUT_PATH = DATA_DIR / 'interactions.testout.csv'\n",
    "\n",
    "METADATA_PATH = DATA_DIR / 'features.csv'\n",
    "\n",
    "ITEM_ID = 'itemId'\n",
    "USER_ID = 'userId'"
   ]
  },
  {
   "cell_type": "markdown",
   "id": "48457625",
   "metadata": {},
   "source": [
    "## Define algorithm and hyperparameter ranges"
   ]
  },
  {
   "cell_type": "code",
   "execution_count": 5,
   "id": "11a5ac4c",
   "metadata": {
    "execution": {
     "iopub.execute_input": "2022-01-21T14:49:51.654230Z",
     "iopub.status.busy": "2022-01-21T14:49:51.653570Z",
     "iopub.status.idle": "2022-01-21T14:49:51.676522Z",
     "shell.execute_reply": "2022-01-21T14:49:51.677059Z"
    }
   },
   "outputs": [
    {
     "data": {
      "text/plain": [
       "{'l2_1': 100, 'l2_2': 100000000, 'rho': 1000, 'delta': 0, 'max_iterations': 10}"
      ]
     },
     "execution_count": 1,
     "metadata": {},
     "output_type": "execute_result"
    }
   ],
   "source": [
    "ALG = TEASER_S\n",
    "\n",
    "# ML20M\n",
    "L2_1 = 100\n",
    "L2_2 = 100000000\n",
    "RHO = 1000\n",
    "DELTA = 0\n",
    "MAX_ITER = 10\n",
    "\n",
    "# AVG\n",
    "# L2_1 = 500\n",
    "# L2_2 = 2000\n",
    "# RHO = 10000\n",
    "# DELTA = 0\n",
    "# MAX_ITER = 15\n",
    "\n",
    "# Publiq\n",
    "# L2_1 = 500\n",
    "# L2_2 = 50000\n",
    "# RHO = 1000\n",
    "# DELTA = 0\n",
    "# MAX_ITER = 10\n",
    "\n",
    "HYPERPARAMS = {'l2_1': L2_1, 'l2_2': L2_2, 'rho': RHO, 'delta': DELTA,'max_iterations': MAX_ITER}\n",
    "HYPERPARAMS"
   ]
  },
  {
   "cell_type": "markdown",
   "id": "32d25f41",
   "metadata": {},
   "source": [
    "## Parse data"
   ]
  },
  {
   "cell_type": "code",
   "execution_count": 6,
   "id": "ce0d0435",
   "metadata": {
    "execution": {
     "iopub.execute_input": "2022-01-21T14:49:51.681936Z",
     "iopub.status.busy": "2022-01-21T14:49:51.681295Z",
     "iopub.status.idle": "2022-01-21T14:50:06.739770Z",
     "shell.execute_reply": "2022-01-21T14:50:06.740194Z"
    }
   },
   "outputs": [],
   "source": [
    "S, tags = util.parse_metadata(METADATA_PATH, item_id=ITEM_ID)\n",
    "n, t = S.shape  # amount of items and tags\n",
    "\n",
    "X = util.parse_interactions(INTERACTIONS_TRAIN_PATH, item_id=ITEM_ID, user_id=USER_ID, shape_items=n)\n",
    "\n",
    "Xtest_in = util.parse_interactions(INTERACTIONS_TESTIN_PATH, item_id=ITEM_ID, user_id=USER_ID, shape_items=n)\n",
    "Xtest_out = util.parse_interactions(INTERACTIONS_TESTOUT_PATH, item_id=ITEM_ID, user_id=USER_ID, shape_items=n)"
   ]
  },
  {
   "cell_type": "code",
   "execution_count": 7,
   "id": "fcfaf306",
   "metadata": {
    "execution": {
     "iopub.execute_input": "2022-01-21T14:50:06.743509Z",
     "iopub.status.busy": "2022-01-21T14:50:06.742995Z",
     "iopub.status.idle": "2022-01-21T14:50:06.762545Z",
     "shell.execute_reply": "2022-01-21T14:50:06.762951Z"
    }
   },
   "outputs": [],
   "source": [
    "# # debug\n",
    "# d_items = 1000\n",
    "# S = S[:d_items,:]\n",
    "# tags = tags[:d_items]\n",
    "# X = X[:,:d_items]\n",
    "# Xtest_in = Xtest_in[:,:d_items]\n",
    "# Xtest_out = Xtest_out[:,:d_items]"
   ]
  },
  {
   "cell_type": "markdown",
   "id": "e89dad17",
   "metadata": {},
   "source": [
    "## Evaluate model with optimal hyperparams on test set"
   ]
  },
  {
   "cell_type": "code",
   "execution_count": 8,
   "id": "6badc750",
   "metadata": {
    "execution": {
     "iopub.execute_input": "2022-01-21T14:50:06.766293Z",
     "iopub.status.busy": "2022-01-21T14:50:06.765771Z",
     "iopub.status.idle": "2022-01-21T15:29:19.396014Z",
     "shell.execute_reply": "2022-01-21T15:29:19.396442Z"
    }
   },
   "outputs": [],
   "source": [
    "# Precomput XTX and decomposition of XTX, since it's needed for all hyperparameters combinations and doesn't change\n",
    "XTX = (X.T @ X).toarray()\n",
    "p, U = np.linalg.eigh(XTX)\n",
    "fit_params = {'XTX': XTX, 'p': p, 'U': U}"
   ]
  },
  {
   "cell_type": "code",
   "execution_count": 9,
   "id": "81674e0b",
   "metadata": {
    "execution": {
     "iopub.execute_input": "2022-01-21T15:29:19.400688Z",
     "iopub.status.busy": "2022-01-21T15:29:19.399899Z",
     "iopub.status.idle": "2022-01-21T16:32:40.762549Z",
     "shell.execute_reply": "2022-01-21T16:32:40.763921Z"
    },
    "scrolled": true
   },
   "outputs": [
    {
     "name": "stdout",
     "output_type": "stream",
     "text": [
      "Decompose DTD\n"
     ]
    },
    {
     "data": {
      "application/vnd.jupyter.widget-view+json": {
       "model_id": "a926da0a5ce0454d933d06ef96b43375",
       "version_major": 2,
       "version_minor": 0
      },
      "text/plain": [
       "HBox(children=(FloatProgress(value=0.0, max=10.0), HTML(value='')))"
      ]
     },
     "metadata": {},
     "output_type": "display_data"
    },
    {
     "name": "stdout",
     "output_type": "stream",
     "text": [
      "norm E 0.1681452872166037\n",
      "diag norm: 0.11399075242549635\n",
      "diag_diff: 2.363929507316824\n",
      "\r\n",
      "norm E 0.16540632775221895\n",
      "diag norm: 0.11217234396016726\n",
      "diag_diff: 1.1916742464242325\n",
      "rho * change E: 3.4051488172975164\n",
      "\r\n",
      "norm E 0.16711708803567438\n",
      "diag norm: 0.11322435441718634\n",
      "diag_diff: 0.6035439873478129\n",
      "rho * change E: 2.091047893033957\n",
      "\r\n",
      "norm E 0.16789334082227445\n",
      "diag norm: 0.11367490277421534\n",
      "diag_diff: 0.31511990390257727\n",
      "rho * change E: 0.9673670068445457\n",
      "\r\n",
      "norm E 0.16833709341865988\n",
      "diag norm: 0.11391009473811954\n",
      "diag_diff: 0.18123724917007575\n",
      "rho * change E: 0.5368068197486123\n",
      "\r\n",
      "norm E 0.16859127593484713\n",
      "diag norm: 0.11402335465006111\n",
      "diag_diff: 0.12700848530665543\n",
      "rho * change E: 0.2998128632097465\n",
      "\r\n",
      "norm E 0.16874650694913243\n",
      "diag norm: 0.11407308488877094\n",
      "diag_diff: 0.1102396678461191\n",
      "rho * change E: 0.1781282276208033\n",
      "\r\n",
      "norm E 0.16882985118764474\n",
      "diag norm: 0.11407500936128981\n",
      "diag_diff: 0.10613862284895395\n",
      "rho * change E: 0.09514390886370244\n",
      "\r\n",
      "norm E 0.16888230339053556\n",
      "diag norm: 0.11405733313729897\n",
      "diag_diff: 0.10504709350038739\n",
      "rho * change E: 0.059964208924222086\n",
      "\r\n",
      "norm E 0.1689294499179529\n",
      "diag norm: 0.11403673523632997\n",
      "diag_diff: 0.10459464588176927\n",
      "rho * change E: 0.05389087985643496\n",
      "\r\n",
      "\n",
      "CPU times: user 1h 2min 54s, sys: 27.2 s, total: 1h 3min 21s\n",
      "Wall time: 1h 3min 21s\n"
     ]
    },
    {
     "data": {
      "text/plain": [
       "<teaser.algorithm.teaser_s.TEASER_S at 0x7f10b9b59a20>"
      ]
     },
     "execution_count": 1,
     "metadata": {},
     "output_type": "execute_result"
    }
   ],
   "source": [
    "%%time\n",
    "alg = ALG(**HYPERPARAMS)\n",
    "alg.fit(X, S, **fit_params)"
   ]
  },
  {
   "cell_type": "code",
   "execution_count": 10,
   "id": "33b6aadc",
   "metadata": {
    "execution": {
     "iopub.execute_input": "2022-01-21T16:32:40.772300Z",
     "iopub.status.busy": "2022-01-21T16:32:40.771605Z",
     "iopub.status.idle": "2022-01-21T16:36:13.414254Z",
     "shell.execute_reply": "2022-01-21T16:36:13.414919Z"
    }
   },
   "outputs": [
    {
     "name": "stdout",
     "output_type": "stream",
     "text": [
      "Performance on test set with simulation\n",
      "Pos feedback count: 1 with strength (out of 5): 3\n",
      "Evaluating with 10000 users\n",
      "Average Recall@20 0.128\n",
      "Average Recall@100 0.267\n",
      "Average nDCG@100 0.152\n",
      "\n",
      "Pos feedback count: 2 with strength (out of 5): 3\n",
      "Evaluating with 10000 users\n",
      "Average Recall@20 0.151\n",
      "Average Recall@100 0.305\n",
      "Average nDCG@100 0.171\n",
      "\n"
     ]
    }
   ],
   "source": [
    "print(\"Performance on test set with simulation\")\n",
    "for POS_FEEDBACK in [1, 2]:\n",
    "    for STRENGTH in [3]:\n",
    "        print(\"Pos feedback count:\", POS_FEEDBACK, \"with strength (out of 5):\", STRENGTH)\n",
    "        score = evaluation.simulate(alg, Xtest_in, Xtest_out, S, pos_feedback=POS_FEEDBACK, strength=STRENGTH, repeats=3)\n",
    "    print()"
   ]
  }
 ],
 "metadata": {
  "kernelspec": {
   "display_name": "Python 3",
   "language": "python",
   "name": "python3"
  },
  "language_info": {
   "codemirror_mode": {
    "name": "ipython",
    "version": 3
   },
   "file_extension": ".py",
   "mimetype": "text/x-python",
   "name": "python",
   "nbconvert_exporter": "python",
   "pygments_lexer": "ipython3",
   "version": "3.6.9"
  },
  "widgets": {
   "application/vnd.jupyter.widget-state+json": {
    "state": {
     "13fbad61bfdb48f48ba40ac62d2286cb": {
      "model_module": "@jupyter-widgets/controls",
      "model_module_version": "1.5.0",
      "model_name": "FloatProgressModel",
      "state": {
       "_dom_classes": [],
       "_model_module": "@jupyter-widgets/controls",
       "_model_module_version": "1.5.0",
       "_model_name": "FloatProgressModel",
       "_view_count": null,
       "_view_module": "@jupyter-widgets/controls",
       "_view_module_version": "1.5.0",
       "_view_name": "ProgressView",
       "bar_style": "success",
       "description": "100%",
       "description_tooltip": null,
       "layout": "IPY_MODEL_d63842352d7949719c1f0910e6b83321",
       "max": 10.0,
       "min": 0.0,
       "orientation": "horizontal",
       "style": "IPY_MODEL_3e48677ec2804170b5052fcad10ae08b",
       "value": 10.0
      }
     },
     "3e48677ec2804170b5052fcad10ae08b": {
      "model_module": "@jupyter-widgets/controls",
      "model_module_version": "1.5.0",
      "model_name": "ProgressStyleModel",
      "state": {
       "_model_module": "@jupyter-widgets/controls",
       "_model_module_version": "1.5.0",
       "_model_name": "ProgressStyleModel",
       "_view_count": null,
       "_view_module": "@jupyter-widgets/base",
       "_view_module_version": "1.2.0",
       "_view_name": "StyleView",
       "bar_color": null,
       "description_width": "initial"
      }
     },
     "9516c53ca2644a0bac49f27786b8237b": {
      "model_module": "@jupyter-widgets/base",
      "model_module_version": "1.2.0",
      "model_name": "LayoutModel",
      "state": {
       "_model_module": "@jupyter-widgets/base",
       "_model_module_version": "1.2.0",
       "_model_name": "LayoutModel",
       "_view_count": null,
       "_view_module": "@jupyter-widgets/base",
       "_view_module_version": "1.2.0",
       "_view_name": "LayoutView",
       "align_content": null,
       "align_items": null,
       "align_self": null,
       "border": null,
       "bottom": null,
       "display": null,
       "flex": null,
       "flex_flow": null,
       "grid_area": null,
       "grid_auto_columns": null,
       "grid_auto_flow": null,
       "grid_auto_rows": null,
       "grid_column": null,
       "grid_gap": null,
       "grid_row": null,
       "grid_template_areas": null,
       "grid_template_columns": null,
       "grid_template_rows": null,
       "height": null,
       "justify_content": null,
       "justify_items": null,
       "left": null,
       "margin": null,
       "max_height": null,
       "max_width": null,
       "min_height": null,
       "min_width": null,
       "object_fit": null,
       "object_position": null,
       "order": null,
       "overflow": null,
       "overflow_x": null,
       "overflow_y": null,
       "padding": null,
       "right": null,
       "top": null,
       "visibility": null,
       "width": null
      }
     },
     "a926da0a5ce0454d933d06ef96b43375": {
      "model_module": "@jupyter-widgets/controls",
      "model_module_version": "1.5.0",
      "model_name": "HBoxModel",
      "state": {
       "_dom_classes": [],
       "_model_module": "@jupyter-widgets/controls",
       "_model_module_version": "1.5.0",
       "_model_name": "HBoxModel",
       "_view_count": null,
       "_view_module": "@jupyter-widgets/controls",
       "_view_module_version": "1.5.0",
       "_view_name": "HBoxView",
       "box_style": "",
       "children": [
        "IPY_MODEL_13fbad61bfdb48f48ba40ac62d2286cb",
        "IPY_MODEL_c6da9fd1e4754ed3b1ae827901be5eac"
       ],
       "layout": "IPY_MODEL_ed11be7715624d2f934b23983be4a677"
      }
     },
     "c6da9fd1e4754ed3b1ae827901be5eac": {
      "model_module": "@jupyter-widgets/controls",
      "model_module_version": "1.5.0",
      "model_name": "HTMLModel",
      "state": {
       "_dom_classes": [],
       "_model_module": "@jupyter-widgets/controls",
       "_model_module_version": "1.5.0",
       "_model_name": "HTMLModel",
       "_view_count": null,
       "_view_module": "@jupyter-widgets/controls",
       "_view_module_version": "1.5.0",
       "_view_name": "HTMLView",
       "description": "",
       "description_tooltip": null,
       "layout": "IPY_MODEL_9516c53ca2644a0bac49f27786b8237b",
       "placeholder": "​",
       "style": "IPY_MODEL_e8e7c82d387c4fd5859fc9be21c57018",
       "value": " 10/10 [1:03:08&lt;00:00, 378.85s/it]"
      }
     },
     "d63842352d7949719c1f0910e6b83321": {
      "model_module": "@jupyter-widgets/base",
      "model_module_version": "1.2.0",
      "model_name": "LayoutModel",
      "state": {
       "_model_module": "@jupyter-widgets/base",
       "_model_module_version": "1.2.0",
       "_model_name": "LayoutModel",
       "_view_count": null,
       "_view_module": "@jupyter-widgets/base",
       "_view_module_version": "1.2.0",
       "_view_name": "LayoutView",
       "align_content": null,
       "align_items": null,
       "align_self": null,
       "border": null,
       "bottom": null,
       "display": null,
       "flex": null,
       "flex_flow": null,
       "grid_area": null,
       "grid_auto_columns": null,
       "grid_auto_flow": null,
       "grid_auto_rows": null,
       "grid_column": null,
       "grid_gap": null,
       "grid_row": null,
       "grid_template_areas": null,
       "grid_template_columns": null,
       "grid_template_rows": null,
       "height": null,
       "justify_content": null,
       "justify_items": null,
       "left": null,
       "margin": null,
       "max_height": null,
       "max_width": null,
       "min_height": null,
       "min_width": null,
       "object_fit": null,
       "object_position": null,
       "order": null,
       "overflow": null,
       "overflow_x": null,
       "overflow_y": null,
       "padding": null,
       "right": null,
       "top": null,
       "visibility": null,
       "width": null
      }
     },
     "e8e7c82d387c4fd5859fc9be21c57018": {
      "model_module": "@jupyter-widgets/controls",
      "model_module_version": "1.5.0",
      "model_name": "DescriptionStyleModel",
      "state": {
       "_model_module": "@jupyter-widgets/controls",
       "_model_module_version": "1.5.0",
       "_model_name": "DescriptionStyleModel",
       "_view_count": null,
       "_view_module": "@jupyter-widgets/base",
       "_view_module_version": "1.2.0",
       "_view_name": "StyleView",
       "description_width": ""
      }
     },
     "ed11be7715624d2f934b23983be4a677": {
      "model_module": "@jupyter-widgets/base",
      "model_module_version": "1.2.0",
      "model_name": "LayoutModel",
      "state": {
       "_model_module": "@jupyter-widgets/base",
       "_model_module_version": "1.2.0",
       "_model_name": "LayoutModel",
       "_view_count": null,
       "_view_module": "@jupyter-widgets/base",
       "_view_module_version": "1.2.0",
       "_view_name": "LayoutView",
       "align_content": null,
       "align_items": null,
       "align_self": null,
       "border": null,
       "bottom": null,
       "display": null,
       "flex": null,
       "flex_flow": null,
       "grid_area": null,
       "grid_auto_columns": null,
       "grid_auto_flow": null,
       "grid_auto_rows": null,
       "grid_column": null,
       "grid_gap": null,
       "grid_row": null,
       "grid_template_areas": null,
       "grid_template_columns": null,
       "grid_template_rows": null,
       "height": null,
       "justify_content": null,
       "justify_items": null,
       "left": null,
       "margin": null,
       "max_height": null,
       "max_width": null,
       "min_height": null,
       "min_width": null,
       "object_fit": null,
       "object_position": null,
       "order": null,
       "overflow": null,
       "overflow_x": null,
       "overflow_y": null,
       "padding": null,
       "right": null,
       "top": null,
       "visibility": null,
       "width": null
      }
     }
    },
    "version_major": 2,
    "version_minor": 0
   }
  }
 },
 "nbformat": 4,
 "nbformat_minor": 5
}
