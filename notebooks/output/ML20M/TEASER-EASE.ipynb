{
 "cells": [
  {
   "cell_type": "code",
   "execution_count": 1,
   "id": "a65f4cb7",
   "metadata": {
    "execution": {
     "iopub.execute_input": "2021-10-14T12:25:17.002735Z",
     "iopub.status.busy": "2021-10-14T12:25:17.000287Z",
     "iopub.status.idle": "2021-10-14T12:25:17.015985Z",
     "shell.execute_reply": "2021-10-14T12:25:17.016789Z"
    }
   },
   "outputs": [],
   "source": [
    "%load_ext autoreload\n",
    "%autoreload 2"
   ]
  },
  {
   "cell_type": "markdown",
   "id": "55bab0c8",
   "metadata": {},
   "source": [
    "# Experiments with TEASER-EASE model"
   ]
  },
  {
   "cell_type": "code",
   "execution_count": 2,
   "id": "ec55d42c",
   "metadata": {
    "execution": {
     "iopub.execute_input": "2021-10-14T12:25:17.022662Z",
     "iopub.status.busy": "2021-10-14T12:25:17.021440Z",
     "iopub.status.idle": "2021-10-14T12:25:23.172648Z",
     "shell.execute_reply": "2021-10-14T12:25:23.173598Z"
    }
   },
   "outputs": [],
   "source": [
    "from pathlib import Path\n",
    "import numpy as np\n",
    "\n",
    "import teaser.util as util\n",
    "import teaser.evaluation as evaluation\n",
    "\n",
    "from teaser.algorithm.teaser_ease import TEASER_EASE"
   ]
  },
  {
   "cell_type": "markdown",
   "id": "c469b253",
   "metadata": {},
   "source": [
    "## Datasets"
   ]
  },
  {
   "cell_type": "code",
   "execution_count": 3,
   "id": "e0622ed1",
   "metadata": {
    "execution": {
     "iopub.execute_input": "2021-10-14T12:25:23.180114Z",
     "iopub.status.busy": "2021-10-14T12:25:23.178881Z",
     "iopub.status.idle": "2021-10-14T12:25:23.200971Z",
     "shell.execute_reply": "2021-10-14T12:25:23.199927Z"
    }
   },
   "outputs": [],
   "source": [
    "## Uncomment corresponding directory.\n",
    "DATA_DIR = Path('../../data/ML20M/')\n",
    "# DATA_DIR = Path('../../data/Amazon Video Games/')\n",
    "# DATA_DIR = Path('../../data/Publiq/')"
   ]
  },
  {
   "cell_type": "code",
   "execution_count": 4,
   "id": "d53bce36",
   "metadata": {
    "execution": {
     "iopub.execute_input": "2021-10-14T12:25:23.208090Z",
     "iopub.status.busy": "2021-10-14T12:25:23.206651Z",
     "iopub.status.idle": "2021-10-14T12:25:23.226870Z",
     "shell.execute_reply": "2021-10-14T12:25:23.228009Z"
    }
   },
   "outputs": [],
   "source": [
    "# Shouldn't need to change this info\n",
    "INTERACTIONS_TRAIN_PATH = DATA_DIR / 'interactions.train.csv'\n",
    "INTERACTIONS_VALIN_PATH = DATA_DIR / 'interactions.valin.csv'\n",
    "INTERACTIONS_VALOUT_PATH = DATA_DIR / 'interactions.valout.csv'\n",
    "INTERACTIONS_TESTIN_PATH = DATA_DIR / 'interactions.testin.csv'\n",
    "INTERACTIONS_TESTOUT_PATH = DATA_DIR / 'interactions.testout.csv'\n",
    "\n",
    "METADATA_PATH = DATA_DIR / 'features.csv'\n",
    "\n",
    "ITEM_ID = 'itemId'\n",
    "USER_ID = 'userId'"
   ]
  },
  {
   "cell_type": "markdown",
   "id": "48457625",
   "metadata": {},
   "source": [
    "## Define algorithm and hyperparameter ranges"
   ]
  },
  {
   "cell_type": "code",
   "execution_count": 5,
   "id": "11a5ac4c",
   "metadata": {
    "execution": {
     "iopub.execute_input": "2021-10-14T12:25:23.235702Z",
     "iopub.status.busy": "2021-10-14T12:25:23.234269Z",
     "iopub.status.idle": "2021-10-14T12:25:23.258478Z",
     "shell.execute_reply": "2021-10-14T12:25:23.257812Z"
    }
   },
   "outputs": [
    {
     "data": {
      "text/plain": [
       "{'l2_ease': 500,\n",
       " 'l2_1': 100,\n",
       " 'l2_2': 100000000,\n",
       " 'rho': 100,\n",
       " 'delta': 0,\n",
       " 'max_iterations': 10}"
      ]
     },
     "execution_count": 1,
     "metadata": {},
     "output_type": "execute_result"
    }
   ],
   "source": [
    "ALG = TEASER_EASE\n",
    "\n",
    "L2_EASE = 500\n",
    "L2_1 = 100\n",
    "L2_2 = 100000000\n",
    "RHO = 100\n",
    "DELTA = 0\n",
    "MAX_ITER = 10\n",
    "HYPERPARAMS = {'l2_ease': L2_EASE, 'l2_1': L2_1, 'l2_2': L2_2, 'rho': RHO, 'delta': DELTA,'max_iterations': MAX_ITER}\n",
    "HYPERPARAMS"
   ]
  },
  {
   "cell_type": "markdown",
   "id": "32d25f41",
   "metadata": {},
   "source": [
    "## Parse data"
   ]
  },
  {
   "cell_type": "code",
   "execution_count": 6,
   "id": "ce0d0435",
   "metadata": {
    "execution": {
     "iopub.execute_input": "2021-10-14T12:25:23.264708Z",
     "iopub.status.busy": "2021-10-14T12:25:23.264064Z",
     "iopub.status.idle": "2021-10-14T12:25:38.666188Z",
     "shell.execute_reply": "2021-10-14T12:25:38.667482Z"
    }
   },
   "outputs": [],
   "source": [
    "S, tags = util.parse_metadata(METADATA_PATH, item_id=ITEM_ID)\n",
    "n, t = S.shape  # amount of items and tags\n",
    "\n",
    "X = util.parse_interactions(INTERACTIONS_TRAIN_PATH, item_id=ITEM_ID, user_id=USER_ID, shape_items=n)\n",
    "\n",
    "Xval_in = util.parse_interactions(INTERACTIONS_VALIN_PATH, item_id=ITEM_ID, user_id=USER_ID, shape_items=n)\n",
    "Xval_out = util.parse_interactions(INTERACTIONS_VALOUT_PATH, item_id=ITEM_ID, user_id=USER_ID, shape_items=n)\n",
    "Xtest_in = util.parse_interactions(INTERACTIONS_TESTIN_PATH, item_id=ITEM_ID, user_id=USER_ID, shape_items=n)\n",
    "Xtest_out = util.parse_interactions(INTERACTIONS_TESTOUT_PATH, item_id=ITEM_ID, user_id=USER_ID, shape_items=n)"
   ]
  },
  {
   "cell_type": "code",
   "execution_count": 7,
   "id": "fcfaf306",
   "metadata": {
    "execution": {
     "iopub.execute_input": "2021-10-14T12:25:38.674230Z",
     "iopub.status.busy": "2021-10-14T12:25:38.672994Z",
     "iopub.status.idle": "2021-10-14T12:25:38.698140Z",
     "shell.execute_reply": "2021-10-14T12:25:38.696911Z"
    }
   },
   "outputs": [],
   "source": [
    "# # debug\n",
    "# d_items = 1000\n",
    "# S = S[:d_items,:]\n",
    "# tags = tags[:d_items]\n",
    "# X = X[:,:d_items]\n",
    "# Xval_in = Xval_in[:,:d_items]\n",
    "# Xval_out = Xval_out[:,:d_items]\n",
    "# Xtest_in = Xtest_in[:,:d_items]\n",
    "# Xtest_out = Xtest_out[:,:d_items]"
   ]
  },
  {
   "cell_type": "markdown",
   "id": "e89dad17",
   "metadata": {},
   "source": [
    "## Evaluate model on test set"
   ]
  },
  {
   "cell_type": "code",
   "execution_count": 8,
   "id": "81674e0b",
   "metadata": {
    "execution": {
     "iopub.execute_input": "2021-10-14T12:25:38.704663Z",
     "iopub.status.busy": "2021-10-14T12:25:38.703287Z",
     "iopub.status.idle": "2021-10-14T12:48:24.256603Z",
     "shell.execute_reply": "2021-10-14T12:48:24.255485Z"
    },
    "scrolled": true
   },
   "outputs": [
    {
     "name": "stdout",
     "output_type": "stream",
     "text": [
      "Decompose XTX\n",
      "Decompose DTD\n"
     ]
    },
    {
     "data": {
      "application/vnd.jupyter.widget-view+json": {
       "model_id": "3cf618d2e5ae4cac8ef37f7ef9ffa90f",
       "version_major": 2,
       "version_minor": 0
      },
      "text/plain": [
       "HBox(children=(FloatProgress(value=0.0, max=10.0), HTML(value='')))"
      ]
     },
     "metadata": {},
     "output_type": "display_data"
    },
    {
     "name": "stdout",
     "output_type": "stream",
     "text": [
      "norm E 0.044672216207076614\n",
      "diag norm: 0.19702029516317016\n",
      "diag_diff: 0.19702029516317016\n",
      "\r\n",
      "norm E 0.044671703830224764\n",
      "diag norm: 0.19700926989788112\n",
      "diag_diff: 0.19700926989788112\n",
      "rho * change E: 0.00014114594746936798\n",
      "\r\n",
      "norm E 0.044671191520337314\n",
      "diag norm: 0.19699824549789988\n",
      "diag_diff: 0.19699824549789988\n",
      "rho * change E: 0.0001411365387456688\n",
      "\r\n",
      "norm E 0.04467067927740572\n",
      "diag norm: 0.19698722196313428\n",
      "diag_diff: 0.19698722196313428\n",
      "rho * change E: 0.00014112713089108923\n",
      "\r\n",
      "norm E 0.044670167101421576\n",
      "diag norm: 0.19697619929349164\n",
      "diag_diff: 0.19697619929349164\n",
      "rho * change E: 0.00014111772390642112\n",
      "\r\n",
      "norm E 0.04466965499237638\n",
      "diag norm: 0.19696517748887976\n",
      "diag_diff: 0.19696517748887976\n",
      "rho * change E: 0.00014110831779057134\n",
      "\r\n",
      "norm E 0.044669142950261545\n",
      "diag norm: 0.19695415654920614\n",
      "diag_diff: 0.19695415654920614\n",
      "rho * change E: 0.00014109891254413066\n",
      "\r\n",
      "norm E 0.044668630975068714\n",
      "diag norm: 0.19694313647437836\n",
      "diag_diff: 0.19694313647437836\n",
      "rho * change E: 0.00014108950816664315\n",
      "\r\n",
      "norm E 0.04466811906678931\n",
      "diag norm: 0.19693211726430399\n",
      "diag_diff: 0.19693211726430399\n",
      "rho * change E: 0.00014108010465832682\n",
      "\r\n",
      "norm E 0.04466760722541493\n",
      "diag norm: 0.19692109891889079\n",
      "diag_diff: 0.19692109891889079\n",
      "rho * change E: 0.00014107070201869177\n",
      "\r\n",
      "\n",
      "Fitting EASE\n",
      "CPU times: user 9h 22min 28s, sys: 1h 28min 35s, total: 10h 51min 3s\n",
      "Wall time: 22min 45s\n"
     ]
    },
    {
     "data": {
      "text/plain": [
       "<teaser.algorithm.teaser_ease.TEASER_EASE at 0x7fc46981b240>"
      ]
     },
     "execution_count": 1,
     "metadata": {},
     "output_type": "execute_result"
    }
   ],
   "source": [
    "%%time\n",
    "alg = ALG(**HYPERPARAMS)\n",
    "alg.fit(X, S)"
   ]
  },
  {
   "cell_type": "code",
   "execution_count": 9,
   "id": "005a5a02",
   "metadata": {
    "execution": {
     "iopub.execute_input": "2021-10-14T12:48:24.262826Z",
     "iopub.status.busy": "2021-10-14T12:48:24.261532Z",
     "iopub.status.idle": "2021-10-14T12:48:53.648021Z",
     "shell.execute_reply": "2021-10-14T12:48:53.647184Z"
    }
   },
   "outputs": [
    {
     "name": "stdout",
     "output_type": "stream",
     "text": [
      "Performance on test set\n",
      "Evaluating with 10000 users\n",
      "Average Recall@20 0.356\n",
      "Average Recall@100 0.601\n",
      "Average nDCG@100 0.387\n"
     ]
    }
   ],
   "source": [
    "print(\"Performance on test set\")\n",
    "score = evaluation.eval(alg, Xtest_in, Xtest_out)"
   ]
  },
  {
   "cell_type": "markdown",
   "id": "9c1a9dea",
   "metadata": {},
   "source": [
    "## Plot amount of items from long tail recommended"
   ]
  },
  {
   "cell_type": "code",
   "execution_count": 10,
   "id": "95cc7884",
   "metadata": {
    "execution": {
     "iopub.execute_input": "2021-10-14T12:48:53.652070Z",
     "iopub.status.busy": "2021-10-14T12:48:53.651482Z",
     "iopub.status.idle": "2021-10-14T12:49:21.026328Z",
     "shell.execute_reply": "2021-10-14T12:49:21.026870Z"
    }
   },
   "outputs": [
    {
     "data": {
      "image/png": "[encoded data removed]",
      "text/plain": [
       "<Figure size 432x288 with 1 Axes>"
      ]
     },
     "metadata": {
      "needs_background": "light"
     },
     "output_type": "display_data"
    }
   ],
   "source": [
    "# evaluation.plot_long_tail(alg, Xtest_in=Xtest_in, Xtest_out=Xtest_out, labels=[\"EASE\", \"Test items\"], k=100)\n",
    "evaluation.plot_long_tail(alg, histories=Xtest_in, labels=[\"TEASER-S\"], k=100)"
   ]
  }
 ],
 "metadata": {
  "kernelspec": {
   "display_name": "Python 3",
   "language": "python",
   "name": "python3"
  },
  "language_info": {
   "codemirror_mode": {
    "name": "ipython",
    "version": 3
   },
   "file_extension": ".py",
   "mimetype": "text/x-python",
   "name": "python",
   "nbconvert_exporter": "python",
   "pygments_lexer": "ipython3",
   "version": "3.6.9"
  },
  "widgets": {
   "application/vnd.jupyter.widget-state+json": {
    "state": {
     "2d4c46bb28fc466490a3a67608107173": {
      "model_module": "@jupyter-widgets/base",
      "model_module_version": "1.2.0",
      "model_name": "LayoutModel",
      "state": {
       "_model_module": "@jupyter-widgets/base",
       "_model_module_version": "1.2.0",
       "_model_name": "LayoutModel",
       "_view_count": null,
       "_view_module": "@jupyter-widgets/base",
       "_view_module_version": "1.2.0",
       "_view_name": "LayoutView",
       "align_content": null,
       "align_items": null,
       "align_self": null,
       "border": null,
       "bottom": null,
       "display": null,
       "flex": null,
       "flex_flow": null,
       "grid_area": null,
       "grid_auto_columns": null,
       "grid_auto_flow": null,
       "grid_auto_rows": null,
       "grid_column": null,
       "grid_gap": null,
       "grid_row": null,
       "grid_template_areas": null,
       "grid_template_columns": null,
       "grid_template_rows": null,
       "height": null,
       "justify_content": null,
       "justify_items": null,
       "left": null,
       "margin": null,
       "max_height": null,
       "max_width": null,
       "min_height": null,
       "min_width": null,
       "object_fit": null,
       "object_position": null,
       "order": null,
       "overflow": null,
       "overflow_x": null,
       "overflow_y": null,
       "padding": null,
       "right": null,
       "top": null,
       "visibility": null,
       "width": null
      }
     },
     "3cf618d2e5ae4cac8ef37f7ef9ffa90f": {
      "model_module": "@jupyter-widgets/controls",
      "model_module_version": "1.5.0",
      "model_name": "HBoxModel",
      "state": {
       "_dom_classes": [],
       "_model_module": "@jupyter-widgets/controls",
       "_model_module_version": "1.5.0",
       "_model_name": "HBoxModel",
       "_view_count": null,
       "_view_module": "@jupyter-widgets/controls",
       "_view_module_version": "1.5.0",
       "_view_name": "HBoxView",
       "box_style": "",
       "children": [
        "IPY_MODEL_b97b7a8eb5c14c47b7d3f213241686c5",
        "IPY_MODEL_6390e528920d4023bc4c8e10a4dc12de"
       ],
       "layout": "IPY_MODEL_3d976c12d74d4275bd9af6d31871a2fa"
      }
     },
     "3d976c12d74d4275bd9af6d31871a2fa": {
      "model_module": "@jupyter-widgets/base",
      "model_module_version": "1.2.0",
      "model_name": "LayoutModel",
      "state": {
       "_model_module": "@jupyter-widgets/base",
       "_model_module_version": "1.2.0",
       "_model_name": "LayoutModel",
       "_view_count": null,
       "_view_module": "@jupyter-widgets/base",
       "_view_module_version": "1.2.0",
       "_view_name": "LayoutView",
       "align_content": null,
       "align_items": null,
       "align_self": null,
       "border": null,
       "bottom": null,
       "display": null,
       "flex": null,
       "flex_flow": null,
       "grid_area": null,
       "grid_auto_columns": null,
       "grid_auto_flow": null,
       "grid_auto_rows": null,
       "grid_column": null,
       "grid_gap": null,
       "grid_row": null,
       "grid_template_areas": null,
       "grid_template_columns": null,
       "grid_template_rows": null,
       "height": null,
       "justify_content": null,
       "justify_items": null,
       "left": null,
       "margin": null,
       "max_height": null,
       "max_width": null,
       "min_height": null,
       "min_width": null,
       "object_fit": null,
       "object_position": null,
       "order": null,
       "overflow": null,
       "overflow_x": null,
       "overflow_y": null,
       "padding": null,
       "right": null,
       "top": null,
       "visibility": null,
       "width": null
      }
     },
     "3fc7c4babffd420cbb1131c9fa40a855": {
      "model_module": "@jupyter-widgets/base",
      "model_module_version": "1.2.0",
      "model_name": "LayoutModel",
      "state": {
       "_model_module": "@jupyter-widgets/base",
       "_model_module_version": "1.2.0",
       "_model_name": "LayoutModel",
       "_view_count": null,
       "_view_module": "@jupyter-widgets/base",
       "_view_module_version": "1.2.0",
       "_view_name": "LayoutView",
       "align_content": null,
       "align_items": null,
       "align_self": null,
       "border": null,
       "bottom": null,
       "display": null,
       "flex": null,
       "flex_flow": null,
       "grid_area": null,
       "grid_auto_columns": null,
       "grid_auto_flow": null,
       "grid_auto_rows": null,
       "grid_column": null,
       "grid_gap": null,
       "grid_row": null,
       "grid_template_areas": null,
       "grid_template_columns": null,
       "grid_template_rows": null,
       "height": null,
       "justify_content": null,
       "justify_items": null,
       "left": null,
       "margin": null,
       "max_height": null,
       "max_width": null,
       "min_height": null,
       "min_width": null,
       "object_fit": null,
       "object_position": null,
       "order": null,
       "overflow": null,
       "overflow_x": null,
       "overflow_y": null,
       "padding": null,
       "right": null,
       "top": null,
       "visibility": null,
       "width": null
      }
     },
     "6390e528920d4023bc4c8e10a4dc12de": {
      "model_module": "@jupyter-widgets/controls",
      "model_module_version": "1.5.0",
      "model_name": "HTMLModel",
      "state": {
       "_dom_classes": [],
       "_model_module": "@jupyter-widgets/controls",
       "_model_module_version": "1.5.0",
       "_model_name": "HTMLModel",
       "_view_count": null,
       "_view_module": "@jupyter-widgets/controls",
       "_view_module_version": "1.5.0",
       "_view_name": "HTMLView",
       "description": "",
       "description_tooltip": null,
       "layout": "IPY_MODEL_2d4c46bb28fc466490a3a67608107173",
       "placeholder": "​",
       "style": "IPY_MODEL_c5890ac652fc4c64ba2599a0c389f957",
       "value": " 10/10 [11:17&lt;00:00, 67.71s/it]"
      }
     },
     "9992558b05bc4e94a10518c50c57d182": {
      "model_module": "@jupyter-widgets/controls",
      "model_module_version": "1.5.0",
      "model_name": "ProgressStyleModel",
      "state": {
       "_model_module": "@jupyter-widgets/controls",
       "_model_module_version": "1.5.0",
       "_model_name": "ProgressStyleModel",
       "_view_count": null,
       "_view_module": "@jupyter-widgets/base",
       "_view_module_version": "1.2.0",
       "_view_name": "StyleView",
       "bar_color": null,
       "description_width": "initial"
      }
     },
     "b97b7a8eb5c14c47b7d3f213241686c5": {
      "model_module": "@jupyter-widgets/controls",
      "model_module_version": "1.5.0",
      "model_name": "FloatProgressModel",
      "state": {
       "_dom_classes": [],
       "_model_module": "@jupyter-widgets/controls",
       "_model_module_version": "1.5.0",
       "_model_name": "FloatProgressModel",
       "_view_count": null,
       "_view_module": "@jupyter-widgets/controls",
       "_view_module_version": "1.5.0",
       "_view_name": "ProgressView",
       "bar_style": "success",
       "description": "100%",
       "description_tooltip": null,
       "layout": "IPY_MODEL_3fc7c4babffd420cbb1131c9fa40a855",
       "max": 10.0,
       "min": 0.0,
       "orientation": "horizontal",
       "style": "IPY_MODEL_9992558b05bc4e94a10518c50c57d182",
       "value": 10.0
      }
     },
     "c5890ac652fc4c64ba2599a0c389f957": {
      "model_module": "@jupyter-widgets/controls",
      "model_module_version": "1.5.0",
      "model_name": "DescriptionStyleModel",
      "state": {
       "_model_module": "@jupyter-widgets/controls",
       "_model_module_version": "1.5.0",
       "_model_name": "DescriptionStyleModel",
       "_view_count": null,
       "_view_module": "@jupyter-widgets/base",
       "_view_module_version": "1.2.0",
       "_view_name": "StyleView",
       "description_width": ""
      }
     }
    },
    "version_major": 2,
    "version_minor": 0
   }
  }
 },
 "nbformat": 4,
 "nbformat_minor": 5
}
