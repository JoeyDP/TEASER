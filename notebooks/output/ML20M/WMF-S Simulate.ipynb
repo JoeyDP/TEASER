{
 "cells": [
  {
   "cell_type": "code",
   "execution_count": 1,
   "id": "a65f4cb7",
   "metadata": {
    "execution": {
     "iopub.execute_input": "2022-01-21T14:41:04.115102Z",
     "iopub.status.busy": "2022-01-21T14:41:04.113477Z",
     "iopub.status.idle": "2022-01-21T14:41:04.130449Z",
     "shell.execute_reply": "2022-01-21T14:41:04.129448Z"
    }
   },
   "outputs": [],
   "source": [
    "%load_ext autoreload\n",
    "%autoreload 2"
   ]
  },
  {
   "cell_type": "markdown",
   "id": "55bab0c8",
   "metadata": {},
   "source": [
    "# Experiments with WMF-S model and simulated feedback"
   ]
  },
  {
   "cell_type": "code",
   "execution_count": 2,
   "id": "ec55d42c",
   "metadata": {
    "execution": {
     "iopub.execute_input": "2022-01-21T14:41:04.135862Z",
     "iopub.status.busy": "2022-01-21T14:41:04.134893Z",
     "iopub.status.idle": "2022-01-21T14:41:06.052917Z",
     "shell.execute_reply": "2022-01-21T14:41:06.051887Z"
    }
   },
   "outputs": [],
   "source": [
    "from pathlib import Path\n",
    "import numpy as np\n",
    "\n",
    "import teaser.util as util\n",
    "import teaser.evaluation as evaluation\n",
    "\n",
    "from teaser.algorithm.wmf_s import WMF_S"
   ]
  },
  {
   "cell_type": "markdown",
   "id": "c469b253",
   "metadata": {},
   "source": [
    "## Datasets"
   ]
  },
  {
   "cell_type": "code",
   "execution_count": 3,
   "id": "e0622ed1",
   "metadata": {
    "execution": {
     "iopub.execute_input": "2022-01-21T14:41:06.057624Z",
     "iopub.status.busy": "2022-01-21T14:41:06.056990Z",
     "iopub.status.idle": "2022-01-21T14:41:06.079366Z",
     "shell.execute_reply": "2022-01-21T14:41:06.078418Z"
    }
   },
   "outputs": [],
   "source": [
    "## Uncomment corresponding directory.\n",
    "DATA_DIR = Path('../../data/ML20M/')\n",
    "# DATA_DIR = Path('../../data/Amazon Video Games/')\n",
    "# DATA_DIR = Path('../../data/Publiq/')"
   ]
  },
  {
   "cell_type": "code",
   "execution_count": 4,
   "id": "d53bce36",
   "metadata": {
    "execution": {
     "iopub.execute_input": "2022-01-21T14:41:06.083860Z",
     "iopub.status.busy": "2022-01-21T14:41:06.083216Z",
     "iopub.status.idle": "2022-01-21T14:41:06.104283Z",
     "shell.execute_reply": "2022-01-21T14:41:06.103620Z"
    }
   },
   "outputs": [],
   "source": [
    "# Shouldn't need to change this info\n",
    "INTERACTIONS_TRAIN_PATH = DATA_DIR / 'interactions.train.csv'\n",
    "INTERACTIONS_VALIN_PATH = DATA_DIR / 'interactions.valin.csv'\n",
    "INTERACTIONS_VALOUT_PATH = DATA_DIR / 'interactions.valout.csv'\n",
    "INTERACTIONS_TESTIN_PATH = DATA_DIR / 'interactions.testin.csv'\n",
    "INTERACTIONS_TESTOUT_PATH = DATA_DIR / 'interactions.testout.csv'\n",
    "\n",
    "METADATA_PATH = DATA_DIR / 'features.csv'\n",
    "\n",
    "ITEM_ID = 'itemId'\n",
    "USER_ID = 'userId'"
   ]
  },
  {
   "cell_type": "markdown",
   "id": "48457625",
   "metadata": {},
   "source": [
    "## Define algorithm and hyperparameter ranges"
   ]
  },
  {
   "cell_type": "code",
   "execution_count": 5,
   "id": "11a5ac4c",
   "metadata": {
    "execution": {
     "iopub.execute_input": "2022-01-21T14:41:06.108249Z",
     "iopub.status.busy": "2022-01-21T14:41:06.107589Z",
     "iopub.status.idle": "2022-01-21T14:41:06.133328Z",
     "shell.execute_reply": "2022-01-21T14:41:06.134617Z"
    }
   },
   "outputs": [
    {
     "data": {
      "text/plain": [
       "{'l2': 500, 'alpha': 10}"
      ]
     },
     "execution_count": 1,
     "metadata": {},
     "output_type": "execute_result"
    }
   ],
   "source": [
    "ALG = WMF_S\n",
    "\n",
    "# ML20M\n",
    "L2 = 500\n",
    "ALPHA = 10\n",
    "\n",
    "# AVG\n",
    "# L2 = 1\n",
    "# ALPHA = 150\n",
    "\n",
    "# Publiq\n",
    "# L2 = 2000\n",
    "# ALPHA = 10\n",
    "\n",
    "HYPERPARAMS = {'l2': L2, 'alpha': ALPHA}\n",
    "HYPERPARAMS"
   ]
  },
  {
   "cell_type": "markdown",
   "id": "32d25f41",
   "metadata": {},
   "source": [
    "## Parse data"
   ]
  },
  {
   "cell_type": "code",
   "execution_count": 6,
   "id": "ce0d0435",
   "metadata": {
    "execution": {
     "iopub.execute_input": "2022-01-21T14:41:06.140414Z",
     "iopub.status.busy": "2022-01-21T14:41:06.139754Z",
     "iopub.status.idle": "2022-01-21T14:41:22.042288Z",
     "shell.execute_reply": "2022-01-21T14:41:22.041285Z"
    }
   },
   "outputs": [],
   "source": [
    "S, tags = util.parse_metadata(METADATA_PATH, item_id=ITEM_ID)\n",
    "n, t = S.shape  # amount of items and tags\n",
    "\n",
    "X = util.parse_interactions(INTERACTIONS_TRAIN_PATH, item_id=ITEM_ID, user_id=USER_ID, shape_items=n)\n",
    "\n",
    "Xtest_in = util.parse_interactions(INTERACTIONS_TESTIN_PATH, item_id=ITEM_ID, user_id=USER_ID, shape_items=n)\n",
    "Xtest_out = util.parse_interactions(INTERACTIONS_TESTOUT_PATH, item_id=ITEM_ID, user_id=USER_ID, shape_items=n)"
   ]
  },
  {
   "cell_type": "code",
   "execution_count": 7,
   "id": "fcfaf306",
   "metadata": {
    "execution": {
     "iopub.execute_input": "2022-01-21T14:41:22.046393Z",
     "iopub.status.busy": "2022-01-21T14:41:22.045877Z",
     "iopub.status.idle": "2022-01-21T14:41:22.068735Z",
     "shell.execute_reply": "2022-01-21T14:41:22.069148Z"
    }
   },
   "outputs": [],
   "source": [
    "# # debug\n",
    "# d_items = 1000\n",
    "# S = S[:d_items,:]\n",
    "# tags = tags[:d_items]\n",
    "# X = X[:,:d_items]\n",
    "# Xtest_in = Xtest_in[:,:d_items]\n",
    "# Xtest_out = Xtest_out[:,:d_items]"
   ]
  },
  {
   "cell_type": "markdown",
   "id": "e89dad17",
   "metadata": {},
   "source": [
    "## Evaluate model with optimal hyperparams on test set"
   ]
  },
  {
   "cell_type": "code",
   "execution_count": 8,
   "id": "81674e0b",
   "metadata": {
    "execution": {
     "iopub.execute_input": "2022-01-21T14:41:22.072574Z",
     "iopub.status.busy": "2022-01-21T14:41:22.072048Z",
     "iopub.status.idle": "2022-01-21T14:41:23.686818Z",
     "shell.execute_reply": "2022-01-21T14:41:23.685915Z"
    },
    "scrolled": true
   },
   "outputs": [
    {
     "name": "stdout",
     "output_type": "stream",
     "text": [
      "CPU times: user 24 s, sys: 2.4 s, total: 26.4 s\n",
      "Wall time: 1.59 s\n"
     ]
    },
    {
     "data": {
      "text/plain": [
       "<teaser.algorithm.wmf_s.WMF_S at 0x7f297b7ad358>"
      ]
     },
     "execution_count": 1,
     "metadata": {},
     "output_type": "execute_result"
    }
   ],
   "source": [
    "%%time\n",
    "alg = ALG(**HYPERPARAMS)\n",
    "alg.fit(X, S)"
   ]
  },
  {
   "cell_type": "code",
   "execution_count": 9,
   "id": "33fa826c",
   "metadata": {
    "execution": {
     "iopub.execute_input": "2022-01-21T14:41:23.691094Z",
     "iopub.status.busy": "2022-01-21T14:41:23.690564Z",
     "iopub.status.idle": "2022-01-21T15:09:44.652261Z",
     "shell.execute_reply": "2022-01-21T15:09:44.652800Z"
    }
   },
   "outputs": [
    {
     "name": "stdout",
     "output_type": "stream",
     "text": [
      "Performance on test set with simulation\n",
      "Pos feedback count: 1 with strength (out of 5): 3\n",
      "Evaluating with 10000 users\n",
      "Average Recall@20 0.239\n",
      "Average Recall@100 0.442\n",
      "Average nDCG@100 0.279\n",
      "\n",
      "Pos feedback count: 2 with strength (out of 5): 3\n",
      "Evaluating with 10000 users\n",
      "Average Recall@20 0.256\n",
      "Average Recall@100 0.467\n",
      "Average nDCG@100 0.293\n",
      "\n"
     ]
    }
   ],
   "source": [
    "print(\"Performance on test set with simulation\")\n",
    "for POS_FEEDBACK in [1, 2]:\n",
    "    for STRENGTH in [3]:\n",
    "        print(\"Pos feedback count:\", POS_FEEDBACK, \"with strength (out of 5):\", STRENGTH)\n",
    "        score = evaluation.simulate(alg, Xtest_in, Xtest_out, S, pos_feedback=POS_FEEDBACK, strength=STRENGTH, repeats=3)\n",
    "    print()"
   ]
  }
 ],
 "metadata": {
  "kernelspec": {
   "display_name": "Python 3",
   "language": "python",
   "name": "python3"
  },
  "language_info": {
   "codemirror_mode": {
    "name": "ipython",
    "version": 3
   },
   "file_extension": ".py",
   "mimetype": "text/x-python",
   "name": "python",
   "nbconvert_exporter": "python",
   "pygments_lexer": "ipython3",
   "version": "3.6.9"
  }
 },
 "nbformat": 4,
 "nbformat_minor": 5
}
