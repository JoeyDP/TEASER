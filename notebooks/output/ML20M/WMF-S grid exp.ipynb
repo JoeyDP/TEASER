{
 "cells": [
  {
   "cell_type": "code",
   "execution_count": 1,
   "id": "a65f4cb7",
   "metadata": {
    "execution": {
     "iopub.execute_input": "2021-10-14T09:00:48.876649Z",
     "iopub.status.busy": "2021-10-14T09:00:48.874258Z",
     "iopub.status.idle": "2021-10-14T09:00:48.877825Z",
     "shell.execute_reply": "2021-10-14T09:00:48.877264Z"
    }
   },
   "outputs": [],
   "source": [
    "# %load_ext autoreload\n",
    "# %autoreload 2"
   ]
  },
  {
   "cell_type": "markdown",
   "id": "55bab0c8",
   "metadata": {},
   "source": [
    "# Experiments with WMF-S model"
   ]
  },
  {
   "cell_type": "code",
   "execution_count": 2,
   "id": "ec55d42c",
   "metadata": {
    "execution": {
     "iopub.execute_input": "2021-10-14T09:00:48.889459Z",
     "iopub.status.busy": "2021-10-14T09:00:48.888827Z",
     "iopub.status.idle": "2021-10-14T09:00:51.326920Z",
     "shell.execute_reply": "2021-10-14T09:00:51.327645Z"
    }
   },
   "outputs": [],
   "source": [
    "from pathlib import Path\n",
    "import numpy as np\n",
    "\n",
    "import teaser.util as util\n",
    "import teaser.evaluation as evaluation\n",
    "\n",
    "from teaser.algorithm.wmf_s import WMF_S"
   ]
  },
  {
   "cell_type": "markdown",
   "id": "c469b253",
   "metadata": {},
   "source": [
    "## Datasets"
   ]
  },
  {
   "cell_type": "code",
   "execution_count": 3,
   "id": "e0622ed1",
   "metadata": {
    "execution": {
     "iopub.execute_input": "2021-10-14T09:00:51.333969Z",
     "iopub.status.busy": "2021-10-14T09:00:51.332808Z",
     "iopub.status.idle": "2021-10-14T09:00:51.336776Z",
     "shell.execute_reply": "2021-10-14T09:00:51.335588Z"
    }
   },
   "outputs": [],
   "source": [
    "## Uncomment corresponding directory.\n",
    "DATA_DIR = Path('../../data/ML20M/')\n",
    "# DATA_DIR = Path('../../data/Amazon Video Games/')\n",
    "# DATA_DIR = Path('../../data/Publiq/')"
   ]
  },
  {
   "cell_type": "code",
   "execution_count": 4,
   "id": "d53bce36",
   "metadata": {
    "execution": {
     "iopub.execute_input": "2021-10-14T09:00:51.344473Z",
     "iopub.status.busy": "2021-10-14T09:00:51.343619Z",
     "iopub.status.idle": "2021-10-14T09:00:51.347714Z",
     "shell.execute_reply": "2021-10-14T09:00:51.346859Z"
    }
   },
   "outputs": [],
   "source": [
    "# Shouldn't need to change this info\n",
    "INTERACTIONS_TRAIN_PATH = DATA_DIR / 'interactions.train.csv'\n",
    "INTERACTIONS_VALIN_PATH = DATA_DIR / 'interactions.valin.csv'\n",
    "INTERACTIONS_VALOUT_PATH = DATA_DIR / 'interactions.valout.csv'\n",
    "INTERACTIONS_TESTIN_PATH = DATA_DIR / 'interactions.testin.csv'\n",
    "INTERACTIONS_TESTOUT_PATH = DATA_DIR / 'interactions.testout.csv'\n",
    "\n",
    "METADATA_PATH = DATA_DIR / 'features.csv'\n",
    "\n",
    "ITEM_ID = 'itemId'\n",
    "USER_ID = 'userId'"
   ]
  },
  {
   "cell_type": "markdown",
   "id": "48457625",
   "metadata": {},
   "source": [
    "## Define algorithm and hyperparameter ranges"
   ]
  },
  {
   "cell_type": "code",
   "execution_count": 5,
   "id": "11a5ac4c",
   "metadata": {
    "execution": {
     "iopub.execute_input": "2021-10-14T09:00:51.357044Z",
     "iopub.status.busy": "2021-10-14T09:00:51.356126Z",
     "iopub.status.idle": "2021-10-14T09:00:51.361577Z",
     "shell.execute_reply": "2021-10-14T09:00:51.360605Z"
    }
   },
   "outputs": [
    {
     "data": {
      "text/plain": [
       "{'l2': [10, 100, 1000, 10000], 'alpha': [1, 10, 100]}"
      ]
     },
     "execution_count": 1,
     "metadata": {},
     "output_type": "execute_result"
    }
   ],
   "source": [
    "ALG = WMF_S\n",
    "\n",
    "L2 = [10 ** p for p in range(1, 5)]\n",
    "ALPHA = [10 ** p for p in range(0, 3)]\n",
    "HYPERPARAMS = {'l2': L2, 'alpha': ALPHA}\n",
    "HYPERPARAMS"
   ]
  },
  {
   "cell_type": "markdown",
   "id": "32d25f41",
   "metadata": {},
   "source": [
    "## Parse data"
   ]
  },
  {
   "cell_type": "code",
   "execution_count": 6,
   "id": "ce0d0435",
   "metadata": {
    "execution": {
     "iopub.execute_input": "2021-10-14T09:00:51.369280Z",
     "iopub.status.busy": "2021-10-14T09:00:51.368567Z",
     "iopub.status.idle": "2021-10-14T09:01:10.255702Z",
     "shell.execute_reply": "2021-10-14T09:01:10.254708Z"
    }
   },
   "outputs": [],
   "source": [
    "S, tags = util.parse_metadata(METADATA_PATH, item_id=ITEM_ID)\n",
    "n, t = S.shape  # amount of items and tags\n",
    "\n",
    "X = util.parse_interactions(INTERACTIONS_TRAIN_PATH, item_id=ITEM_ID, user_id=USER_ID, shape_items=n)\n",
    "\n",
    "Xval_in = util.parse_interactions(INTERACTIONS_VALIN_PATH, item_id=ITEM_ID, user_id=USER_ID, shape_items=n)\n",
    "Xval_out = util.parse_interactions(INTERACTIONS_VALOUT_PATH, item_id=ITEM_ID, user_id=USER_ID, shape_items=n)\n",
    "Xtest_in = util.parse_interactions(INTERACTIONS_TESTIN_PATH, item_id=ITEM_ID, user_id=USER_ID, shape_items=n)\n",
    "Xtest_out = util.parse_interactions(INTERACTIONS_TESTOUT_PATH, item_id=ITEM_ID, user_id=USER_ID, shape_items=n)"
   ]
  },
  {
   "cell_type": "code",
   "execution_count": 7,
   "id": "fcfaf306",
   "metadata": {
    "execution": {
     "iopub.execute_input": "2021-10-14T09:01:10.260773Z",
     "iopub.status.busy": "2021-10-14T09:01:10.259783Z",
     "iopub.status.idle": "2021-10-14T09:01:10.263035Z",
     "shell.execute_reply": "2021-10-14T09:01:10.262057Z"
    }
   },
   "outputs": [],
   "source": [
    "# # debug\n",
    "# d_items = 1000\n",
    "# S = S[:d_items,:]\n",
    "# tags = tags[:d_items]\n",
    "# X = X[:,:d_items]\n",
    "# Xval_in = Xval_in[:,:d_items]\n",
    "# Xval_out = Xval_out[:,:d_items]\n",
    "# Xtest_in = Xtest_in[:,:d_items]\n",
    "# Xtest_out = Xtest_out[:,:d_items]"
   ]
  },
  {
   "cell_type": "markdown",
   "id": "fc85ffb4",
   "metadata": {},
   "source": [
    "## Perform gridsearch on validation set"
   ]
  },
  {
   "cell_type": "code",
   "execution_count": 8,
   "id": "36a9347a",
   "metadata": {
    "execution": {
     "iopub.execute_input": "2021-10-14T09:01:10.268574Z",
     "iopub.status.busy": "2021-10-14T09:01:10.267806Z",
     "iopub.status.idle": "2021-10-14T14:12:14.898167Z",
     "shell.execute_reply": "2021-10-14T14:12:14.893660Z"
    },
    "scrolled": true
   },
   "outputs": [
    {
     "data": {
      "application/vnd.jupyter.widget-view+json": {
       "model_id": "16ce3b28fd79423391d2fd4259786cf3",
       "version_major": 2,
       "version_minor": 0
      },
      "text/plain": [
       "HBox(children=(FloatProgress(value=0.0, max=12.0), HTML(value='')))"
      ]
     },
     "metadata": {},
     "output_type": "display_data"
    },
    {
     "name": "stdout",
     "output_type": "stream",
     "text": [
      "Training model WMF_S with hyperparameters {'l2': 10, 'alpha': 1}\n",
      "Evaluating with 10000 users\n",
      "Average Recall@20 0.165\n",
      "Average Recall@100 0.298\n",
      "Average nDCG@100 0.199\n",
      "Training model WMF_S with hyperparameters {'l2': 100, 'alpha': 1}\n",
      "Evaluating with 10000 users\n",
      "Average Recall@20 0.214\n",
      "Average Recall@100 0.385\n",
      "Average nDCG@100 0.253\n",
      "Training model WMF_S with hyperparameters {'l2': 1000, 'alpha': 1}\n",
      "Evaluating with 10000 users\n",
      "Average Recall@20 0.215\n",
      "Average Recall@100 0.406\n",
      "Average nDCG@100 0.256\n",
      "Training model WMF_S with hyperparameters {'l2': 10000, 'alpha': 1}\n",
      "Evaluating with 10000 users\n",
      "Average Recall@20 0.19\n",
      "Average Recall@100 0.374\n",
      "Average nDCG@100 0.226\n",
      "Training model WMF_S with hyperparameters {'l2': 10, 'alpha': 10}\n",
      "Evaluating with 10000 users\n",
      "Average Recall@20 0.133\n",
      "Average Recall@100 0.256\n",
      "Average nDCG@100 0.165\n",
      "Training model WMF_S with hyperparameters {'l2': 100, 'alpha': 10}\n",
      "Evaluating with 10000 users\n",
      "Average Recall@20 0.203\n",
      "Average Recall@100 0.373\n",
      "Average nDCG@100 0.242\n",
      "Training model WMF_S with hyperparameters {'l2': 1000, 'alpha': 10}\n",
      "Evaluating with 10000 users\n",
      "Average Recall@20 0.223\n",
      "Average Recall@100 0.421\n",
      "Average nDCG@100 0.263\n",
      "Training model WMF_S with hyperparameters {'l2': 10000, 'alpha': 10}\n",
      "Evaluating with 10000 users\n",
      "Average Recall@20 0.192\n",
      "Average Recall@100 0.379\n",
      "Average nDCG@100 0.229\n",
      "Training model WMF_S with hyperparameters {'l2': 10, 'alpha': 100}\n",
      "Evaluating with 10000 users\n",
      "Average Recall@20 0.1\n",
      "Average Recall@100 0.22\n",
      "Average nDCG@100 0.13\n",
      "Training model WMF_S with hyperparameters {'l2': 100, 'alpha': 100}\n",
      "Evaluating with 10000 users\n",
      "Average Recall@20 0.171\n",
      "Average Recall@100 0.332\n",
      "Average nDCG@100 0.207\n",
      "Training model WMF_S with hyperparameters {'l2': 1000, 'alpha': 100}\n",
      "Evaluating with 10000 users\n",
      "Average Recall@20 0.217\n",
      "Average Recall@100 0.421\n",
      "Average nDCG@100 0.255\n",
      "Training model WMF_S with hyperparameters {'l2': 10000, 'alpha': 100}\n",
      "Evaluating with 10000 users\n",
      "Average Recall@20 0.2\n",
      "Average Recall@100 0.4\n",
      "Average nDCG@100 0.237\n",
      "\n"
     ]
    }
   ],
   "source": [
    "score, best_hyperparams = evaluation.gridsearch(ALG, X, S, Xval_in, Xval_out, HYPERPARAMS)"
   ]
  },
  {
   "cell_type": "code",
   "execution_count": 9,
   "id": "2c057f9c",
   "metadata": {
    "execution": {
     "iopub.execute_input": "2021-10-14T14:12:14.906268Z",
     "iopub.status.busy": "2021-10-14T14:12:14.905628Z",
     "iopub.status.idle": "2021-10-14T14:12:14.910477Z",
     "shell.execute_reply": "2021-10-14T14:12:14.909824Z"
    }
   },
   "outputs": [
    {
     "data": {
      "text/plain": [
       "\"Best score of 0.26313325384785846 achieved with {'l2': 1000, 'alpha': 10}.\""
      ]
     },
     "execution_count": 1,
     "metadata": {},
     "output_type": "execute_result"
    }
   ],
   "source": [
    "f\"Best score of {score} achieved with {best_hyperparams}.\""
   ]
  },
  {
   "cell_type": "markdown",
   "id": "e89dad17",
   "metadata": {},
   "source": [
    "## Evaluate model with optimal hyperparams on test set"
   ]
  },
  {
   "cell_type": "code",
   "execution_count": 10,
   "id": "81674e0b",
   "metadata": {
    "execution": {
     "iopub.execute_input": "2021-10-14T14:12:14.921537Z",
     "iopub.status.busy": "2021-10-14T14:12:14.920730Z",
     "iopub.status.idle": "2021-10-14T14:12:16.571727Z",
     "shell.execute_reply": "2021-10-14T14:12:16.571251Z"
    },
    "scrolled": true
   },
   "outputs": [
    {
     "name": "stdout",
     "output_type": "stream",
     "text": [
      "CPU times: user 25.3 s, sys: 75.7 ms, total: 25.4 s\n",
      "Wall time: 1.65 s\n"
     ]
    },
    {
     "data": {
      "text/plain": [
       "<teaser.algorithm.wmf_s.WMF_S at 0x7fb1c82b9c88>"
      ]
     },
     "execution_count": 1,
     "metadata": {},
     "output_type": "execute_result"
    }
   ],
   "source": [
    "%%time\n",
    "alg = ALG(**best_hyperparams)\n",
    "alg.fit(X, S)"
   ]
  },
  {
   "cell_type": "code",
   "execution_count": 11,
   "id": "005a5a02",
   "metadata": {
    "execution": {
     "iopub.execute_input": "2021-10-14T14:12:16.575654Z",
     "iopub.status.busy": "2021-10-14T14:12:16.575136Z",
     "iopub.status.idle": "2021-10-14T14:38:31.506675Z",
     "shell.execute_reply": "2021-10-14T14:38:31.507492Z"
    }
   },
   "outputs": [
    {
     "name": "stdout",
     "output_type": "stream",
     "text": [
      "Performance on test set\n",
      "Evaluating with 10000 users\n",
      "Average Recall@20 0.221\n",
      "Average Recall@100 0.419\n",
      "Average nDCG@100 0.263\n",
      "CPU times: user 5h 35min 15s, sys: 7h 48min 46s, total: 13h 24min 1s\n",
      "Wall time: 26min 14s\n"
     ]
    }
   ],
   "source": [
    "%%time\n",
    "print(\"Performance on test set\")\n",
    "score = evaluation.eval(alg, Xtest_in, Xtest_out)"
   ]
  },
  {
   "cell_type": "markdown",
   "id": "9c1a9dea",
   "metadata": {},
   "source": [
    "## Plot amount of items from long tail recommended"
   ]
  },
  {
   "cell_type": "code",
   "execution_count": 12,
   "id": "95cc7884",
   "metadata": {
    "execution": {
     "iopub.execute_input": "2021-10-14T14:38:31.515110Z",
     "iopub.status.busy": "2021-10-14T14:38:31.513992Z",
     "iopub.status.idle": "2021-10-14T15:04:45.856446Z",
     "shell.execute_reply": "2021-10-14T15:04:45.857187Z"
    }
   },
   "outputs": [
    {
     "data": {
      "image/png": "[encoded data removed]",
      "text/plain": [
       "<Figure size 432x288 with 1 Axes>"
      ]
     },
     "metadata": {
      "needs_background": "light"
     },
     "output_type": "display_data"
    }
   ],
   "source": [
    "# evaluation.plot_long_tail(alg, Xtest_in=Xtest_in, Xtest_out=Xtest_out, labels=[\"EASE\", \"Test items\"], k=100)\n",
    "evaluation.plot_long_tail(alg, histories=Xtest_in, labels=[\"WMF-S\"], k=100)"
   ]
  }
 ],
 "metadata": {
  "kernelspec": {
   "display_name": "Python 3",
   "language": "python",
   "name": "python3"
  },
  "language_info": {
   "codemirror_mode": {
    "name": "ipython",
    "version": 3
   },
   "file_extension": ".py",
   "mimetype": "text/x-python",
   "name": "python",
   "nbconvert_exporter": "python",
   "pygments_lexer": "ipython3",
   "version": "3.8.10"
  },
  "widgets": {
   "application/vnd.jupyter.widget-state+json": {
    "state": {
     "16ce3b28fd79423391d2fd4259786cf3": {
      "model_module": "@jupyter-widgets/controls",
      "model_module_version": "1.5.0",
      "model_name": "HBoxModel",
      "state": {
       "_dom_classes": [],
       "_model_module": "@jupyter-widgets/controls",
       "_model_module_version": "1.5.0",
       "_model_name": "HBoxModel",
       "_view_count": null,
       "_view_module": "@jupyter-widgets/controls",
       "_view_module_version": "1.5.0",
       "_view_name": "HBoxView",
       "box_style": "",
       "children": [
        "IPY_MODEL_de815122ae8e4fdc9ddac4f07bc4f9d9",
        "IPY_MODEL_64561907703043f98c0a049f5da661eb"
       ],
       "layout": "IPY_MODEL_ce50e363f0c548609792a3beeabe604e"
      }
     },
     "2e17b5dea3b9430ebb723956353e9e3b": {
      "model_module": "@jupyter-widgets/controls",
      "model_module_version": "1.5.0",
      "model_name": "ProgressStyleModel",
      "state": {
       "_model_module": "@jupyter-widgets/controls",
       "_model_module_version": "1.5.0",
       "_model_name": "ProgressStyleModel",
       "_view_count": null,
       "_view_module": "@jupyter-widgets/base",
       "_view_module_version": "1.2.0",
       "_view_name": "StyleView",
       "bar_color": null,
       "description_width": "initial"
      }
     },
     "4650504eb2994993acb7a1554472d3d8": {
      "model_module": "@jupyter-widgets/base",
      "model_module_version": "1.2.0",
      "model_name": "LayoutModel",
      "state": {
       "_model_module": "@jupyter-widgets/base",
       "_model_module_version": "1.2.0",
       "_model_name": "LayoutModel",
       "_view_count": null,
       "_view_module": "@jupyter-widgets/base",
       "_view_module_version": "1.2.0",
       "_view_name": "LayoutView",
       "align_content": null,
       "align_items": null,
       "align_self": null,
       "border": null,
       "bottom": null,
       "display": null,
       "flex": null,
       "flex_flow": null,
       "grid_area": null,
       "grid_auto_columns": null,
       "grid_auto_flow": null,
       "grid_auto_rows": null,
       "grid_column": null,
       "grid_gap": null,
       "grid_row": null,
       "grid_template_areas": null,
       "grid_template_columns": null,
       "grid_template_rows": null,
       "height": null,
       "justify_content": null,
       "justify_items": null,
       "left": null,
       "margin": null,
       "max_height": null,
       "max_width": null,
       "min_height": null,
       "min_width": null,
       "object_fit": null,
       "object_position": null,
       "order": null,
       "overflow": null,
       "overflow_x": null,
       "overflow_y": null,
       "padding": null,
       "right": null,
       "top": null,
       "visibility": null,
       "width": null
      }
     },
     "52b6bafc7c3d4684a561e7c5735c613e": {
      "model_module": "@jupyter-widgets/controls",
      "model_module_version": "1.5.0",
      "model_name": "DescriptionStyleModel",
      "state": {
       "_model_module": "@jupyter-widgets/controls",
       "_model_module_version": "1.5.0",
       "_model_name": "DescriptionStyleModel",
       "_view_count": null,
       "_view_module": "@jupyter-widgets/base",
       "_view_module_version": "1.2.0",
       "_view_name": "StyleView",
       "description_width": ""
      }
     },
     "64561907703043f98c0a049f5da661eb": {
      "model_module": "@jupyter-widgets/controls",
      "model_module_version": "1.5.0",
      "model_name": "HTMLModel",
      "state": {
       "_dom_classes": [],
       "_model_module": "@jupyter-widgets/controls",
       "_model_module_version": "1.5.0",
       "_model_name": "HTMLModel",
       "_view_count": null,
       "_view_module": "@jupyter-widgets/controls",
       "_view_module_version": "1.5.0",
       "_view_name": "HTMLView",
       "description": "",
       "description_tooltip": null,
       "layout": "IPY_MODEL_b6c6de69924e4c909f6c897d5f17c0e0",
       "placeholder": "​",
       "style": "IPY_MODEL_52b6bafc7c3d4684a561e7c5735c613e",
       "value": " 12/12 [5:11:04&lt;00:00, 1555.38s/it]"
      }
     },
     "b6c6de69924e4c909f6c897d5f17c0e0": {
      "model_module": "@jupyter-widgets/base",
      "model_module_version": "1.2.0",
      "model_name": "LayoutModel",
      "state": {
       "_model_module": "@jupyter-widgets/base",
       "_model_module_version": "1.2.0",
       "_model_name": "LayoutModel",
       "_view_count": null,
       "_view_module": "@jupyter-widgets/base",
       "_view_module_version": "1.2.0",
       "_view_name": "LayoutView",
       "align_content": null,
       "align_items": null,
       "align_self": null,
       "border": null,
       "bottom": null,
       "display": null,
       "flex": null,
       "flex_flow": null,
       "grid_area": null,
       "grid_auto_columns": null,
       "grid_auto_flow": null,
       "grid_auto_rows": null,
       "grid_column": null,
       "grid_gap": null,
       "grid_row": null,
       "grid_template_areas": null,
       "grid_template_columns": null,
       "grid_template_rows": null,
       "height": null,
       "justify_content": null,
       "justify_items": null,
       "left": null,
       "margin": null,
       "max_height": null,
       "max_width": null,
       "min_height": null,
       "min_width": null,
       "object_fit": null,
       "object_position": null,
       "order": null,
       "overflow": null,
       "overflow_x": null,
       "overflow_y": null,
       "padding": null,
       "right": null,
       "top": null,
       "visibility": null,
       "width": null
      }
     },
     "ce50e363f0c548609792a3beeabe604e": {
      "model_module": "@jupyter-widgets/base",
      "model_module_version": "1.2.0",
      "model_name": "LayoutModel",
      "state": {
       "_model_module": "@jupyter-widgets/base",
       "_model_module_version": "1.2.0",
       "_model_name": "LayoutModel",
       "_view_count": null,
       "_view_module": "@jupyter-widgets/base",
       "_view_module_version": "1.2.0",
       "_view_name": "LayoutView",
       "align_content": null,
       "align_items": null,
       "align_self": null,
       "border": null,
       "bottom": null,
       "display": null,
       "flex": null,
       "flex_flow": null,
       "grid_area": null,
       "grid_auto_columns": null,
       "grid_auto_flow": null,
       "grid_auto_rows": null,
       "grid_column": null,
       "grid_gap": null,
       "grid_row": null,
       "grid_template_areas": null,
       "grid_template_columns": null,
       "grid_template_rows": null,
       "height": null,
       "justify_content": null,
       "justify_items": null,
       "left": null,
       "margin": null,
       "max_height": null,
       "max_width": null,
       "min_height": null,
       "min_width": null,
       "object_fit": null,
       "object_position": null,
       "order": null,
       "overflow": null,
       "overflow_x": null,
       "overflow_y": null,
       "padding": null,
       "right": null,
       "top": null,
       "visibility": null,
       "width": null
      }
     },
     "de815122ae8e4fdc9ddac4f07bc4f9d9": {
      "model_module": "@jupyter-widgets/controls",
      "model_module_version": "1.5.0",
      "model_name": "FloatProgressModel",
      "state": {
       "_dom_classes": [],
       "_model_module": "@jupyter-widgets/controls",
       "_model_module_version": "1.5.0",
       "_model_name": "FloatProgressModel",
       "_view_count": null,
       "_view_module": "@jupyter-widgets/controls",
       "_view_module_version": "1.5.0",
       "_view_name": "ProgressView",
       "bar_style": "success",
       "description": "100%",
       "description_tooltip": null,
       "layout": "IPY_MODEL_4650504eb2994993acb7a1554472d3d8",
       "max": 12,
       "min": 0,
       "orientation": "horizontal",
       "style": "IPY_MODEL_2e17b5dea3b9430ebb723956353e9e3b",
       "value": 12
      }
     }
    },
    "version_major": 2,
    "version_minor": 0
   }
  }
 },
 "nbformat": 4,
 "nbformat_minor": 5
}
