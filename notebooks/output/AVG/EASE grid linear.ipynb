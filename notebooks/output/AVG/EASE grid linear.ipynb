{
 "cells": [
  {
   "cell_type": "code",
   "execution_count": 1,
   "id": "9ef88bc4",
   "metadata": {},
   "outputs": [],
   "source": [
    "%load_ext autoreload\n",
    "%autoreload 2"
   ]
  },
  {
   "cell_type": "markdown",
   "id": "55bab0c8",
   "metadata": {},
   "source": [
    "# Experiments with EASE model"
   ]
  },
  {
   "cell_type": "code",
   "execution_count": 2,
   "id": "ec55d42c",
   "metadata": {},
   "outputs": [],
   "source": [
    "from pathlib import Path\n",
    "\n",
    "import teaser.util as util\n",
    "import teaser.evaluation as evaluation\n",
    "\n",
    "from teaser.algorithm.baseline.ease import EASE"
   ]
  },
  {
   "cell_type": "markdown",
   "id": "c469b253",
   "metadata": {},
   "source": [
    "## Datasets"
   ]
  },
  {
   "cell_type": "code",
   "execution_count": 3,
   "id": "e0622ed1",
   "metadata": {},
   "outputs": [],
   "source": [
    "## Uncomment corresponding directory.\n",
    "# DATA_DIR = Path('../../data/ML20M/')\n",
    "DATA_DIR = Path('../../data/Amazon Video Games/')\n",
    "# DATA_DIR = Path('../../data/Publiq/')"
   ]
  },
  {
   "cell_type": "code",
   "execution_count": 4,
   "id": "d53bce36",
   "metadata": {},
   "outputs": [],
   "source": [
    "# Shouldn't need to change this info\n",
    "INTERACTIONS_TRAIN_PATH = DATA_DIR / 'interactions.train.csv'\n",
    "INTERACTIONS_VALIN_PATH = DATA_DIR / 'interactions.valin.csv'\n",
    "INTERACTIONS_VALOUT_PATH = DATA_DIR / 'interactions.valout.csv'\n",
    "INTERACTIONS_TESTIN_PATH = DATA_DIR / 'interactions.testin.csv'\n",
    "INTERACTIONS_TESTOUT_PATH = DATA_DIR / 'interactions.testout.csv'\n",
    "\n",
    "METADATA_PATH = DATA_DIR / 'features.csv'\n",
    "\n",
    "ITEM_ID = 'itemId'\n",
    "USER_ID = 'userId'"
   ]
  },
  {
   "cell_type": "markdown",
   "id": "48457625",
   "metadata": {},
   "source": [
    "## Define algorithm and hyperparameter ranges"
   ]
  },
  {
   "cell_type": "code",
   "execution_count": 5,
   "id": "11a5ac4c",
   "metadata": {},
   "outputs": [
    {
     "data": {
      "text/plain": [
       "{'l2': [10, 50, 100, 150, 200, 300, 400, 500, 600]}"
      ]
     },
     "execution_count": 5,
     "metadata": {},
     "output_type": "execute_result"
    }
   ],
   "source": [
    "ALG = EASE\n",
    "\n",
    "# L2 = [10 ** p for p in range(1, 6)]\n",
    "L2 = [10, 50, 100, 150, 200, 300, 400, 500, 600]\n",
    "HYPERPARAMS = {'l2': L2}\n",
    "HYPERPARAMS"
   ]
  },
  {
   "cell_type": "markdown",
   "id": "32d25f41",
   "metadata": {},
   "source": [
    "## Parse data"
   ]
  },
  {
   "cell_type": "code",
   "execution_count": 6,
   "id": "ce0d0435",
   "metadata": {},
   "outputs": [],
   "source": [
    "S, tags = util.parse_metadata(METADATA_PATH, item_id=ITEM_ID)\n",
    "n, t = S.shape  # amount of items and tags\n",
    "del S, tags\n",
    "\n",
    "X = util.parse_interactions(INTERACTIONS_TRAIN_PATH, item_id=ITEM_ID, user_id=USER_ID, shape_items=n)\n",
    "\n",
    "Xval_in = util.parse_interactions(INTERACTIONS_VALIN_PATH, item_id=ITEM_ID, user_id=USER_ID, shape_items=n)\n",
    "Xval_out = util.parse_interactions(INTERACTIONS_VALOUT_PATH, item_id=ITEM_ID, user_id=USER_ID, shape_items=n)\n",
    "Xtest_in = util.parse_interactions(INTERACTIONS_TESTIN_PATH, item_id=ITEM_ID, user_id=USER_ID, shape_items=n)\n",
    "Xtest_out = util.parse_interactions(INTERACTIONS_TESTOUT_PATH, item_id=ITEM_ID, user_id=USER_ID, shape_items=n)"
   ]
  },
  {
   "cell_type": "markdown",
   "id": "fc85ffb4",
   "metadata": {},
   "source": [
    "## Perform gridsearch on validation set"
   ]
  },
  {
   "cell_type": "code",
   "execution_count": 7,
   "id": "36a9347a",
   "metadata": {},
   "outputs": [
    {
     "data": {
      "application/vnd.jupyter.widget-view+json": {
       "model_id": "82c5bb5bea5f40b998e8aff772dbef7d",
       "version_major": 2,
       "version_minor": 0
      },
      "text/plain": [
       "HBox(children=(FloatProgress(value=0.0, max=9.0), HTML(value='')))"
      ]
     },
     "metadata": {},
     "output_type": "display_data"
    },
    {
     "name": "stdout",
     "output_type": "stream",
     "text": [
      "Training model EASE with hyperparameters {'l2': 10}\n",
      "Evaluating with 2000 users\n",
      "Average Recall@20 0.179\n",
      "Average Recall@100 0.302\n",
      "Average nDCG@100 0.121\n",
      "Training model EASE with hyperparameters {'l2': 50}\n",
      "Evaluating with 2000 users\n",
      "Average Recall@20 0.197\n",
      "Average Recall@100 0.346\n",
      "Average nDCG@100 0.135\n",
      "Training model EASE with hyperparameters {'l2': 100}\n",
      "Evaluating with 2000 users\n",
      "Average Recall@20 0.196\n",
      "Average Recall@100 0.366\n",
      "Average nDCG@100 0.14\n",
      "Training model EASE with hyperparameters {'l2': 150}\n",
      "Evaluating with 2000 users\n",
      "Average Recall@20 0.198\n",
      "Average Recall@100 0.364\n",
      "Average nDCG@100 0.138\n",
      "Training model EASE with hyperparameters {'l2': 200}\n",
      "Evaluating with 2000 users\n",
      "Average Recall@20 0.198\n",
      "Average Recall@100 0.369\n",
      "Average nDCG@100 0.138\n",
      "Training model EASE with hyperparameters {'l2': 300}\n",
      "Evaluating with 2000 users\n",
      "Average Recall@20 0.197\n",
      "Average Recall@100 0.37\n",
      "Average nDCG@100 0.137\n",
      "Training model EASE with hyperparameters {'l2': 400}\n",
      "Evaluating with 2000 users\n",
      "Average Recall@20 0.194\n",
      "Average Recall@100 0.369\n",
      "Average nDCG@100 0.136\n",
      "Training model EASE with hyperparameters {'l2': 500}\n",
      "Evaluating with 2000 users\n",
      "Average Recall@20 0.193\n",
      "Average Recall@100 0.369\n",
      "Average nDCG@100 0.135\n",
      "Training model EASE with hyperparameters {'l2': 600}\n",
      "Evaluating with 2000 users\n",
      "Average Recall@20 0.194\n",
      "Average Recall@100 0.369\n",
      "Average nDCG@100 0.135\n",
      "\n"
     ]
    },
    {
     "data": {
      "text/plain": [
       "\"Best score of 0.13957522004431724 achieved with {'l2': 100}.\""
      ]
     },
     "execution_count": 7,
     "metadata": {},
     "output_type": "execute_result"
    }
   ],
   "source": [
    "score, best_hyperparams = evaluation.gridsearch(ALG, X, None, Xval_in, Xval_out, HYPERPARAMS)\n",
    "f\"Best score of {score} achieved with {best_hyperparams}.\""
   ]
  },
  {
   "cell_type": "markdown",
   "id": "e89dad17",
   "metadata": {},
   "source": [
    "## Evaluate model with optimal hyperparams on test set"
   ]
  },
  {
   "cell_type": "code",
   "execution_count": 8,
   "id": "81674e0b",
   "metadata": {},
   "outputs": [
    {
     "name": "stdout",
     "output_type": "stream",
     "text": [
      "CPU times: user 7min 28s, sys: 24.8 s, total: 7min 53s\n",
      "Wall time: 33.1 s\n"
     ]
    }
   ],
   "source": [
    "%%time\n",
    "alg = ALG(**best_hyperparams)\n",
    "alg = alg.fit(X)"
   ]
  },
  {
   "cell_type": "code",
   "execution_count": 9,
   "id": "d69277a1",
   "metadata": {},
   "outputs": [
    {
     "name": "stdout",
     "output_type": "stream",
     "text": [
      "Performance on test set\n",
      "Evaluating with 2000 users\n",
      "Average Recall@20 0.218\n",
      "Average Recall@100 0.369\n",
      "Average nDCG@100 0.145\n"
     ]
    }
   ],
   "source": [
    "print(\"Performance on test set\")\n",
    "score = evaluation.eval(alg, Xtest_in, Xtest_out)"
   ]
  },
  {
   "cell_type": "markdown",
   "id": "09c71a1a",
   "metadata": {},
   "source": [
    "## Plot amount of items from long tail recommended"
   ]
  },
  {
   "cell_type": "code",
   "execution_count": 10,
   "id": "74064148",
   "metadata": {},
   "outputs": [
    {
     "data": {
      "image/png": "[encoded data removed]",
      "text/plain": [
       "<Figure size 432x288 with 1 Axes>"
      ]
     },
     "metadata": {
      "needs_background": "light"
     },
     "output_type": "display_data"
    }
   ],
   "source": [
    "# evaluation.plot_long_tail(alg, Xtest_in=Xtest_in, Xtest_out=Xtest_out, labels=[\"EASE\", \"Test items\"], k=100)\n",
    "evaluation.plot_long_tail(alg, histories=Xtest_in, labels=[\"EASE\"], k=100)"
   ]
  }
 ],
 "metadata": {
  "kernelspec": {
   "display_name": "Python 3",
   "language": "python",
   "name": "python3"
  },
  "language_info": {
   "codemirror_mode": {
    "name": "ipython",
    "version": 3
   },
   "file_extension": ".py",
   "mimetype": "text/x-python",
   "name": "python",
   "nbconvert_exporter": "python",
   "pygments_lexer": "ipython3",
   "version": "3.8.10"
  }
 },
 "nbformat": 4,
 "nbformat_minor": 5
}
