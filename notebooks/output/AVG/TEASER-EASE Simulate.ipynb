{
 "cells": [
  {
   "cell_type": "code",
   "execution_count": 1,
   "id": "a65f4cb7",
   "metadata": {},
   "outputs": [],
   "source": [
    "%load_ext autoreload\n",
    "%autoreload 2"
   ]
  },
  {
   "cell_type": "markdown",
   "id": "55bab0c8",
   "metadata": {},
   "source": [
    "# Experiments with TEASER-EASE model and simulated feedback"
   ]
  },
  {
   "cell_type": "code",
   "execution_count": 2,
   "id": "ec55d42c",
   "metadata": {},
   "outputs": [],
   "source": [
    "from pathlib import Path\n",
    "import numpy as np\n",
    "\n",
    "import teaser.util as util\n",
    "import teaser.evaluation as evaluation\n",
    "\n",
    "from teaser.algorithm.teaser_ease import TEASER_EASE"
   ]
  },
  {
   "cell_type": "markdown",
   "id": "c469b253",
   "metadata": {},
   "source": [
    "## Datasets"
   ]
  },
  {
   "cell_type": "code",
   "execution_count": 3,
   "id": "e0622ed1",
   "metadata": {},
   "outputs": [],
   "source": [
    "## Uncomment corresponding directory.\n",
    "# DATA_DIR = Path('../../data/ML20M/')\n",
    "DATA_DIR = Path('../../data/Amazon Video Games/')\n",
    "# DATA_DIR = Path('../../data/Publiq/')"
   ]
  },
  {
   "cell_type": "code",
   "execution_count": 4,
   "id": "d53bce36",
   "metadata": {},
   "outputs": [],
   "source": [
    "# Shouldn't need to change this info\n",
    "INTERACTIONS_TRAIN_PATH = DATA_DIR / 'interactions.train.csv'\n",
    "INTERACTIONS_VALIN_PATH = DATA_DIR / 'interactions.valin.csv'\n",
    "INTERACTIONS_VALOUT_PATH = DATA_DIR / 'interactions.valout.csv'\n",
    "INTERACTIONS_TESTIN_PATH = DATA_DIR / 'interactions.testin.csv'\n",
    "INTERACTIONS_TESTOUT_PATH = DATA_DIR / 'interactions.testout.csv'\n",
    "\n",
    "METADATA_PATH = DATA_DIR / 'features.csv'\n",
    "\n",
    "ITEM_ID = 'itemId'\n",
    "USER_ID = 'userId'"
   ]
  },
  {
   "cell_type": "markdown",
   "id": "48457625",
   "metadata": {},
   "source": [
    "## Define algorithm and hyperparameter ranges"
   ]
  },
  {
   "cell_type": "code",
   "execution_count": 5,
   "id": "11a5ac4c",
   "metadata": {},
   "outputs": [
    {
     "data": {
      "text/plain": [
       "{'l2_ease': 100,\n",
       " 'l2_1': 500,\n",
       " 'l2_2': 2000,\n",
       " 'rho': 10000,\n",
       " 'delta': 0,\n",
       " 'max_iterations': 15}"
      ]
     },
     "execution_count": 5,
     "metadata": {},
     "output_type": "execute_result"
    }
   ],
   "source": [
    "ALG = TEASER_EASE\n",
    "\n",
    "# ML20M\n",
    "# L2_EASE = 500\n",
    "# L2_1 = 100\n",
    "# L2_2 = 100000000\n",
    "# RHO = 100\n",
    "# DELTA = 0\n",
    "# MAX_ITER = 10\n",
    "\n",
    "# AVG\n",
    "L2_EASE = 100\n",
    "L2_1 = 500\n",
    "L2_2 = 2000\n",
    "RHO = 10000\n",
    "DELTA = 0\n",
    "MAX_ITER = 15\n",
    "\n",
    "# Publiq\n",
    "# L2_EASE = 10\n",
    "# L2_1 = 500\n",
    "# L2_2 = 50000\n",
    "# RHO = 1000\n",
    "# DELTA = 0\n",
    "# MAX_ITER = 10\n",
    "\n",
    "HYPERPARAMS = {'l2_ease': L2_EASE, 'l2_1': L2_1, 'l2_2': L2_2, 'rho': RHO, 'delta': DELTA,'max_iterations': MAX_ITER}\n",
    "HYPERPARAMS"
   ]
  },
  {
   "cell_type": "markdown",
   "id": "32d25f41",
   "metadata": {},
   "source": [
    "## Parse data"
   ]
  },
  {
   "cell_type": "code",
   "execution_count": 6,
   "id": "ce0d0435",
   "metadata": {},
   "outputs": [],
   "source": [
    "S, tags = util.parse_metadata(METADATA_PATH, item_id=ITEM_ID)\n",
    "n, t = S.shape  # amount of items and tags\n",
    "\n",
    "X = util.parse_interactions(INTERACTIONS_TRAIN_PATH, item_id=ITEM_ID, user_id=USER_ID, shape_items=n)\n",
    "\n",
    "Xtest_in = util.parse_interactions(INTERACTIONS_TESTIN_PATH, item_id=ITEM_ID, user_id=USER_ID, shape_items=n)\n",
    "Xtest_out = util.parse_interactions(INTERACTIONS_TESTOUT_PATH, item_id=ITEM_ID, user_id=USER_ID, shape_items=n)"
   ]
  },
  {
   "cell_type": "code",
   "execution_count": 7,
   "id": "fcfaf306",
   "metadata": {},
   "outputs": [],
   "source": [
    "# # debug\n",
    "# d_items = 1000\n",
    "# S = S[:d_items,:]\n",
    "# tags = tags[:d_items]\n",
    "# X = X[:,:d_items]\n",
    "# Xtest_in = Xtest_in[:,:d_items]\n",
    "# Xtest_out = Xtest_out[:,:d_items]"
   ]
  },
  {
   "cell_type": "markdown",
   "id": "e89dad17",
   "metadata": {},
   "source": [
    "## Evaluate model with optimal hyperparams on test set"
   ]
  },
  {
   "cell_type": "code",
   "execution_count": 8,
   "id": "81674e0b",
   "metadata": {
    "scrolled": true
   },
   "outputs": [
    {
     "name": "stdout",
     "output_type": "stream",
     "text": [
      "Decompose XTX\n",
      "Decompose DTD\n"
     ]
    },
    {
     "data": {
      "application/vnd.jupyter.widget-view+json": {
       "model_id": "1c0106db3bb74c15b7c545f6cf03e641",
       "version_major": 2,
       "version_minor": 0
      },
      "text/plain": [
       "HBox(children=(FloatProgress(value=0.0, max=15.0), HTML(value='')))"
      ]
     },
     "metadata": {},
     "output_type": "display_data"
    },
    {
     "name": "stdout",
     "output_type": "stream",
     "text": [
      "norm E 0.253489393704723\n",
      "diag norm: 0.8575472148422155\n",
      "diag_diff: 0.511456433984209\n",
      "\n",
      "norm E 0.17392517757595807\n",
      "diag norm: 0.29925839964444817\n",
      "diag_diff: 0.04953648793492835\n",
      "rho * change E: 1475.1886653801132\n",
      "\n",
      "norm E 0.16605636072742735\n",
      "diag norm: 0.1305093930865741\n",
      "diag_diff: 0.09701378895593774\n",
      "rho * change E: 363.8201257012928\n",
      "\n",
      "norm E 0.16419952575156857\n",
      "diag norm: 0.07350355030016946\n",
      "diag_diff: 0.08056799194871422\n",
      "rho * change E: 124.73397733580134\n",
      "\n",
      "norm E 0.1633623818240829\n",
      "diag norm: 0.05663772841282956\n",
      "diag_diff: 0.05494722781312752\n",
      "rho * change E: 55.3692874706024\n",
      "\n",
      "norm E 0.16282873990052224\n",
      "diag norm: 0.052960057036102653\n",
      "diag_diff: 0.03544001774553985\n",
      "rho * change E: 40.18396862331847\n",
      "\n",
      "norm E 0.1624655466348306\n",
      "diag norm: 0.05358607000080215\n",
      "diag_diff: 0.02465647901941024\n",
      "rho * change E: 45.14014669489866\n",
      "\n",
      "norm E 0.16224500885773976\n",
      "diag norm: 0.06088839919520239\n",
      "diag_diff: 0.024719845736312543\n",
      "rho * change E: 68.6474465248825\n",
      "\n",
      "norm E 0.1620818484560326\n",
      "diag norm: 0.06246632546840053\n",
      "diag_diff: 0.022862242753289058\n",
      "rho * change E: 73.9070299490367\n",
      "\n",
      "norm E 0.16197498709609143\n",
      "diag norm: 0.053535158720745754\n",
      "diag_diff: 0.013457753540927703\n",
      "rho * change E: 51.50309150106326\n",
      "\n",
      "norm E 0.16190432122021173\n",
      "diag norm: 0.05213798829055543\n",
      "diag_diff: 0.013538202133116323\n",
      "rho * change E: 43.976675129874366\n",
      "\n",
      "norm E 0.1618717317160977\n",
      "diag norm: 0.05246397465255112\n",
      "diag_diff: 0.013942852556591398\n",
      "rho * change E: 42.80039150418458\n",
      "\n",
      "norm E 0.1618524731306604\n",
      "diag norm: 0.060875736369704704\n",
      "diag_diff: 0.02136308963474073\n",
      "rho * change E: 63.140054522515904\n",
      "\n",
      "norm E 0.16183193450113803\n",
      "diag norm: 0.055413021098905814\n",
      "diag_diff: 0.014693058610687197\n",
      "rho * change E: 57.23828774034412\n",
      "\n",
      "norm E 0.16182170840080712\n",
      "diag norm: 0.05499636601082673\n",
      "diag_diff: 0.01572471783441726\n",
      "rho * change E: 52.99669815527342\n",
      "\n",
      "\n",
      "Fitting EASE\n",
      "CPU times: user 54min 12s, sys: 9min 16s, total: 1h 3min 29s\n",
      "Wall time: 5min 6s\n"
     ]
    },
    {
     "data": {
      "text/plain": [
       "<teaser.algorithm.teaser_ease.TEASER_EASE at 0x7f1e21c09250>"
      ]
     },
     "execution_count": 8,
     "metadata": {},
     "output_type": "execute_result"
    }
   ],
   "source": [
    "%%time\n",
    "alg = ALG(**HYPERPARAMS)\n",
    "alg.fit(X, S)"
   ]
  },
  {
   "cell_type": "code",
   "execution_count": 10,
   "id": "33b6aadc",
   "metadata": {},
   "outputs": [
    {
     "name": "stdout",
     "output_type": "stream",
     "text": [
      "Performance on test set with simulation\n",
      "Pos feedback count: 1 with strength (out of 5): 3\n",
      "Evaluating with 2000 users\n",
      "Average Recall@20 0.307\n",
      "Average Recall@100 0.499\n",
      "Average nDCG@100 0.198\n",
      "\n",
      "Pos feedback count: 2 with strength (out of 5): 3\n",
      "Evaluating with 2000 users\n",
      "Average Recall@20 0.353\n",
      "Average Recall@100 0.525\n",
      "Average nDCG@100 0.224\n",
      "\n"
     ]
    }
   ],
   "source": [
    "print(\"Performance on test set with simulation\")\n",
    "for POS_FEEDBACK in [1, 2]:\n",
    "    for STRENGTH in [3]:\n",
    "        print(\"Pos feedback count:\", POS_FEEDBACK, \"with strength (out of 5):\", STRENGTH)\n",
    "        score = evaluation.simulate(alg, Xtest_in, Xtest_out, S, pos_feedback=POS_FEEDBACK, strength=STRENGTH, repeats=3)\n",
    "    print()"
   ]
  }
 ],
 "metadata": {
  "kernelspec": {
   "display_name": "Python 3",
   "language": "python",
   "name": "python3"
  },
  "language_info": {
   "codemirror_mode": {
    "name": "ipython",
    "version": 3
   },
   "file_extension": ".py",
   "mimetype": "text/x-python",
   "name": "python",
   "nbconvert_exporter": "python",
   "pygments_lexer": "ipython3",
   "version": "3.8.10"
  }
 },
 "nbformat": 4,
 "nbformat_minor": 5
}
