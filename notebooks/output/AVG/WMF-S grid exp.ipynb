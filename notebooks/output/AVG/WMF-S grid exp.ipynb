{
 "cells": [
  {
   "cell_type": "code",
   "execution_count": 1,
   "id": "a65f4cb7",
   "metadata": {},
   "outputs": [],
   "source": [
    "# %load_ext autoreload\n",
    "# %autoreload 2"
   ]
  },
  {
   "cell_type": "markdown",
   "id": "55bab0c8",
   "metadata": {},
   "source": [
    "# Experiments with WMF-S model"
   ]
  },
  {
   "cell_type": "code",
   "execution_count": 2,
   "id": "ec55d42c",
   "metadata": {},
   "outputs": [],
   "source": [
    "from pathlib import Path\n",
    "import numpy as np\n",
    "\n",
    "import teaser.util as util\n",
    "import teaser.evaluation as evaluation\n",
    "\n",
    "from teaser.algorithm.wmf_s import WMF_S"
   ]
  },
  {
   "cell_type": "markdown",
   "id": "c469b253",
   "metadata": {},
   "source": [
    "## Datasets"
   ]
  },
  {
   "cell_type": "code",
   "execution_count": 3,
   "id": "e0622ed1",
   "metadata": {},
   "outputs": [],
   "source": [
    "## Uncomment corresponding directory.\n",
    "# DATA_DIR = Path('../../data/ML20M/')\n",
    "DATA_DIR = Path('../../data/Amazon Video Games/')\n",
    "# DATA_DIR = Path('../../data/Publiq/')"
   ]
  },
  {
   "cell_type": "code",
   "execution_count": 4,
   "id": "d53bce36",
   "metadata": {},
   "outputs": [],
   "source": [
    "# Shouldn't need to change this info\n",
    "INTERACTIONS_TRAIN_PATH = DATA_DIR / 'interactions.train.csv'\n",
    "INTERACTIONS_VALIN_PATH = DATA_DIR / 'interactions.valin.csv'\n",
    "INTERACTIONS_VALOUT_PATH = DATA_DIR / 'interactions.valout.csv'\n",
    "INTERACTIONS_TESTIN_PATH = DATA_DIR / 'interactions.testin.csv'\n",
    "INTERACTIONS_TESTOUT_PATH = DATA_DIR / 'interactions.testout.csv'\n",
    "\n",
    "METADATA_PATH = DATA_DIR / 'features.csv'\n",
    "\n",
    "ITEM_ID = 'itemId'\n",
    "USER_ID = 'userId'"
   ]
  },
  {
   "cell_type": "markdown",
   "id": "48457625",
   "metadata": {},
   "source": [
    "## Define algorithm and hyperparameter ranges"
   ]
  },
  {
   "cell_type": "code",
   "execution_count": 8,
   "id": "11a5ac4c",
   "metadata": {},
   "outputs": [
    {
     "data": {
      "text/plain": [
       "{'l2': [10, 100, 1000, 10000], 'alpha': [1, 10, 100]}"
      ]
     },
     "execution_count": 8,
     "metadata": {},
     "output_type": "execute_result"
    }
   ],
   "source": [
    "ALG = WMF_S\n",
    "\n",
    "L2 = [10 ** p for p in range(1, 5)]\n",
    "ALPHA = [10 ** p for p in range(0, 3)]\n",
    "HYPERPARAMS = {'l2': L2, 'alpha': ALPHA}\n",
    "HYPERPARAMS"
   ]
  },
  {
   "cell_type": "markdown",
   "id": "32d25f41",
   "metadata": {},
   "source": [
    "## Parse data"
   ]
  },
  {
   "cell_type": "code",
   "execution_count": 9,
   "id": "ce0d0435",
   "metadata": {},
   "outputs": [],
   "source": [
    "S, tags = util.parse_metadata(METADATA_PATH, item_id=ITEM_ID)\n",
    "n, t = S.shape  # amount of items and tags\n",
    "\n",
    "X = util.parse_interactions(INTERACTIONS_TRAIN_PATH, item_id=ITEM_ID, user_id=USER_ID, shape_items=n)\n",
    "\n",
    "Xval_in = util.parse_interactions(INTERACTIONS_VALIN_PATH, item_id=ITEM_ID, user_id=USER_ID, shape_items=n)\n",
    "Xval_out = util.parse_interactions(INTERACTIONS_VALOUT_PATH, item_id=ITEM_ID, user_id=USER_ID, shape_items=n)\n",
    "Xtest_in = util.parse_interactions(INTERACTIONS_TESTIN_PATH, item_id=ITEM_ID, user_id=USER_ID, shape_items=n)\n",
    "Xtest_out = util.parse_interactions(INTERACTIONS_TESTOUT_PATH, item_id=ITEM_ID, user_id=USER_ID, shape_items=n)"
   ]
  },
  {
   "cell_type": "code",
   "execution_count": 10,
   "id": "fcfaf306",
   "metadata": {},
   "outputs": [],
   "source": [
    "# # debug\n",
    "# d_items = 1000\n",
    "# S = S[:d_items,:]\n",
    "# tags = tags[:d_items]\n",
    "# X = X[:,:d_items]\n",
    "# Xval_in = Xval_in[:,:d_items]\n",
    "# Xval_out = Xval_out[:,:d_items]\n",
    "# Xtest_in = Xtest_in[:,:d_items]\n",
    "# Xtest_out = Xtest_out[:,:d_items]"
   ]
  },
  {
   "cell_type": "markdown",
   "id": "fc85ffb4",
   "metadata": {},
   "source": [
    "## Perform gridsearch on validation set"
   ]
  },
  {
   "cell_type": "code",
   "execution_count": 11,
   "id": "36a9347a",
   "metadata": {
    "scrolled": true
   },
   "outputs": [
    {
     "data": {
      "application/vnd.jupyter.widget-view+json": {
       "model_id": "2848580854714d1381ba48e2b700bea9",
       "version_major": 2,
       "version_minor": 0
      },
      "text/plain": [
       "HBox(children=(FloatProgress(value=0.0, max=12.0), HTML(value='')))"
      ]
     },
     "metadata": {},
     "output_type": "display_data"
    },
    {
     "name": "stdout",
     "output_type": "stream",
     "text": [
      "Training model WMF_S with hyperparameters {'l2': 10, 'alpha': 1}\n",
      "Evaluating with 2000 users\n",
      "Average Recall@20 0.043\n",
      "Average Recall@100 0.095\n",
      "Average nDCG@100 0.032\n",
      "Training model WMF_S with hyperparameters {'l2': 100, 'alpha': 1}\n",
      "Evaluating with 2000 users\n",
      "Average Recall@20 0.047\n",
      "Average Recall@100 0.093\n",
      "Average nDCG@100 0.031\n",
      "Training model WMF_S with hyperparameters {'l2': 1000, 'alpha': 1}\n",
      "Evaluating with 2000 users\n",
      "Average Recall@20 0.044\n",
      "Average Recall@100 0.09\n",
      "Average nDCG@100 0.03\n",
      "Training model WMF_S with hyperparameters {'l2': 10000, 'alpha': 1}\n",
      "Evaluating with 2000 users\n",
      "Average Recall@20 0.037\n",
      "Average Recall@100 0.091\n",
      "Average nDCG@100 0.029\n",
      "Training model WMF_S with hyperparameters {'l2': 10, 'alpha': 10}\n",
      "Evaluating with 2000 users\n",
      "Average Recall@20 0.046\n",
      "Average Recall@100 0.107\n",
      "Average nDCG@100 0.035\n",
      "Training model WMF_S with hyperparameters {'l2': 100, 'alpha': 10}\n",
      "Evaluating with 2000 users\n",
      "Average Recall@20 0.042\n",
      "Average Recall@100 0.1\n",
      "Average nDCG@100 0.031\n",
      "Training model WMF_S with hyperparameters {'l2': 1000, 'alpha': 10}\n",
      "Evaluating with 2000 users\n",
      "Average Recall@20 0.043\n",
      "Average Recall@100 0.094\n",
      "Average nDCG@100 0.03\n",
      "Training model WMF_S with hyperparameters {'l2': 10000, 'alpha': 10}\n",
      "Evaluating with 2000 users\n",
      "Average Recall@20 0.037\n",
      "Average Recall@100 0.09\n",
      "Average nDCG@100 0.029\n",
      "Training model WMF_S with hyperparameters {'l2': 10, 'alpha': 100}\n",
      "Evaluating with 2000 users\n",
      "Average Recall@20 0.048\n",
      "Average Recall@100 0.115\n",
      "Average nDCG@100 0.038\n",
      "Training model WMF_S with hyperparameters {'l2': 100, 'alpha': 100}\n",
      "Evaluating with 2000 users\n",
      "Average Recall@20 0.043\n",
      "Average Recall@100 0.098\n",
      "Average nDCG@100 0.033\n",
      "Training model WMF_S with hyperparameters {'l2': 1000, 'alpha': 100}\n",
      "Evaluating with 2000 users\n",
      "Average Recall@20 0.044\n",
      "Average Recall@100 0.096\n",
      "Average nDCG@100 0.03\n",
      "Training model WMF_S with hyperparameters {'l2': 10000, 'alpha': 100}\n",
      "Evaluating with 2000 users\n",
      "Average Recall@20 0.037\n",
      "Average Recall@100 0.089\n",
      "Average nDCG@100 0.029\n",
      "\n"
     ]
    }
   ],
   "source": [
    "score, best_hyperparams = evaluation.gridsearch(ALG, X, S, Xval_in, Xval_out, HYPERPARAMS)"
   ]
  },
  {
   "cell_type": "code",
   "execution_count": 12,
   "id": "2c057f9c",
   "metadata": {},
   "outputs": [
    {
     "data": {
      "text/plain": [
       "\"Best score of 0.03789279956655284 achieved with {'l2': 10, 'alpha': 100}.\""
      ]
     },
     "execution_count": 12,
     "metadata": {},
     "output_type": "execute_result"
    }
   ],
   "source": [
    "f\"Best score of {score} achieved with {best_hyperparams}.\""
   ]
  },
  {
   "cell_type": "markdown",
   "id": "e89dad17",
   "metadata": {},
   "source": [
    "## Evaluate model with optimal hyperparams on test set"
   ]
  },
  {
   "cell_type": "code",
   "execution_count": 13,
   "id": "81674e0b",
   "metadata": {
    "scrolled": true
   },
   "outputs": [
    {
     "name": "stdout",
     "output_type": "stream",
     "text": [
      "CPU times: user 1.94 s, sys: 1.54 s, total: 3.48 s\n",
      "Wall time: 472 ms\n"
     ]
    },
    {
     "data": {
      "text/plain": [
       "<teaser.algorithm.wmf_s.WMF_S at 0x7f5447bbf8b0>"
      ]
     },
     "execution_count": 13,
     "metadata": {},
     "output_type": "execute_result"
    }
   ],
   "source": [
    "%%time\n",
    "alg = ALG(**best_hyperparams)\n",
    "alg.fit(X, S)"
   ]
  },
  {
   "cell_type": "code",
   "execution_count": 14,
   "id": "005a5a02",
   "metadata": {},
   "outputs": [
    {
     "name": "stdout",
     "output_type": "stream",
     "text": [
      "Performance on test set\n",
      "Evaluating with 2000 users\n",
      "Average Recall@20 0.04\n",
      "Average Recall@100 0.11\n",
      "Average nDCG@100 0.033\n",
      "CPU times: user 4min 45s, sys: 8min 40s, total: 13min 25s\n",
      "Wall time: 54.7 s\n"
     ]
    }
   ],
   "source": [
    "%%time\n",
    "print(\"Performance on test set\")\n",
    "score = evaluation.eval(alg, Xtest_in, Xtest_out)"
   ]
  },
  {
   "cell_type": "markdown",
   "id": "9c1a9dea",
   "metadata": {},
   "source": [
    "## Plot amount of items from long tail recommended"
   ]
  },
  {
   "cell_type": "code",
   "execution_count": 15,
   "id": "95cc7884",
   "metadata": {},
   "outputs": [
    {
     "data": {
      "image/png": "[encoded data removed]",
      "text/plain": [
       "<Figure size 432x288 with 1 Axes>"
      ]
     },
     "metadata": {
      "needs_background": "light"
     },
     "output_type": "display_data"
    }
   ],
   "source": [
    "# evaluation.plot_long_tail(alg, Xtest_in=Xtest_in, Xtest_out=Xtest_out, labels=[\"EASE\", \"Test items\"], k=100)\n",
    "evaluation.plot_long_tail(alg, histories=Xtest_in, labels=[\"WMF-S\"], k=100)"
   ]
  }
 ],
 "metadata": {
  "kernelspec": {
   "display_name": "Python 3",
   "language": "python",
   "name": "python3"
  },
  "language_info": {
   "codemirror_mode": {
    "name": "ipython",
    "version": 3
   },
   "file_extension": ".py",
   "mimetype": "text/x-python",
   "name": "python",
   "nbconvert_exporter": "python",
   "pygments_lexer": "ipython3",
   "version": "3.8.10"
  }
 },
 "nbformat": 4,
 "nbformat_minor": 5
}
