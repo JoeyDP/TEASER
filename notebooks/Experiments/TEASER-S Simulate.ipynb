{
 "cells": [
  {
   "cell_type": "code",
   "execution_count": 1,
   "id": "a65f4cb7",
   "metadata": {},
   "outputs": [],
   "source": [
    "%load_ext autoreload\n",
    "%autoreload 2"
   ]
  },
  {
   "cell_type": "markdown",
   "id": "55bab0c8",
   "metadata": {},
   "source": [
    "# Experiments with TEASER-S model and simulated feedback"
   ]
  },
  {
   "cell_type": "code",
   "execution_count": 2,
   "id": "ec55d42c",
   "metadata": {},
   "outputs": [],
   "source": [
    "from pathlib import Path\n",
    "import numpy as np\n",
    "\n",
    "import teaser.util as util\n",
    "import teaser.evaluation as evaluation\n",
    "\n",
    "from teaser.algorithm.teaser_s import TEASER_S"
   ]
  },
  {
   "cell_type": "markdown",
   "id": "c469b253",
   "metadata": {},
   "source": [
    "## Datasets"
   ]
  },
  {
   "cell_type": "code",
   "execution_count": 3,
   "id": "e0622ed1",
   "metadata": {},
   "outputs": [],
   "source": [
    "## Uncomment corresponding directory.\n",
    "# DATA_DIR = Path('../../data/ML20M/')\n",
    "DATA_DIR = Path('../../data/Amazon Video Games/')\n",
    "# DATA_DIR = Path('../../data/Publiq/')"
   ]
  },
  {
   "cell_type": "code",
   "execution_count": 4,
   "id": "d53bce36",
   "metadata": {},
   "outputs": [],
   "source": [
    "# Shouldn't need to change this info\n",
    "INTERACTIONS_TRAIN_PATH = DATA_DIR / 'interactions.train.csv'\n",
    "INTERACTIONS_VALIN_PATH = DATA_DIR / 'interactions.valin.csv'\n",
    "INTERACTIONS_VALOUT_PATH = DATA_DIR / 'interactions.valout.csv'\n",
    "INTERACTIONS_TESTIN_PATH = DATA_DIR / 'interactions.testin.csv'\n",
    "INTERACTIONS_TESTOUT_PATH = DATA_DIR / 'interactions.testout.csv'\n",
    "\n",
    "METADATA_PATH = DATA_DIR / 'features.csv'\n",
    "\n",
    "ITEM_ID = 'itemId'\n",
    "USER_ID = 'userId'"
   ]
  },
  {
   "cell_type": "markdown",
   "id": "48457625",
   "metadata": {},
   "source": [
    "## Define algorithm and hyperparameter ranges"
   ]
  },
  {
   "cell_type": "code",
   "execution_count": 5,
   "id": "11a5ac4c",
   "metadata": {},
   "outputs": [
    {
     "data": {
      "text/plain": [
       "{'l2_1': 500, 'l2_2': 2000, 'rho': 10000, 'delta': 0, 'max_iterations': 15}"
      ]
     },
     "execution_count": 5,
     "metadata": {},
     "output_type": "execute_result"
    }
   ],
   "source": [
    "ALG = TEASER_S\n",
    "\n",
    "# ML20M\n",
    "# L2_1 = 100\n",
    "# L2_2 = 100000000\n",
    "# RHO = 1000\n",
    "# DELTA = 0\n",
    "# MAX_ITER = 10\n",
    "\n",
    "# AVG\n",
    "L2_1 = 500\n",
    "L2_2 = 2000\n",
    "RHO = 10000\n",
    "DELTA = 0\n",
    "MAX_ITER = 15\n",
    "\n",
    "# Publiq\n",
    "# L2_1 = 500\n",
    "# L2_2 = 50000\n",
    "# RHO = 1000\n",
    "# DELTA = 0\n",
    "# MAX_ITER = 10\n",
    "\n",
    "HYPERPARAMS = {'l2_1': L2_1, 'l2_2': L2_2, 'rho': RHO, 'delta': DELTA,'max_iterations': MAX_ITER}\n",
    "HYPERPARAMS"
   ]
  },
  {
   "cell_type": "markdown",
   "id": "32d25f41",
   "metadata": {},
   "source": [
    "## Parse data"
   ]
  },
  {
   "cell_type": "code",
   "execution_count": 6,
   "id": "ce0d0435",
   "metadata": {},
   "outputs": [],
   "source": [
    "S, tags = util.parse_metadata(METADATA_PATH, item_id=ITEM_ID)\n",
    "n, t = S.shape  # amount of items and tags\n",
    "\n",
    "X = util.parse_interactions(INTERACTIONS_TRAIN_PATH, item_id=ITEM_ID, user_id=USER_ID, shape_items=n)\n",
    "\n",
    "Xtest_in = util.parse_interactions(INTERACTIONS_TESTIN_PATH, item_id=ITEM_ID, user_id=USER_ID, shape_items=n)\n",
    "Xtest_out = util.parse_interactions(INTERACTIONS_TESTOUT_PATH, item_id=ITEM_ID, user_id=USER_ID, shape_items=n)"
   ]
  },
  {
   "cell_type": "code",
   "execution_count": 7,
   "id": "fcfaf306",
   "metadata": {},
   "outputs": [],
   "source": [
    "# # debug\n",
    "# d_items = 1000\n",
    "# S = S[:d_items,:]\n",
    "# tags = tags[:d_items]\n",
    "# X = X[:,:d_items]\n",
    "# Xtest_in = Xtest_in[:,:d_items]\n",
    "# Xtest_out = Xtest_out[:,:d_items]"
   ]
  },
  {
   "cell_type": "markdown",
   "id": "e89dad17",
   "metadata": {},
   "source": [
    "## Evaluate model with optimal hyperparams on test set"
   ]
  },
  {
   "cell_type": "code",
   "execution_count": 8,
   "id": "6badc750",
   "metadata": {},
   "outputs": [],
   "source": [
    "# Precomput XTX and decomposition of XTX, since it's needed for all hyperparameters combinations and doesn't change\n",
    "XTX = (X.T @ X).toarray()\n",
    "p, U = np.linalg.eigh(XTX)\n",
    "fit_params = {'XTX': XTX, 'p': p, 'U': U}"
   ]
  },
  {
   "cell_type": "code",
   "execution_count": 9,
   "id": "81674e0b",
   "metadata": {
    "scrolled": true
   },
   "outputs": [
    {
     "name": "stdout",
     "output_type": "stream",
     "text": [
      "Decompose DTD\n"
     ]
    },
    {
     "data": {
      "application/vnd.jupyter.widget-view+json": {
       "model_id": "f2713b47af6e4d67b68969a263b094e0",
       "version_major": 2,
       "version_minor": 0
      },
      "text/plain": [
       "HBox(children=(FloatProgress(value=0.0, max=15.0), HTML(value='')))"
      ]
     },
     "metadata": {},
     "output_type": "display_data"
    },
    {
     "name": "stdout",
     "output_type": "stream",
     "text": [
      "norm E 0.23864950670571944\n",
      "diag norm: 0.8440507114634\n",
      "diag_diff: 0.6289088997417903\n",
      "\n",
      "norm E 0.5704712827218316\n",
      "diag norm: 3.728183425136433\n",
      "diag_diff: 2.02122323535349\n",
      "rho * change E: 6296.200026916258\n",
      "\n",
      "norm E 0.2667538081291606\n",
      "diag norm: 1.4636078164986799\n",
      "diag_diff: 0.18757223161752626\n",
      "rho * change E: 3552.952125580751\n",
      "\n",
      "norm E 0.19416957791849423\n",
      "diag norm: 0.6230917325705085\n",
      "diag_diff: 0.4746943621119989\n",
      "rho * change E: 1225.122357944679\n",
      "\n",
      "norm E 0.1787821796717859\n",
      "diag norm: 0.2800925197691525\n",
      "diag_diff: 0.4077096024242727\n",
      "rho * change E: 478.1456812793898\n",
      "\n",
      "norm E 0.175073385759121\n",
      "diag norm: 0.135628695034427\n",
      "diag_diff: 0.2796397360991062\n",
      "rho * change E: 204.72038729668847\n",
      "\n",
      "norm E 0.17383447808650704\n",
      "diag norm: 0.08053744170116534\n",
      "diag_diff: 0.17521917209038024\n",
      "rho * change E: 101.80123880490429\n",
      "\n",
      "norm E 0.1732798070941364\n",
      "diag norm: 0.06524970832786571\n",
      "diag_diff: 0.10515933618859427\n",
      "rho * change E: 65.4786047402696\n",
      "\n",
      "norm E 0.17298296221186246\n",
      "diag norm: 0.06436037105232084\n",
      "diag_diff: 0.06251197612290542\n",
      "rho * change E: 62.136729373519294\n",
      "\n",
      "norm E 0.17279936949590438\n",
      "diag norm: 0.0634438085466409\n",
      "diag_diff: 0.037989469665777785\n",
      "rho * change E: 59.610817709723676\n",
      "\n",
      "norm E 0.17276253037470363\n",
      "diag norm: 0.06882406206735797\n",
      "diag_diff: 0.02968082397453851\n",
      "rho * change E: 71.35659853501824\n",
      "\n",
      "norm E 0.1727395651666958\n",
      "diag norm: 0.07769026503791336\n",
      "diag_diff: 0.03257694063446273\n",
      "rho * change E: 96.48812670839273\n",
      "\n",
      "norm E 0.17289171057940067\n",
      "diag norm: 0.10526235353111794\n",
      "diag_diff: 0.04854376703747068\n",
      "rho * change E: 148.09456939656184\n",
      "\n",
      "norm E 0.17265502278942044\n",
      "diag norm: 0.07046532886467652\n",
      "diag_diff: 0.018472044524150973\n",
      "rho * change E: 90.93465808307033\n",
      "\n",
      "norm E 0.17260571907272454\n",
      "diag norm: 0.06139364134187703\n",
      "diag_diff: 0.021689471151731924\n",
      "rho * change E: 58.987525844163386\n",
      "\n",
      "\n",
      "CPU times: user 19min 29s, sys: 6min 15s, total: 25min 45s\n",
      "Wall time: 2min 39s\n"
     ]
    },
    {
     "data": {
      "text/plain": [
       "<teaser.algorithm.teaser_s.TEASER_S at 0x7fe18af67d30>"
      ]
     },
     "execution_count": 9,
     "metadata": {},
     "output_type": "execute_result"
    }
   ],
   "source": [
    "%%time\n",
    "alg = ALG(**HYPERPARAMS)\n",
    "alg.fit(X, S, **fit_params)"
   ]
  },
  {
   "cell_type": "code",
   "execution_count": 11,
   "id": "33b6aadc",
   "metadata": {},
   "outputs": [
    {
     "name": "stdout",
     "output_type": "stream",
     "text": [
      "Performance on test set with simulation\n",
      "Pos feedback count: 1 with strength (out of 5): 3\n",
      "Evaluating with 2000 users\n",
      "Average Recall@20 0.281\n",
      "Average Recall@100 0.522\n",
      "Average nDCG@100 0.185\n",
      "\n",
      "Pos feedback count: 2 with strength (out of 5): 3\n",
      "Evaluating with 2000 users\n",
      "Average Recall@20 0.478\n",
      "Average Recall@100 0.714\n",
      "Average nDCG@100 0.294\n",
      "\n"
     ]
    }
   ],
   "source": [
    "print(\"Performance on test set with simulation\")\n",
    "for POS_FEEDBACK in [1, 2]:\n",
    "    for STRENGTH in [3]:\n",
    "        print(\"Pos feedback count:\", POS_FEEDBACK, \"with strength (out of 5):\", STRENGTH)\n",
    "        score = evaluation.simulate(alg, Xtest_in, Xtest_out, S, pos_feedback=POS_FEEDBACK, strength=STRENGTH, repeats=3)\n",
    "    print()"
   ]
  }
 ],
 "metadata": {
  "kernelspec": {
   "display_name": "Python 3",
   "language": "python",
   "name": "python3"
  },
  "language_info": {
   "codemirror_mode": {
    "name": "ipython",
    "version": 3
   },
   "file_extension": ".py",
   "mimetype": "text/x-python",
   "name": "python",
   "nbconvert_exporter": "python",
   "pygments_lexer": "ipython3",
   "version": "3.8.10"
  }
 },
 "nbformat": 4,
 "nbformat_minor": 5
}
