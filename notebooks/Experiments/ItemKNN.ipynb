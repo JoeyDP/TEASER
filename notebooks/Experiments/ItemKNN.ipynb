{
 "cells": [
  {
   "cell_type": "code",
   "execution_count": 1,
   "id": "a65f4cb7",
   "metadata": {},
   "outputs": [],
   "source": [
    "# %load_ext autoreload\n",
    "# %autoreload 2"
   ]
  },
  {
   "cell_type": "markdown",
   "id": "55bab0c8",
   "metadata": {},
   "source": [
    "# Experiments with ItemKNN model"
   ]
  },
  {
   "cell_type": "code",
   "execution_count": 2,
   "id": "ec55d42c",
   "metadata": {},
   "outputs": [],
   "source": [
    "from pathlib import Path\n",
    "import numpy as np\n",
    "\n",
    "import teaser.util as util\n",
    "import teaser.evaluation as evaluation\n",
    "\n",
    "from teaser.algorithm.baseline.iknn import ItemKNN"
   ]
  },
  {
   "cell_type": "markdown",
   "id": "c469b253",
   "metadata": {},
   "source": [
    "## Datasets"
   ]
  },
  {
   "cell_type": "code",
   "execution_count": 3,
   "id": "e0622ed1",
   "metadata": {},
   "outputs": [],
   "source": [
    "## Uncomment corresponding directory.\n",
    "# DATA_DIR = Path('../../data/ML20M/')\n",
    "# DATA_DIR = Path('../../data/Amazon Video Games/')\n",
    "DATA_DIR = Path('../../data/Publiq/')"
   ]
  },
  {
   "cell_type": "code",
   "execution_count": 4,
   "id": "d53bce36",
   "metadata": {},
   "outputs": [],
   "source": [
    "# Shouldn't need to change this info\n",
    "INTERACTIONS_TRAIN_PATH = DATA_DIR / 'interactions.train.csv'\n",
    "INTERACTIONS_VALIN_PATH = DATA_DIR / 'interactions.valin.csv'\n",
    "INTERACTIONS_VALOUT_PATH = DATA_DIR / 'interactions.valout.csv'\n",
    "INTERACTIONS_TESTIN_PATH = DATA_DIR / 'interactions.testin.csv'\n",
    "INTERACTIONS_TESTOUT_PATH = DATA_DIR / 'interactions.testout.csv'\n",
    "\n",
    "METADATA_PATH = DATA_DIR / 'features.csv'\n",
    "\n",
    "ITEM_ID = 'itemId'\n",
    "USER_ID = 'userId'"
   ]
  },
  {
   "cell_type": "markdown",
   "id": "48457625",
   "metadata": {},
   "source": [
    "## Define algorithm and hyperparameter ranges"
   ]
  },
  {
   "cell_type": "code",
   "execution_count": 5,
   "id": "11a5ac4c",
   "metadata": {},
   "outputs": [],
   "source": [
    "ALG = ItemKNN\n",
    "\n",
    "K = [10, 100, 200, 500, 1000, 2000]\n",
    "NORMALIZE = [False, True]\n",
    "HYPERPARAMS = {'k': K, 'normalize': NORMALIZE}"
   ]
  },
  {
   "cell_type": "markdown",
   "id": "32d25f41",
   "metadata": {},
   "source": [
    "## Parse data"
   ]
  },
  {
   "cell_type": "code",
   "execution_count": 6,
   "id": "ce0d0435",
   "metadata": {},
   "outputs": [],
   "source": [
    "S, tags = util.parse_metadata(METADATA_PATH, item_id=ITEM_ID)\n",
    "n, t = S.shape  # amount of items and tags\n",
    "del S, tags\n",
    "\n",
    "X = util.parse_interactions(INTERACTIONS_TRAIN_PATH, item_id=ITEM_ID, user_id=USER_ID, shape_items=n)\n",
    "\n",
    "Xval_in = util.parse_interactions(INTERACTIONS_VALIN_PATH, item_id=ITEM_ID, user_id=USER_ID, shape_items=n)\n",
    "Xval_out = util.parse_interactions(INTERACTIONS_VALOUT_PATH, item_id=ITEM_ID, user_id=USER_ID, shape_items=n)\n",
    "Xtest_in = util.parse_interactions(INTERACTIONS_TESTIN_PATH, item_id=ITEM_ID, user_id=USER_ID, shape_items=n)\n",
    "Xtest_out = util.parse_interactions(INTERACTIONS_TESTOUT_PATH, item_id=ITEM_ID, user_id=USER_ID, shape_items=n)"
   ]
  },
  {
   "cell_type": "markdown",
   "id": "fc85ffb4",
   "metadata": {},
   "source": [
    "## Perform gridsearch on validation set"
   ]
  },
  {
   "cell_type": "code",
   "execution_count": 7,
   "id": "36a9347a",
   "metadata": {
    "scrolled": true
   },
   "outputs": [
    {
     "data": {
      "application/vnd.jupyter.widget-view+json": {
       "model_id": "b786e3508f4548efbb008b4d57a9ca81",
       "version_major": 2,
       "version_minor": 0
      },
      "text/plain": [
       "HBox(children=(FloatProgress(value=0.0, max=12.0), HTML(value='')))"
      ]
     },
     "metadata": {},
     "output_type": "display_data"
    },
    {
     "name": "stdout",
     "output_type": "stream",
     "text": [
      "Training model ItemKNN with hyperparameters {'k': 10, 'normalize': False}\n",
      "Evaluating with 1000 users\n",
      "Average Recall@20 0.41\n",
      "Average Recall@100 0.516\n",
      "Average nDCG@100 0.273\n",
      "Training model ItemKNN with hyperparameters {'k': 100, 'normalize': False}\n",
      "Evaluating with 1000 users\n",
      "Average Recall@20 0.444\n",
      "Average Recall@100 0.613\n",
      "Average nDCG@100 0.3\n",
      "Training model ItemKNN with hyperparameters {'k': 200, 'normalize': False}\n",
      "Evaluating with 1000 users\n",
      "Average Recall@20 0.448\n",
      "Average Recall@100 0.618\n",
      "Average nDCG@100 0.301\n",
      "Training model ItemKNN with hyperparameters {'k': 500, 'normalize': False}\n",
      "Evaluating with 1000 users\n",
      "Average Recall@20 0.449\n",
      "Average Recall@100 0.619\n",
      "Average nDCG@100 0.301\n",
      "Training model ItemKNN with hyperparameters {'k': 1000, 'normalize': False}\n",
      "Evaluating with 1000 users\n",
      "Average Recall@20 0.449\n",
      "Average Recall@100 0.619\n",
      "Average nDCG@100 0.301\n",
      "Training model ItemKNN with hyperparameters {'k': 2000, 'normalize': False}\n",
      "Evaluating with 1000 users\n",
      "Average Recall@20 0.449\n",
      "Average Recall@100 0.619\n",
      "Average nDCG@100 0.301\n",
      "Training model ItemKNN with hyperparameters {'k': 10, 'normalize': True}\n"
     ]
    },
    {
     "name": "stderr",
     "output_type": "stream",
     "text": [
      "/home/joey/Documents/Informatica/PhD/2020-2021/SI EDLAE/Code/env/lib/python3.8/site-packages/scipy/sparse/base.py:595: RuntimeWarning: invalid value encountered in true_divide\n",
      "  return np.true_divide(self.todense(), other)\n"
     ]
    },
    {
     "name": "stdout",
     "output_type": "stream",
     "text": [
      "Evaluating with 1000 users\n",
      "Average Recall@20 0.403\n",
      "Average Recall@100 0.481\n",
      "Average nDCG@100 0.266\n",
      "Training model ItemKNN with hyperparameters {'k': 100, 'normalize': True}\n",
      "Evaluating with 1000 users\n",
      "Average Recall@20 0.443\n",
      "Average Recall@100 0.6\n",
      "Average nDCG@100 0.296\n",
      "Training model ItemKNN with hyperparameters {'k': 200, 'normalize': True}\n",
      "Evaluating with 1000 users\n",
      "Average Recall@20 0.444\n",
      "Average Recall@100 0.603\n",
      "Average nDCG@100 0.296\n",
      "Training model ItemKNN with hyperparameters {'k': 500, 'normalize': True}\n",
      "Evaluating with 1000 users\n",
      "Average Recall@20 0.442\n",
      "Average Recall@100 0.604\n",
      "Average nDCG@100 0.295\n",
      "Training model ItemKNN with hyperparameters {'k': 1000, 'normalize': True}\n",
      "Evaluating with 1000 users\n",
      "Average Recall@20 0.441\n",
      "Average Recall@100 0.604\n",
      "Average nDCG@100 0.295\n",
      "Training model ItemKNN with hyperparameters {'k': 2000, 'normalize': True}\n",
      "Evaluating with 1000 users\n",
      "Average Recall@20 0.441\n",
      "Average Recall@100 0.604\n",
      "Average nDCG@100 0.295\n",
      "\n"
     ]
    }
   ],
   "source": [
    "score, best_hyperparams = evaluation.gridsearch(ALG, X, None, Xval_in, Xval_out, HYPERPARAMS)"
   ]
  },
  {
   "cell_type": "code",
   "execution_count": 8,
   "id": "0257aa33",
   "metadata": {},
   "outputs": [
    {
     "data": {
      "text/plain": [
       "\"Best score of 0.30142232561678006 achieved with {'k': 1000, 'normalize': False}.\""
      ]
     },
     "execution_count": 8,
     "metadata": {},
     "output_type": "execute_result"
    }
   ],
   "source": [
    "f\"Best score of {score} achieved with {best_hyperparams}.\""
   ]
  },
  {
   "cell_type": "markdown",
   "id": "e89dad17",
   "metadata": {},
   "source": [
    "## Evaluate model with optimal hyperparams on test set"
   ]
  },
  {
   "cell_type": "code",
   "execution_count": 9,
   "id": "81674e0b",
   "metadata": {
    "scrolled": true
   },
   "outputs": [
    {
     "name": "stdout",
     "output_type": "stream",
     "text": [
      "CPU times: user 1.02 s, sys: 316 ms, total: 1.34 s\n",
      "Wall time: 1.34 s\n"
     ]
    },
    {
     "data": {
      "text/plain": [
       "<teaser.algorithm.baseline.iknn.ItemKNN at 0x7feda5cab910>"
      ]
     },
     "execution_count": 9,
     "metadata": {},
     "output_type": "execute_result"
    }
   ],
   "source": [
    "%%time\n",
    "alg = ALG(**best_hyperparams)\n",
    "alg.fit(X)"
   ]
  },
  {
   "cell_type": "code",
   "execution_count": 10,
   "id": "005a5a02",
   "metadata": {},
   "outputs": [
    {
     "name": "stdout",
     "output_type": "stream",
     "text": [
      "Performance on test set\n",
      "Evaluating with 1500 users\n",
      "Average Recall@20 0.434\n",
      "Average Recall@100 0.614\n",
      "Average nDCG@100 0.299\n"
     ]
    }
   ],
   "source": [
    "print(\"Performance on test set\")\n",
    "score = evaluation.eval(alg, Xtest_in, Xtest_out)"
   ]
  },
  {
   "cell_type": "markdown",
   "id": "9c1a9dea",
   "metadata": {},
   "source": [
    "## Plot amount of items from long tail recommended"
   ]
  },
  {
   "cell_type": "code",
   "execution_count": 11,
   "id": "95cc7884",
   "metadata": {},
   "outputs": [
    {
     "data": {
      "image/png": "[encoded data removed]",
      "text/plain": [
       "<Figure size 432x288 with 1 Axes>"
      ]
     },
     "metadata": {
      "needs_background": "light"
     },
     "output_type": "display_data"
    }
   ],
   "source": [
    "# evaluation.plot_long_tail(alg, Xtest_in=Xtest_in, Xtest_out=Xtest_out, labels=[\"EASE\", \"Test items\"], k=100)\n",
    "evaluation.plot_long_tail(alg, histories=Xtest_in, labels=[\"TEASER-S\"], k=100)"
   ]
  }
 ],
 "metadata": {
  "kernelspec": {
   "display_name": "Python 3",
   "language": "python",
   "name": "python3"
  },
  "language_info": {
   "codemirror_mode": {
    "name": "ipython",
    "version": 3
   },
   "file_extension": ".py",
   "mimetype": "text/x-python",
   "name": "python",
   "nbconvert_exporter": "python",
   "pygments_lexer": "ipython3",
   "version": "3.8.10"
  }
 },
 "nbformat": 4,
 "nbformat_minor": 5
}
