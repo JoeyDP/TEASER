{
 "cells": [
  {
   "cell_type": "code",
   "execution_count": 7,
   "id": "a65f4cb7",
   "metadata": {},
   "outputs": [],
   "source": [
    "# %load_ext autoreload\n",
    "# %autoreload 2"
   ]
  },
  {
   "cell_type": "markdown",
   "id": "55bab0c8",
   "metadata": {},
   "source": [
    "# Experiments with TEASER-S model"
   ]
  },
  {
   "cell_type": "code",
   "execution_count": 8,
   "id": "ec55d42c",
   "metadata": {},
   "outputs": [],
   "source": [
    "from pathlib import Path\n",
    "import numpy as np\n",
    "\n",
    "import teaser.util as util\n",
    "import teaser.evaluation as evaluation\n",
    "\n",
    "from teaser.algorithm.teaser_s import TEASER_S"
   ]
  },
  {
   "cell_type": "markdown",
   "id": "c469b253",
   "metadata": {},
   "source": [
    "## Datasets"
   ]
  },
  {
   "cell_type": "code",
   "execution_count": 9,
   "id": "e0622ed1",
   "metadata": {},
   "outputs": [],
   "source": [
    "## Uncomment corresponding directory.\n",
    "# DATA_DIR = Path('../../data/ML20M/')\n",
    "# DATA_DIR = Path('../../data/Amazon Video Games/')\n",
    "DATA_DIR = Path('../../data/Publiq/')"
   ]
  },
  {
   "cell_type": "code",
   "execution_count": 10,
   "id": "d53bce36",
   "metadata": {},
   "outputs": [],
   "source": [
    "# Shouldn't need to change this info\n",
    "INTERACTIONS_TRAIN_PATH = DATA_DIR / 'interactions.train.csv'\n",
    "INTERACTIONS_VALIN_PATH = DATA_DIR / 'interactions.valin.csv'\n",
    "INTERACTIONS_VALOUT_PATH = DATA_DIR / 'interactions.valout.csv'\n",
    "INTERACTIONS_TESTIN_PATH = DATA_DIR / 'interactions.testin.csv'\n",
    "INTERACTIONS_TESTOUT_PATH = DATA_DIR / 'interactions.testout.csv'\n",
    "\n",
    "METADATA_PATH = DATA_DIR / 'features.csv'\n",
    "\n",
    "ITEM_ID = 'itemId'\n",
    "USER_ID = 'userId'"
   ]
  },
  {
   "cell_type": "markdown",
   "id": "48457625",
   "metadata": {},
   "source": [
    "## Define algorithm and hyperparameter ranges"
   ]
  },
  {
   "cell_type": "code",
   "execution_count": 11,
   "id": "11a5ac4c",
   "metadata": {},
   "outputs": [
    {
     "data": {
      "text/plain": [
       "{'l2_1': [500, 1000, 2000, 5000],\n",
       " 'l2_2': [50000, 100000, 200000, 500000],\n",
       " 'rho': [100, 500, 1000],\n",
       " 'delta': 0,\n",
       " 'max_iterations': 10}"
      ]
     },
     "execution_count": 11,
     "metadata": {},
     "output_type": "execute_result"
    }
   ],
   "source": [
    "ALG = TEASER_S\n",
    "\n",
    "# L2_1 = [10 ** p for p in range(2, 8)]\n",
    "# L2_2 = [10 ** p for p in range(2, 8)]\n",
    "\n",
    "L2_1 = [500, 1000, 2000, 5000]\n",
    "L2_2 = [50000, 100000, 200000, 500000]\n",
    "# RHO = 0\n",
    "RHO = [100, 500, 1000]\n",
    "DELTA = 0\n",
    "MAX_ITER = 10\n",
    "HYPERPARAMS = {'l2_1': L2_1, 'l2_2': L2_2, 'rho': RHO, 'delta': DELTA,'max_iterations': MAX_ITER}\n",
    "HYPERPARAMS"
   ]
  },
  {
   "cell_type": "markdown",
   "id": "32d25f41",
   "metadata": {},
   "source": [
    "## Parse data"
   ]
  },
  {
   "cell_type": "code",
   "execution_count": 6,
   "id": "ce0d0435",
   "metadata": {},
   "outputs": [],
   "source": [
    "S, tags = util.parse_metadata(METADATA_PATH, item_id=ITEM_ID)\n",
    "n, t = S.shape  # amount of items and tags\n",
    "\n",
    "X = util.parse_interactions(INTERACTIONS_TRAIN_PATH, item_id=ITEM_ID, user_id=USER_ID, shape_items=n)\n",
    "\n",
    "Xval_in = util.parse_interactions(INTERACTIONS_VALIN_PATH, item_id=ITEM_ID, user_id=USER_ID, shape_items=n)\n",
    "Xval_out = util.parse_interactions(INTERACTIONS_VALOUT_PATH, item_id=ITEM_ID, user_id=USER_ID, shape_items=n)\n",
    "Xtest_in = util.parse_interactions(INTERACTIONS_TESTIN_PATH, item_id=ITEM_ID, user_id=USER_ID, shape_items=n)\n",
    "Xtest_out = util.parse_interactions(INTERACTIONS_TESTOUT_PATH, item_id=ITEM_ID, user_id=USER_ID, shape_items=n)"
   ]
  },
  {
   "cell_type": "code",
   "execution_count": 21,
   "id": "fcfaf306",
   "metadata": {},
   "outputs": [],
   "source": [
    "# # debug\n",
    "# d_items = 1000\n",
    "# S = S[:d_items,:]\n",
    "# tags = tags[:d_items]\n",
    "# X = X[:,:d_items]\n",
    "# Xval_in = Xval_in[:,:d_items]\n",
    "# Xval_out = Xval_out[:,:d_items]\n",
    "# Xtest_in = Xtest_in[:,:d_items]\n",
    "# Xtest_out = Xtest_out[:,:d_items]"
   ]
  },
  {
   "cell_type": "markdown",
   "id": "fc85ffb4",
   "metadata": {},
   "source": [
    "## Perform gridsearch on validation set"
   ]
  },
  {
   "cell_type": "code",
   "execution_count": 25,
   "id": "6badc750",
   "metadata": {},
   "outputs": [],
   "source": [
    "# Precomput XTX and decomposition of XTX, since it's needed for all hyperparameters combinations and doesn't change\n",
    "XTX = (X.T @ X).toarray()\n",
    "p, U = np.linalg.eigh(XTX)\n",
    "fit_params = {'XTX': XTX, 'p': p, 'U': U}"
   ]
  },
  {
   "cell_type": "code",
   "execution_count": 26,
   "id": "36a9347a",
   "metadata": {
    "scrolled": true
   },
   "outputs": [
    {
     "data": {
      "application/vnd.jupyter.widget-view+json": {
       "model_id": "e36d85261a8948259d3c43181d5a2cba",
       "version_major": 2,
       "version_minor": 0
      },
      "text/plain": [
       "HBox(children=(FloatProgress(value=0.0, max=8.0), HTML(value='')))"
      ]
     },
     "metadata": {},
     "output_type": "display_data"
    },
    {
     "name": "stdout",
     "output_type": "stream",
     "text": [
      "\r",
      "Training model TEASER_S with hyperparameters {'l2_1': 1000, 'l2_2': 10000, 'rho': 500, 'delta': 0, 'max_iterations': 20}\n",
      "Decompose DTD\n"
     ]
    },
    {
     "data": {
      "application/vnd.jupyter.widget-view+json": {
       "model_id": "34bae1cd7cf341d086450a63a8cd5dca",
       "version_major": 2,
       "version_minor": 0
      },
      "text/plain": [
       "HBox(children=(FloatProgress(value=0.0, max=20.0), HTML(value='')))"
      ]
     },
     "metadata": {},
     "output_type": "display_data"
    },
    {
     "name": "stdout",
     "output_type": "stream",
     "text": [
      "norm E 2032.7137636169657\n",
      "loss 325881940009.2959\n",
      "diag norm: 361.37895110833176\n",
      "diag_diff: 384.5323708144667\n",
      "\n",
      "norm E 221875.06485964736\n",
      "loss 4012517331647385.5\n",
      "diag norm: 42581.98541866277\n",
      "diag_diff: 43750.04542059066\n",
      "rho * change E: 111743403.7231673\n",
      "\n",
      "norm E 28496365.929957397\n",
      "loss 6.621445156343047e+19\n",
      "diag norm: 5487049.468130213\n",
      "diag_diff: 5717677.402176227\n",
      "rho * change E: 14358880546.534128\n",
      "\n",
      "norm E 3715038326.9180984\n",
      "loss 1.1252435298840142e+24\n",
      "diag norm: 715450762.9103242\n",
      "diag_diff: 734979049.9573498\n",
      "rho * change E: 1871766869665.07\n",
      "\n",
      "norm E 479404241758.61993\n",
      "loss 1.8739521146853874e+28\n",
      "diag norm: 92288424934.1264\n",
      "diag_diff: 96159424639.96298\n",
      "rho * change E: 241559626875749.62\n",
      "\n",
      "norm E 62482519995541.84\n",
      "loss 3.1830103498866958e+32\n",
      "diag norm: 12032840109811.898\n",
      "diag_diff: 12361224223154.484\n",
      "rho * change E: 3.1480960969592124e+16\n",
      "\n",
      "norm E 8062731123451430.0\n",
      "loss 5.300526673349103e+36\n",
      "diag norm: 1552154764194627.0\n",
      "diag_diff: 1617254515268180.5\n",
      "rho * change E: 4.0626066965159916e+18\n",
      "\n",
      "norm E 1.0508719379368447e+18\n",
      "loss 9.00368942870306e+40\n",
      "diag norm: 2.0237430740244608e+17\n",
      "diag_diff: 2.0789696127730208e+17\n",
      "rho * change E: 5.294673197310862e+20\n",
      "\n",
      "norm E 1.3560232814698645e+20\n",
      "loss 1.4993015573095084e+45\n",
      "diag norm: 2.6104892602794136e+19\n",
      "diag_diff: 2.7199759976249364e+19\n",
      "rho * change E: 6.832659819150201e+22\n",
      "\n",
      "norm E 1.7674107465682116e+22\n",
      "loss 2.546806110424203e+49\n",
      "diag norm: 3.4036289079134074e+21\n",
      "diag_diff: 3.496510599294801e+21\n",
      "rho * change E: 8.904854662522276e+24\n",
      "\n",
      "norm E 2.2806229890134482e+24\n",
      "loss 4.2409358424544775e+53\n",
      "diag norm: 4.39044625786713e+23\n",
      "diag_diff: 4.574585908990582e+23\n",
      "rho * change E: 1.1491485179556734e+27\n",
      "\n",
      "norm E 2.972517461901805e+26\n",
      "loss 7.2039340157271e+57\n",
      "diag norm: 5.724386465913231e+25\n",
      "diag_diff: 5.880599013916677e+25\n",
      "rho * change E: 1.4976618069692587e+29\n",
      "\n",
      "norm E 3.8356603356692043e+28\n",
      "loss 1.1995959515345477e+62\n",
      "diag norm: 7.384062990662931e+27\n",
      "diag_diff: 7.693757742709892e+27\n",
      "rho * change E: 1.9326927045032251e+31\n",
      "\n",
      "norm E 4.9993227698755626e+30\n",
      "loss 2.0377140986052755e+66\n",
      "diag norm: 9.627547525668018e+29\n",
      "diag_diff: 9.890273157952195e+29\n",
      "rho * change E: 2.5188396213189301e+33\n",
      "\n",
      "norm E 6.4509970893597056e+32\n",
      "loss 3.39319173503291e+70\n",
      "diag norm: 1.2418870961824573e+32\n",
      "diag_diff: 1.293973038647116e+32\n",
      "rho * change E: 3.2504950734605776e+35\n",
      "\n",
      "norm E 8.40810072866974e+34\n",
      "loss 5.763903591857985e+74\n",
      "diag norm: 1.6192070735321643e+34\n",
      "diag_diff: 1.6633935251062187e+34\n",
      "rho * change E: 4.236305240021506e+37\n",
      "\n",
      "norm E 1.0849595899965464e+37\n",
      "loss 9.598024065017797e+78\n",
      "diag norm: 2.0886652205653158e+36\n",
      "diag_diff: 2.1762658524706883e+36\n",
      "rho * change E: 5.466838310588971e+39\n",
      "\n",
      "norm E 1.4141146709537985e+39\n",
      "loss 1.6303849293178945e+83\n",
      "diag norm: 2.7232600362365246e+38\n",
      "diag_diff: 2.797574926131977e+38\n",
      "rho * change E: 7.124821149689768e+41\n",
      "\n",
      "norm E 1.8247370176827003e+41\n",
      "loss 2.71490897780376e+87\n",
      "diag norm: 3.51281723964284e+40\n",
      "diag_diff: 3.6601481788876773e+40\n",
      "rho * change E: 9.19439058140688e+43\n",
      "\n",
      "norm E 2.3783258080877936e+43\n",
      "loss 4.611727031797377e+91\n",
      "diag norm: 4.5801092049815676e+42\n",
      "diag_diff: 4.7050955468597226e+42\n",
      "rho * change E: 1.1982865580896484e+46\n",
      "\n",
      "\n"
     ]
    },
    {
     "name": "stderr",
     "output_type": "stream",
     "text": [
      "/home/joey/Documents/Informatica/PhD/2020-2021/SI EDLAE/Code/teaser/evaluation.py:44: RuntimeWarning: invalid value encountered in true_divide\n",
      "  ndcg = dcg / idcg\n"
     ]
    },
    {
     "name": "stdout",
     "output_type": "stream",
     "text": [
      "Evaluating with 10000 users\n",
      "Average Recall@20 0.04046\n",
      "Average Recall@100 0.13882\n",
      "Average nDCG@100 0.04891\n",
      "\r",
      "Training model TEASER_S with hyperparameters {'l2_1': 10000, 'l2_2': 10000, 'rho': 500, 'delta': 0, 'max_iterations': 20}\n",
      "Decompose DTD\n"
     ]
    },
    {
     "data": {
      "application/vnd.jupyter.widget-view+json": {
       "model_id": "4dfda8f0ebb748f8ac9e6a66a93813fa",
       "version_major": 2,
       "version_minor": 0
      },
      "text/plain": [
       "HBox(children=(FloatProgress(value=0.0, max=20.0), HTML(value='')))"
      ]
     },
     "metadata": {},
     "output_type": "display_data"
    },
    {
     "name": "stdout",
     "output_type": "stream",
     "text": [
      "norm E 1.681564262478703\n",
      "loss 155100194.7133424\n",
      "diag norm: 0.8008054956138992\n",
      "diag_diff: 0.830424066282658\n",
      "\n",
      "norm E 1.6772601854725981\n",
      "loss 155032853.41331878\n",
      "diag norm: 0.7421900368640271\n",
      "diag_diff: 0.7883595669388102\n",
      "rho * change E: 18.367905871996296\n",
      "\n",
      "norm E 1.6739716952220338\n",
      "loss 154969945.26064336\n",
      "diag norm: 0.692692039547355\n",
      "diag_diff: 0.7487309673305427\n",
      "rho * change E: 12.596490901358395\n",
      "\n",
      "norm E 1.671220155850787\n",
      "loss 154910989.72862166\n",
      "diag norm: 0.6496115109557329\n",
      "diag_diff: 0.7113167174256491\n",
      "rho * change E: 9.577277229116046\n",
      "\n",
      "norm E 1.6688140051287716\n",
      "loss 154855673.72839656\n",
      "diag norm: 0.6114069627968485\n",
      "diag_diff: 0.6759233932922083\n",
      "rho * change E: 7.686323032746929\n",
      "\n",
      "norm E 1.6666565357135967\n",
      "loss 154803724.02772507\n",
      "diag norm: 0.5771024748517724\n",
      "diag_diff: 0.6424500508956664\n",
      "rho * change E: 6.394114867360029\n",
      "\n",
      "norm E 1.6646914252903475\n",
      "loss 154754874.85525182\n",
      "diag norm: 0.5459819291324841\n",
      "diag_diff: 0.6107217868363612\n",
      "rho * change E: 5.464594751823139\n",
      "\n",
      "norm E 1.6628838627189129\n",
      "loss 154708940.3713817\n",
      "diag norm: 0.5175679403796895\n",
      "diag_diff: 0.580713113771347\n",
      "rho * change E: 4.76444310468256\n",
      "\n",
      "norm E 1.6612089960645886\n",
      "loss 154665728.72764114\n",
      "diag norm: 0.4914184534289292\n",
      "diag_diff: 0.5523277514360935\n",
      "rho * change E: 4.2293423728547745\n",
      "\n",
      "norm E 1.659649440228254\n",
      "loss 154624992.2226376\n",
      "diag norm: 0.46717327385778845\n",
      "diag_diff: 0.5253632438661966\n",
      "rho * change E: 3.8172304703760243\n",
      "\n",
      "norm E 1.6581938729811483\n",
      "loss 154586605.24843562\n",
      "diag norm: 0.4446641595885812\n",
      "diag_diff: 0.4997898311679073\n",
      "rho * change E: 3.478788241466106\n",
      "\n",
      "norm E 1.6568314969760067\n",
      "loss 154550432.73454165\n",
      "diag norm: 0.4237023707225854\n",
      "diag_diff: 0.475597982192945\n",
      "rho * change E: 3.1972482215216456\n",
      "\n",
      "norm E 1.6555542524135336\n",
      "loss 154516332.49879545\n",
      "diag norm: 0.4040522841208589\n",
      "diag_diff: 0.45268045987305316\n",
      "rho * change E: 2.972393642782659\n",
      "\n",
      "norm E 1.6543548983216692\n",
      "loss 154484132.46650758\n",
      "diag norm: 0.3855481388406505\n",
      "diag_diff: 0.4309428846105241\n",
      "rho * change E: 2.7874790579187687\n",
      "\n",
      "norm E 1.6532273456904465\n",
      "loss 154453684.6462446\n",
      "diag norm: 0.36807247799897824\n",
      "diag_diff: 0.4102305234159181\n",
      "rho * change E: 2.629945199173075\n",
      "\n",
      "norm E 1.652166683700501\n",
      "\n",
      "\n"
     ]
    },
    {
     "ename": "KeyboardInterrupt",
     "evalue": "",
     "output_type": "error",
     "traceback": [
      "\u001b[0;31m---------------------------------------------------------------------------\u001b[0m",
      "\u001b[0;31mKeyboardInterrupt\u001b[0m                         Traceback (most recent call last)",
      "\u001b[0;32m/tmp/ipykernel_15134/1569558382.py\u001b[0m in \u001b[0;36m<module>\u001b[0;34m\u001b[0m\n\u001b[0;32m----> 1\u001b[0;31m \u001b[0mscore\u001b[0m\u001b[0;34m,\u001b[0m \u001b[0mbest_hyperparams\u001b[0m \u001b[0;34m=\u001b[0m \u001b[0mevaluation\u001b[0m\u001b[0;34m.\u001b[0m\u001b[0mgridsearch\u001b[0m\u001b[0;34m(\u001b[0m\u001b[0mALG\u001b[0m\u001b[0;34m,\u001b[0m \u001b[0mX\u001b[0m\u001b[0;34m,\u001b[0m \u001b[0mS\u001b[0m\u001b[0;34m,\u001b[0m \u001b[0mXval_in\u001b[0m\u001b[0;34m,\u001b[0m \u001b[0mXval_out\u001b[0m\u001b[0;34m,\u001b[0m \u001b[0mHYPERPARAMS\u001b[0m\u001b[0;34m,\u001b[0m \u001b[0mfit_params\u001b[0m\u001b[0;34m=\u001b[0m\u001b[0mfit_params\u001b[0m\u001b[0;34m)\u001b[0m\u001b[0;34m\u001b[0m\u001b[0;34m\u001b[0m\u001b[0m\n\u001b[0m",
      "\u001b[0;32m~/Documents/Informatica/PhD/2020-2021/SI EDLAE/Code/teaser/evaluation.py\u001b[0m in \u001b[0;36mgridsearch\u001b[0;34m(Alg, Xtrain, S, Xval_in, Xval_out, hyperparameter_ranges, fit_params)\u001b[0m\n\u001b[1;32m     87\u001b[0m         \u001b[0mtqdm\u001b[0m\u001b[0;34m.\u001b[0m\u001b[0mwrite\u001b[0m\u001b[0;34m(\u001b[0m\u001b[0;34mf\"Training model {Alg.__name__} with hyperparameters {hyperparameters}\"\u001b[0m\u001b[0;34m)\u001b[0m\u001b[0;34m\u001b[0m\u001b[0;34m\u001b[0m\u001b[0m\n\u001b[1;32m     88\u001b[0m         \u001b[0malg\u001b[0m \u001b[0;34m=\u001b[0m \u001b[0mAlg\u001b[0m\u001b[0;34m(\u001b[0m\u001b[0;34m**\u001b[0m\u001b[0mhyperparameters\u001b[0m\u001b[0;34m)\u001b[0m\u001b[0;34m\u001b[0m\u001b[0;34m\u001b[0m\u001b[0m\n\u001b[0;32m---> 89\u001b[0;31m         \u001b[0malg\u001b[0m\u001b[0;34m.\u001b[0m\u001b[0mfit\u001b[0m\u001b[0;34m(\u001b[0m\u001b[0mXtrain\u001b[0m\u001b[0;34m,\u001b[0m \u001b[0mS\u001b[0m\u001b[0;34m,\u001b[0m \u001b[0;34m**\u001b[0m\u001b[0mfit_params\u001b[0m\u001b[0;34m)\u001b[0m\u001b[0;34m\u001b[0m\u001b[0;34m\u001b[0m\u001b[0m\n\u001b[0m\u001b[1;32m     90\u001b[0m         \u001b[0;31m# tqdm.write(\"Done, evaluating..\")\u001b[0m\u001b[0;34m\u001b[0m\u001b[0;34m\u001b[0m\u001b[0;34m\u001b[0m\u001b[0m\n\u001b[1;32m     91\u001b[0m         \u001b[0mmetric\u001b[0m \u001b[0;34m=\u001b[0m \u001b[0meval\u001b[0m\u001b[0;34m(\u001b[0m\u001b[0malg\u001b[0m\u001b[0;34m,\u001b[0m \u001b[0mXval_in\u001b[0m\u001b[0;34m,\u001b[0m \u001b[0mXval_out\u001b[0m\u001b[0;34m)\u001b[0m\u001b[0;34m\u001b[0m\u001b[0;34m\u001b[0m\u001b[0m\n",
      "\u001b[0;32m~/Documents/Informatica/PhD/2020-2021/SI EDLAE/Code/teaser/algorithm/teaser_s.py\u001b[0m in \u001b[0;36mfit\u001b[0;34m(self, X, S, tags, XTX, p, U)\u001b[0m\n\u001b[1;32m    141\u001b[0m             \u001b[0mloop\u001b[0m\u001b[0;34m.\u001b[0m\u001b[0mwrite\u001b[0m\u001b[0;34m(\u001b[0m\u001b[0;34mf\"norm E {np.linalg.norm(E)}\"\u001b[0m\u001b[0;34m)\u001b[0m\u001b[0;34m\u001b[0m\u001b[0;34m\u001b[0m\u001b[0m\n\u001b[1;32m    142\u001b[0m             \u001b[0;31m# loop.write(f\"norm D {scipy.sparse.linalg.norm(DT)}\")\u001b[0m\u001b[0;34m\u001b[0m\u001b[0;34m\u001b[0m\u001b[0;34m\u001b[0m\u001b[0m\n\u001b[0;32m--> 143\u001b[0;31m             \u001b[0;31m# l = TEASER_S.loss(self.l2_1, self.l2_2, self.rho, X, S, E, DT, beta, gamma)\u001b[0m\u001b[0;34m\u001b[0m\u001b[0;34m\u001b[0m\u001b[0;34m\u001b[0m\u001b[0m\n\u001b[0m\u001b[1;32m    144\u001b[0m             \u001b[0;31m# loop.write(f\"loss {l}\")\u001b[0m\u001b[0;34m\u001b[0m\u001b[0;34m\u001b[0m\u001b[0;34m\u001b[0m\u001b[0m\n\u001b[1;32m    145\u001b[0m             \u001b[0;31m# loop.write(f\"gamma {gamma}\")\u001b[0m\u001b[0;34m\u001b[0m\u001b[0;34m\u001b[0m\u001b[0;34m\u001b[0m\u001b[0m\n",
      "\u001b[0;32m~/Documents/Informatica/PhD/2020-2021/SI EDLAE/Code/teaser/algorithm/teaser_s.py\u001b[0m in \u001b[0;36mloss\u001b[0;34m(l2_1, l2_2, rho, X, S, E, DT, beta, gamma)\u001b[0m\n\u001b[1;32m     46\u001b[0m         \u001b[0;34m\"\"\" Loss value (without delta) \"\"\"\u001b[0m\u001b[0;34m\u001b[0m\u001b[0;34m\u001b[0m\u001b[0m\n\u001b[1;32m     47\u001b[0m         \u001b[0mEDT\u001b[0m \u001b[0;34m=\u001b[0m \u001b[0mE\u001b[0m \u001b[0;34m@\u001b[0m \u001b[0mDT\u001b[0m\u001b[0;34m\u001b[0m\u001b[0;34m\u001b[0m\u001b[0m\n\u001b[0;32m---> 48\u001b[0;31m         \u001b[0ml\u001b[0m \u001b[0;34m=\u001b[0m \u001b[0mnp\u001b[0m\u001b[0;34m.\u001b[0m\u001b[0mlinalg\u001b[0m\u001b[0;34m.\u001b[0m\u001b[0mnorm\u001b[0m\u001b[0;34m(\u001b[0m\u001b[0mX\u001b[0m \u001b[0;34m-\u001b[0m \u001b[0mX\u001b[0m \u001b[0;34m@\u001b[0m \u001b[0;34m(\u001b[0m\u001b[0mEDT\u001b[0m \u001b[0;34m-\u001b[0m \u001b[0mnp\u001b[0m\u001b[0;34m.\u001b[0m\u001b[0mdiag\u001b[0m\u001b[0;34m(\u001b[0m\u001b[0mbeta\u001b[0m\u001b[0;34m)\u001b[0m\u001b[0;34m)\u001b[0m\u001b[0;34m)\u001b[0m \u001b[0;34m**\u001b[0m \u001b[0;36m2\u001b[0m\u001b[0;34m\u001b[0m\u001b[0;34m\u001b[0m\u001b[0m\n\u001b[0m\u001b[1;32m     49\u001b[0m         \u001b[0ml\u001b[0m \u001b[0;34m+=\u001b[0m \u001b[0ml2_1\u001b[0m \u001b[0;34m*\u001b[0m \u001b[0mnp\u001b[0m\u001b[0;34m.\u001b[0m\u001b[0mlinalg\u001b[0m\u001b[0;34m.\u001b[0m\u001b[0mnorm\u001b[0m\u001b[0;34m(\u001b[0m\u001b[0mEDT\u001b[0m \u001b[0;34m-\u001b[0m \u001b[0mnp\u001b[0m\u001b[0;34m.\u001b[0m\u001b[0mdiag\u001b[0m\u001b[0;34m(\u001b[0m\u001b[0mbeta\u001b[0m\u001b[0;34m)\u001b[0m\u001b[0;34m)\u001b[0m \u001b[0;34m**\u001b[0m \u001b[0;36m2\u001b[0m\u001b[0;34m\u001b[0m\u001b[0;34m\u001b[0m\u001b[0m\n\u001b[1;32m     50\u001b[0m         \u001b[0ml\u001b[0m \u001b[0;34m+=\u001b[0m \u001b[0ml2_2\u001b[0m \u001b[0;34m*\u001b[0m \u001b[0;34m(\u001b[0m\u001b[0mnp\u001b[0m\u001b[0;34m.\u001b[0m\u001b[0mlinalg\u001b[0m\u001b[0;34m.\u001b[0m\u001b[0mnorm\u001b[0m\u001b[0;34m(\u001b[0m\u001b[0mE\u001b[0m\u001b[0;34m)\u001b[0m \u001b[0;34m**\u001b[0m \u001b[0;36m2\u001b[0m \u001b[0;34m+\u001b[0m \u001b[0mscipy\u001b[0m\u001b[0;34m.\u001b[0m\u001b[0msparse\u001b[0m\u001b[0;34m.\u001b[0m\u001b[0mlinalg\u001b[0m\u001b[0;34m.\u001b[0m\u001b[0mnorm\u001b[0m\u001b[0;34m(\u001b[0m\u001b[0mDT\u001b[0m\u001b[0;34m)\u001b[0m \u001b[0;34m**\u001b[0m \u001b[0;36m2\u001b[0m\u001b[0;34m)\u001b[0m\u001b[0;34m\u001b[0m\u001b[0;34m\u001b[0m\u001b[0m\n",
      "\u001b[0;32m~/Documents/Informatica/PhD/2020-2021/SI EDLAE/Code/env/lib/python3.8/site-packages/scipy/sparse/base.py\u001b[0m in \u001b[0;36m__matmul__\u001b[0;34m(self, other)\u001b[0m\n\u001b[1;32m    558\u001b[0m             raise ValueError(\"Scalar operands are not allowed, \"\n\u001b[1;32m    559\u001b[0m                              \"use '*' instead\")\n\u001b[0;32m--> 560\u001b[0;31m         \u001b[0;32mreturn\u001b[0m \u001b[0mself\u001b[0m\u001b[0;34m.\u001b[0m\u001b[0m__mul__\u001b[0m\u001b[0;34m(\u001b[0m\u001b[0mother\u001b[0m\u001b[0;34m)\u001b[0m\u001b[0;34m\u001b[0m\u001b[0;34m\u001b[0m\u001b[0m\n\u001b[0m\u001b[1;32m    561\u001b[0m \u001b[0;34m\u001b[0m\u001b[0m\n\u001b[1;32m    562\u001b[0m     \u001b[0;32mdef\u001b[0m \u001b[0m__rmatmul__\u001b[0m\u001b[0;34m(\u001b[0m\u001b[0mself\u001b[0m\u001b[0;34m,\u001b[0m \u001b[0mother\u001b[0m\u001b[0;34m)\u001b[0m\u001b[0;34m:\u001b[0m\u001b[0;34m\u001b[0m\u001b[0;34m\u001b[0m\u001b[0m\n",
      "\u001b[0;32m~/Documents/Informatica/PhD/2020-2021/SI EDLAE/Code/env/lib/python3.8/site-packages/scipy/sparse/base.py\u001b[0m in \u001b[0;36m__mul__\u001b[0;34m(self, other)\u001b[0m\n\u001b[1;32m    469\u001b[0m                 \u001b[0;32mreturn\u001b[0m \u001b[0mself\u001b[0m\u001b[0;34m.\u001b[0m\u001b[0m_mul_vector\u001b[0m\u001b[0;34m(\u001b[0m\u001b[0mother\u001b[0m\u001b[0;34m.\u001b[0m\u001b[0mravel\u001b[0m\u001b[0;34m(\u001b[0m\u001b[0;34m)\u001b[0m\u001b[0;34m)\u001b[0m\u001b[0;34m.\u001b[0m\u001b[0mreshape\u001b[0m\u001b[0;34m(\u001b[0m\u001b[0mM\u001b[0m\u001b[0;34m,\u001b[0m \u001b[0;36m1\u001b[0m\u001b[0;34m)\u001b[0m\u001b[0;34m\u001b[0m\u001b[0;34m\u001b[0m\u001b[0m\n\u001b[1;32m    470\u001b[0m             \u001b[0;32melif\u001b[0m \u001b[0mother\u001b[0m\u001b[0;34m.\u001b[0m\u001b[0mndim\u001b[0m \u001b[0;34m==\u001b[0m \u001b[0;36m2\u001b[0m \u001b[0;32mand\u001b[0m \u001b[0mother\u001b[0m\u001b[0;34m.\u001b[0m\u001b[0mshape\u001b[0m\u001b[0;34m[\u001b[0m\u001b[0;36m0\u001b[0m\u001b[0;34m]\u001b[0m \u001b[0;34m==\u001b[0m \u001b[0mN\u001b[0m\u001b[0;34m:\u001b[0m\u001b[0;34m\u001b[0m\u001b[0;34m\u001b[0m\u001b[0m\n\u001b[0;32m--> 471\u001b[0;31m                 \u001b[0;32mreturn\u001b[0m \u001b[0mself\u001b[0m\u001b[0;34m.\u001b[0m\u001b[0m_mul_multivector\u001b[0m\u001b[0;34m(\u001b[0m\u001b[0mother\u001b[0m\u001b[0;34m)\u001b[0m\u001b[0;34m\u001b[0m\u001b[0;34m\u001b[0m\u001b[0m\n\u001b[0m\u001b[1;32m    472\u001b[0m \u001b[0;34m\u001b[0m\u001b[0m\n\u001b[1;32m    473\u001b[0m         \u001b[0;32mif\u001b[0m \u001b[0misscalarlike\u001b[0m\u001b[0;34m(\u001b[0m\u001b[0mother\u001b[0m\u001b[0;34m)\u001b[0m\u001b[0;34m:\u001b[0m\u001b[0;34m\u001b[0m\u001b[0;34m\u001b[0m\u001b[0m\n",
      "\u001b[0;32m~/Documents/Informatica/PhD/2020-2021/SI EDLAE/Code/env/lib/python3.8/site-packages/scipy/sparse/compressed.py\u001b[0m in \u001b[0;36m_mul_multivector\u001b[0;34m(self, other)\u001b[0m\n\u001b[1;32m    487\u001b[0m         \u001b[0;31m# csr_matvecs or csc_matvecs\u001b[0m\u001b[0;34m\u001b[0m\u001b[0;34m\u001b[0m\u001b[0;34m\u001b[0m\u001b[0m\n\u001b[1;32m    488\u001b[0m         \u001b[0mfn\u001b[0m \u001b[0;34m=\u001b[0m \u001b[0mgetattr\u001b[0m\u001b[0;34m(\u001b[0m\u001b[0m_sparsetools\u001b[0m\u001b[0;34m,\u001b[0m \u001b[0mself\u001b[0m\u001b[0;34m.\u001b[0m\u001b[0mformat\u001b[0m \u001b[0;34m+\u001b[0m \u001b[0;34m'_matvecs'\u001b[0m\u001b[0;34m)\u001b[0m\u001b[0;34m\u001b[0m\u001b[0;34m\u001b[0m\u001b[0m\n\u001b[0;32m--> 489\u001b[0;31m         fn(M, N, n_vecs, self.indptr, self.indices, self.data,\n\u001b[0m\u001b[1;32m    490\u001b[0m            other.ravel(), result.ravel())\n\u001b[1;32m    491\u001b[0m \u001b[0;34m\u001b[0m\u001b[0m\n",
      "\u001b[0;31mKeyboardInterrupt\u001b[0m: "
     ]
    }
   ],
   "source": [
    "score, best_hyperparams = evaluation.gridsearch(ALG, X, S, Xval_in, Xval_out, HYPERPARAMS, fit_params=fit_params)"
   ]
  },
  {
   "cell_type": "code",
   "execution_count": null,
   "id": "2c057f9c",
   "metadata": {},
   "outputs": [],
   "source": [
    "f\"Best score of {score} achieved with {best_hyperparams}.\""
   ]
  },
  {
   "cell_type": "markdown",
   "id": "e89dad17",
   "metadata": {},
   "source": [
    "## Evaluate model with optimal hyperparams on test set"
   ]
  },
  {
   "cell_type": "code",
   "execution_count": 19,
   "id": "81674e0b",
   "metadata": {
    "scrolled": true
   },
   "outputs": [
    {
     "name": "stdout",
     "output_type": "stream",
     "text": [
      "Decompose DTD\n"
     ]
    },
    {
     "data": {
      "application/vnd.jupyter.widget-view+json": {
       "model_id": "5626344655d9442eb4953da2f01bb5a2",
       "version_major": 2,
       "version_minor": 0
      },
      "text/plain": [
       "HBox(children=(FloatProgress(value=0.0, max=15.0), HTML(value='')))"
      ]
     },
     "metadata": {},
     "output_type": "display_data"
    },
    {
     "name": "stdout",
     "output_type": "stream",
     "text": [
      "norm E 0.1601195859017804\n",
      "norm D 160.42341645437625\n",
      "diag_diff: 0.4460087384978431\n",
      "\n",
      "norm E 0.14425800674795367\n",
      "norm D 160.42341645437625\n",
      "diag_diff: 0.4254625108649402\n",
      "rho * change E: 4.755322832642293\n",
      "rho changed 50.0\n",
      "\n",
      "norm E 0.14026708771463073\n",
      "norm D 160.42341645437625\n",
      "diag_diff: 0.42157448971515016\n",
      "rho * change E: 0.7421303904021302\n",
      "\n",
      "norm E 0.13880463144690305\n",
      "norm D 160.42341645437625\n",
      "diag_diff: 0.4127338506065089\n",
      "rho * change E: 0.36441852953695203\n",
      "\n",
      "norm E 0.13766120734629242\n",
      "norm D 160.42341645437625\n",
      "diag_diff: 0.40424536076950324\n",
      "rho * change E: 0.16812002392615077\n",
      "\n",
      "norm E 0.13658998501517497\n",
      "norm D 160.42341645437625\n",
      "diag_diff: 0.3960196981273356\n",
      "rho * change E: 0.09626062578776058\n",
      "\n",
      "norm E 0.1355451326937369\n",
      "norm D 160.42341645437625\n",
      "diag_diff: 0.38802159850005513\n",
      "rho * change E: 0.07141780569091834\n",
      "\n",
      "norm E 0.1345168542144064\n",
      "norm D 160.42341645437625\n",
      "diag_diff: 0.3802340891928984\n",
      "rho * change E: 0.06343128992593738\n",
      "\n",
      "norm E 0.13350281904152436\n",
      "norm D 160.42341645437625\n",
      "diag_diff: 0.3726470955940797\n",
      "rho * change E: 0.06064743298620597\n",
      "\n",
      "norm E 0.13250237588102035\n",
      "norm D 160.42341645437625\n",
      "diag_diff: 0.3652533930535954\n",
      "rho * change E: 0.05936393376645075\n",
      "\n",
      "norm E 0.13151526330230165\n",
      "norm D 160.42341645437625\n",
      "diag_diff: 0.35804093733736997\n",
      "rho * change E: 0.05852091821415198\n",
      "\n",
      "norm E 0.13054253913647018\n",
      "norm D 160.42341645437625\n",
      "diag_diff: 0.3510037865192433\n",
      "rho * change E: 0.057787349895137986\n",
      "\n",
      "norm E 0.12958442984771995\n",
      "norm D 160.42341645437625\n",
      "diag_diff: 0.3441440564096552\n",
      "rho * change E: 0.057112077097713876\n",
      "\n",
      "norm E 0.12863945386876358\n",
      "norm D 160.42341645437625\n",
      "diag_diff: 0.33745690182660537\n",
      "rho * change E: 0.056474132604239974\n",
      "\n",
      "norm E 0.12770723264715583\n",
      "norm D 160.42341645437625\n",
      "diag_diff: 0.3309378352528592\n",
      "rho * change E: 0.05584907889379826\n",
      "\n",
      "\n",
      "CPU times: user 1min 20s, sys: 1min 10s, total: 2min 31s\n",
      "Wall time: 9.89 s\n"
     ]
    },
    {
     "data": {
      "text/plain": [
       "<teaser.algorithm.teaser_s.TEASER_S at 0x7ff52c127be0>"
      ]
     },
     "execution_count": 19,
     "metadata": {},
     "output_type": "execute_result"
    }
   ],
   "source": [
    "%%time\n",
    "alg = ALG(**best_hyperparams)\n",
    "alg.fit(X, S, **fit_params)"
   ]
  },
  {
   "cell_type": "code",
   "execution_count": 24,
   "id": "005a5a02",
   "metadata": {},
   "outputs": [
    {
     "name": "stdout",
     "output_type": "stream",
     "text": [
      "Performance on test set\n",
      "dcg [0.         1.         1.63092975 ... 0.         0.         0.        ]\n",
      "idcg [2.56160631 1.         1.63092975 ... 0.         0.         0.        ]\n",
      "ndcg [0. 1. 1. ... 0. 0. 0.]\n",
      "Evaluating with 1500 users\n",
      "Average Recall@20 0.10262\n",
      "Average Recall@100 0.14667\n",
      "Average nDCG@100 0.08792\n"
     ]
    },
    {
     "name": "stderr",
     "output_type": "stream",
     "text": [
      "/home/joey/Documents/Informatica/PhD/2020-2021/SI EDLAE/Code/teaser/evaluation.py:47: RuntimeWarning: invalid value encountered in true_divide\n",
      "  \n"
     ]
    }
   ],
   "source": [
    "print(\"Performance on test set\")\n",
    "score = evaluation.eval(alg, Xtest_in, Xtest_out)"
   ]
  },
  {
   "cell_type": "markdown",
   "id": "9c1a9dea",
   "metadata": {},
   "source": [
    "## Plot amount of items from long tail recommended"
   ]
  },
  {
   "cell_type": "code",
   "execution_count": 25,
   "id": "95cc7884",
   "metadata": {},
   "outputs": [
    {
     "data": {
      "image/png": "[encoded data removed]",
      "text/plain": [
       "<Figure size 432x288 with 1 Axes>"
      ]
     },
     "metadata": {
      "needs_background": "light"
     },
     "output_type": "display_data"
    }
   ],
   "source": [
    "# evaluation.plot_long_tail(alg, Xtest_in=Xtest_in, Xtest_out=Xtest_out, labels=[\"EASE\", \"Test items\"], k=100)\n",
    "evaluation.plot_long_tail(alg, histories=Xtest_in, labels=[\"TEASER-S\"], k=100)"
   ]
  }
 ],
 "metadata": {
  "kernelspec": {
   "display_name": "Python 3",
   "language": "python",
   "name": "python3"
  },
  "language_info": {
   "codemirror_mode": {
    "name": "ipython",
    "version": 3
   },
   "file_extension": ".py",
   "mimetype": "text/x-python",
   "name": "python",
   "nbconvert_exporter": "python",
   "pygments_lexer": "ipython3",
   "version": "3.8.10"
  }
 },
 "nbformat": 4,
 "nbformat_minor": 5
}
