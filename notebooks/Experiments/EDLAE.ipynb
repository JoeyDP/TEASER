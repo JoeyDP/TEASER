{
 "cells": [
  {
   "cell_type": "code",
   "execution_count": 1,
   "id": "a65f4cb7",
   "metadata": {},
   "outputs": [],
   "source": [
    "# %load_ext autoreload\n",
    "# %autoreload 2"
   ]
  },
  {
   "cell_type": "markdown",
   "id": "55bab0c8",
   "metadata": {},
   "source": [
    "# Experiments with EDLAE model"
   ]
  },
  {
   "cell_type": "code",
   "execution_count": 2,
   "id": "ec55d42c",
   "metadata": {},
   "outputs": [],
   "source": [
    "from pathlib import Path\n",
    "import numpy as np\n",
    "\n",
    "import teaser.util as util\n",
    "import teaser.evaluation as evaluation\n",
    "\n",
    "from teaser.algorithm.baseline.edlae import EDLAE"
   ]
  },
  {
   "cell_type": "markdown",
   "id": "c469b253",
   "metadata": {},
   "source": [
    "## Datasets"
   ]
  },
  {
   "cell_type": "code",
   "execution_count": 3,
   "id": "e0622ed1",
   "metadata": {},
   "outputs": [],
   "source": [
    "## Uncomment corresponding directory.\n",
    "# DATA_DIR = Path('../../data/ML20M/')\n",
    "# DATA_DIR = Path('../../data/Amazon Video Games/')\n",
    "DATA_DIR = Path('../../data/Publiq/')"
   ]
  },
  {
   "cell_type": "code",
   "execution_count": 4,
   "id": "d53bce36",
   "metadata": {},
   "outputs": [],
   "source": [
    "# Shouldn't need to change this info\n",
    "INTERACTIONS_TRAIN_PATH = DATA_DIR / 'interactions.train.csv'\n",
    "INTERACTIONS_VALIN_PATH = DATA_DIR / 'interactions.valin.csv'\n",
    "INTERACTIONS_VALOUT_PATH = DATA_DIR / 'interactions.valout.csv'\n",
    "INTERACTIONS_TESTIN_PATH = DATA_DIR / 'interactions.testin.csv'\n",
    "INTERACTIONS_TESTOUT_PATH = DATA_DIR / 'interactions.testout.csv'\n",
    "\n",
    "METADATA_PATH = DATA_DIR / 'features.csv'\n",
    "\n",
    "ITEM_ID = 'itemId'\n",
    "USER_ID = 'userId'"
   ]
  },
  {
   "cell_type": "markdown",
   "id": "48457625",
   "metadata": {},
   "source": [
    "## Define algorithm and hyperparameter ranges"
   ]
  },
  {
   "cell_type": "code",
   "execution_count": 5,
   "id": "11a5ac4c",
   "metadata": {},
   "outputs": [
    {
     "data": {
      "text/plain": [
       "{'l2': [50, 100, 200, 500], 'rho': [50, 100, 200], 'max_iterations': 10}"
      ]
     },
     "execution_count": 5,
     "metadata": {},
     "output_type": "execute_result"
    }
   ],
   "source": [
    "ALG = EDLAE\n",
    "\n",
    "# L2 = [10 ** p for p in range(2, 6)]\n",
    "L2 = [50, 100, 200, 500]\n",
    "RHO = [50, 100, 200]\n",
    "MAX_ITER = 10\n",
    "HYPERPARAMS = {'l2': L2, 'rho': RHO, 'max_iterations': MAX_ITER}\n",
    "HYPERPARAMS"
   ]
  },
  {
   "cell_type": "markdown",
   "id": "32d25f41",
   "metadata": {},
   "source": [
    "## Parse data"
   ]
  },
  {
   "cell_type": "code",
   "execution_count": 6,
   "id": "ce0d0435",
   "metadata": {},
   "outputs": [],
   "source": [
    "S, tags = util.parse_metadata(METADATA_PATH, item_id=ITEM_ID)\n",
    "n, t = S.shape  # amount of items and tags\n",
    "HYPERPARAMS['t'] = t\n",
    "del S\n",
    "\n",
    "X = util.parse_interactions(INTERACTIONS_TRAIN_PATH, item_id=ITEM_ID, user_id=USER_ID, shape_items=n)\n",
    "\n",
    "Xval_in = util.parse_interactions(INTERACTIONS_VALIN_PATH, item_id=ITEM_ID, user_id=USER_ID, shape_items=n)\n",
    "Xval_out = util.parse_interactions(INTERACTIONS_VALOUT_PATH, item_id=ITEM_ID, user_id=USER_ID, shape_items=n)\n",
    "Xtest_in = util.parse_interactions(INTERACTIONS_TESTIN_PATH, item_id=ITEM_ID, user_id=USER_ID, shape_items=n)\n",
    "Xtest_out = util.parse_interactions(INTERACTIONS_TESTOUT_PATH, item_id=ITEM_ID, user_id=USER_ID, shape_items=n)"
   ]
  },
  {
   "cell_type": "markdown",
   "id": "fc85ffb4",
   "metadata": {},
   "source": [
    "## Perform gridsearch on validation set"
   ]
  },
  {
   "cell_type": "code",
   "execution_count": 7,
   "id": "36a9347a",
   "metadata": {
    "scrolled": true
   },
   "outputs": [
    {
     "data": {
      "application/vnd.jupyter.widget-view+json": {
       "model_id": "3e7af12b5acd477eb943f20591b17c9b",
       "version_major": 2,
       "version_minor": 0
      },
      "text/plain": [
       "HBox(children=(FloatProgress(value=0.0, max=12.0), HTML(value='')))"
      ]
     },
     "metadata": {},
     "output_type": "display_data"
    },
    {
     "name": "stdout",
     "output_type": "stream",
     "text": [
      "\r",
      "Training model EDLAE with hyperparameters {'l2': 50, 'rho': 50, 'max_iterations': 10, 't': 2158}\n"
     ]
    },
    {
     "data": {
      "application/vnd.jupyter.widget-view+json": {
       "model_id": "84efce154fa24f5ea5021e8946d85256",
       "version_major": 2,
       "version_minor": 0
      },
      "text/plain": [
       "HBox(children=(FloatProgress(value=0.0, max=10.0), HTML(value='')))"
      ]
     },
     "metadata": {},
     "output_type": "display_data"
    },
    {
     "name": "stdout",
     "output_type": "stream",
     "text": [
      "norm E 1.2823151258496095\n",
      "norm D 747.9478629650524\n",
      "diag norm: 13.52026190838907\n",
      "diag_diff: 11.765945982104823\n",
      "\n",
      "norm E 1.1155067686079037\n",
      "norm D 778.1617233536114\n",
      "diag norm: 13.11212474676408\n",
      "diag_diff: 9.1408259619145\n",
      "rho * change E: 23.629815713283328\n",
      "\n",
      "norm E 1.0795785234114315\n",
      "norm D 787.3607369673051\n",
      "diag norm: 12.816700639831147\n",
      "diag_diff: 7.1128846288852765\n",
      "rho * change E: 7.486968497892203\n",
      "\n",
      "norm E 1.0654071413691244\n",
      "norm D 791.764484700184\n",
      "diag norm: 12.658591681574757\n",
      "diag_diff: 5.617634941860562\n",
      "rho * change E: 4.070592674476588\n",
      "\n",
      "norm E 1.0618292333912052\n",
      "norm D 794.2672063390078\n",
      "diag norm: 12.573031408753339\n",
      "diag_diff: 4.499296382610562\n",
      "rho * change E: 2.593436144979341\n",
      "\n",
      "norm E 1.063020177973908\n",
      "norm D 795.8444759352524\n",
      "diag norm: 12.525300670582496\n",
      "diag_diff: 3.6513763472687253\n",
      "rho * change E: 1.8632961206046121\n",
      "\n",
      "norm E 1.0659137399088379\n",
      "norm D 796.89159836992\n",
      "diag norm: 12.498114809496661\n",
      "diag_diff: 2.998707341098243\n",
      "rho * change E: 1.4512052569532727\n",
      "\n",
      "norm E 1.0692177743144398\n",
      "norm D 797.6330213413271\n",
      "diag norm: 12.482769712586581\n",
      "diag_diff: 2.489027682042593\n",
      "rho * change E: 1.1794971277112802\n",
      "\n",
      "norm E 1.0724275949940787\n",
      "norm D 798.1842993085245\n",
      "diag norm: 12.474642005760925\n",
      "diag_diff: 2.0859029240485563\n",
      "rho * change E: 0.986297794496891\n",
      "\n",
      "norm E 1.0753535857929\n",
      "norm D 798.6077046994816\n",
      "diag norm: 12.471169916798933\n",
      "diag_diff: 1.7630662170905582\n",
      "rho * change E: 0.8407058196868544\n",
      "\n",
      "\n",
      "Evaluating with 1000 users\n",
      "Average Recall@20 0.497\n",
      "Average Recall@100 0.648\n",
      "Average nDCG@100 0.32\n",
      "Training model EDLAE with hyperparameters {'l2': 100, 'rho': 50, 'max_iterations': 10, 't': 2158}\n"
     ]
    },
    {
     "data": {
      "application/vnd.jupyter.widget-view+json": {
       "model_id": "a47027b7a3844de3aa778dc6ce59cfcd",
       "version_major": 2,
       "version_minor": 0
      },
      "text/plain": [
       "HBox(children=(FloatProgress(value=0.0, max=10.0), HTML(value='')))"
      ]
     },
     "metadata": {},
     "output_type": "display_data"
    },
    {
     "name": "stdout",
     "output_type": "stream",
     "text": [
      "norm E 0.854967452355776\n",
      "norm D 768.6406148103742\n",
      "diag norm: 9.832094759563688\n",
      "diag_diff: 8.850198285249819\n",
      "\n",
      "norm E 0.7926277475556954\n",
      "norm D 793.3996672573323\n",
      "diag norm: 9.756895530686503\n",
      "diag_diff: 7.479096241453492\n",
      "rho * change E: 12.441433896623627\n",
      "\n",
      "norm E 0.7725609071343723\n",
      "norm D 800.4723540009572\n",
      "diag norm: 9.577628962859151\n",
      "diag_diff: 6.204404075778701\n",
      "rho * change E: 4.226747215761362\n",
      "\n",
      "norm E 0.760522888832833\n",
      "norm D 804.351255957101\n",
      "diag norm: 9.454632814982494\n",
      "diag_diff: 5.174826139592843\n",
      "rho * change E: 2.586586204284098\n",
      "\n",
      "norm E 0.7535165665683137\n",
      "norm D 806.8956033283796\n",
      "diag norm: 9.373569067553209\n",
      "diag_diff: 4.342946567410794\n",
      "rho * change E: 1.7973710751963334\n",
      "\n",
      "norm E 0.7498321016478496\n",
      "norm D 808.6808822881401\n",
      "diag norm: 9.31974540792522\n",
      "diag_diff: 3.6658748856475545\n",
      "rho * change E: 1.3162087545917898\n",
      "\n",
      "norm E 0.7482360148219042\n",
      "norm D 809.9540172330651\n",
      "diag norm: 9.283335460717847\n",
      "diag_diff: 3.1111563990905697\n",
      "rho * change E: 1.0069896816749349\n",
      "\n",
      "norm E 0.7478661408979634\n",
      "norm D 810.9169096668537\n",
      "diag norm: 9.258080092346923\n",
      "diag_diff: 2.654191694422254\n",
      "rho * change E: 0.8078704498876176\n",
      "\n",
      "norm E 0.748157158190216\n",
      "norm D 811.6685456506183\n",
      "diag norm: 9.240135397507053\n",
      "diag_diff: 2.275780040134563\n",
      "rho * change E: 0.6725751816788754\n",
      "\n",
      "norm E 0.7487737701613765\n",
      "norm D 812.2539764149295\n",
      "diag norm: 9.227124188869244\n",
      "diag_diff: 1.9609195054987911\n",
      "rho * change E: 0.5723533157874124\n",
      "\n",
      "\n",
      "Evaluating with 1000 users\n",
      "Average Recall@20 0.496\n",
      "Average Recall@100 0.659\n",
      "Average nDCG@100 0.321\n",
      "Training model EDLAE with hyperparameters {'l2': 200, 'rho': 50, 'max_iterations': 10, 't': 2158}\n"
     ]
    },
    {
     "data": {
      "application/vnd.jupyter.widget-view+json": {
       "model_id": "79110755dbfa40378ec4ab3708082246",
       "version_major": 2,
       "version_minor": 0
      },
      "text/plain": [
       "HBox(children=(FloatProgress(value=0.0, max=10.0), HTML(value='')))"
      ]
     },
     "metadata": {},
     "output_type": "display_data"
    },
    {
     "name": "stdout",
     "output_type": "stream",
     "text": [
      "norm E 0.5485013687632873\n",
      "norm D 780.4930904971742\n",
      "diag norm: 6.659833812828402\n",
      "diag_diff: 6.187686495081779\n",
      "\n",
      "norm E 0.5292170886596952\n",
      "norm D 803.1639985275497\n",
      "diag norm: 6.712711343658646\n",
      "diag_diff: 5.595248567479749\n",
      "rho * change E: 6.446863197050743\n",
      "\n",
      "norm E 0.5209347067209272\n",
      "norm D 808.4981601738366\n",
      "diag norm: 6.6341077039765315\n",
      "diag_diff: 4.931066973909241\n",
      "rho * change E: 2.154116219106306\n",
      "\n",
      "norm E 0.5147819325417661\n",
      "norm D 811.2997377576133\n",
      "diag norm: 6.5663184188779935\n",
      "diag_diff: 4.346602753510179\n",
      "rho * change E: 1.3592612405888604\n",
      "\n",
      "norm E 0.5101520511512668\n",
      "norm D 813.3168766588957\n",
      "diag norm: 6.513319648414525\n",
      "diag_diff: 3.838564368374241\n",
      "rho * change E: 1.034929468382103\n",
      "\n",
      "norm E 0.5067489184142422\n",
      "norm D 814.945627954113\n",
      "diag norm: 6.472812717274558\n",
      "diag_diff: 3.3970828805463964\n",
      "rho * change E: 0.8317430528199382\n",
      "\n",
      "norm E 0.5043104264466659\n",
      "norm D 816.325687430996\n",
      "diag norm: 6.441939704611518\n",
      "diag_diff: 3.012238315909218\n",
      "rho * change E: 0.6843257949575349\n",
      "\n",
      "norm E 0.5026269386888093\n",
      "norm D 817.4204155101307\n",
      "diag norm: 6.418370287744198\n",
      "diag_diff: 2.6757662856501314\n",
      "rho * change E: 0.5658171398522515\n",
      "\n",
      "norm E 0.5015199448012722\n",
      "norm D 818.3172956692298\n",
      "diag norm: 6.40024688270189\n",
      "diag_diff: 2.380914055901951\n",
      "rho * change E: 0.47309303233910893\n",
      "\n",
      "norm E 0.5008363007403785\n",
      "norm D 819.0779797798367\n",
      "diag norm: 6.386209467395364\n",
      "diag_diff: 2.1218957255504507\n",
      "rho * change E: 0.40407551436418515\n",
      "\n",
      "\n",
      "Evaluating with 1000 users\n",
      "Average Recall@20 0.494\n",
      "Average Recall@100 0.662\n",
      "Average nDCG@100 0.318\n",
      "Training model EDLAE with hyperparameters {'l2': 500, 'rho': 50, 'max_iterations': 10, 't': 2158}\n"
     ]
    },
    {
     "data": {
      "application/vnd.jupyter.widget-view+json": {
       "model_id": "17e089c3c0d54395ae0ebfb8bbeb530d",
       "version_major": 2,
       "version_minor": 0
      },
      "text/plain": [
       "HBox(children=(FloatProgress(value=0.0, max=10.0), HTML(value='')))"
      ]
     },
     "metadata": {},
     "output_type": "display_data"
    },
    {
     "name": "stdout",
     "output_type": "stream",
     "text": [
      "norm E 0.28476715160962246\n",
      "norm D 788.8962365956208\n",
      "diag norm: 3.5774438627130656\n",
      "diag_diff: 3.437041430261486\n",
      "\n",
      "norm E 0.28194162846364795\n",
      "norm D 810.9349161814202\n",
      "diag norm: 3.6430004122315873\n",
      "diag_diff: 3.3018913776680354\n",
      "rho * change E: 2.6806018069523647\n",
      "\n",
      "norm E 0.28003282327042733\n",
      "norm D 815.2651105167355\n",
      "diag norm: 3.62562550101986\n",
      "diag_diff: 3.0903854594984193\n",
      "rho * change E: 0.8559021690555625\n",
      "\n",
      "norm E 0.2783070206178908\n",
      "norm D 817.0671800309235\n",
      "diag norm: 3.60524881188217\n",
      "diag_diff: 2.8876199858856886\n",
      "rho * change E: 0.5016555091675723\n",
      "\n",
      "norm E 0.2767627909866477\n",
      "norm D 818.1948753091667\n",
      "diag norm: 3.586110148002431\n",
      "diag_diff: 2.6976587621991643\n",
      "rho * change E: 0.37840181094226905\n",
      "\n",
      "norm E 0.27540267590302064\n",
      "norm D 819.0672643710199\n",
      "diag norm: 3.5690183618087103\n",
      "diag_diff: 2.5207255622727813\n",
      "rho * change E: 0.3193340259261049\n",
      "\n",
      "norm E 0.27421333398838643\n",
      "norm D 819.8152729763515\n",
      "diag norm: 3.5540219062402385\n",
      "diag_diff: 2.3561835355000125\n",
      "rho * change E: 0.28214602565987845\n",
      "\n",
      "norm E 0.2731794730481161\n",
      "norm D 820.5021941564158\n",
      "diag norm: 3.5409318113079755\n",
      "diag_diff: 2.203135251881594\n",
      "rho * change E: 0.25476824399121273\n",
      "\n",
      "norm E 0.27228699799412653\n",
      "norm D 821.1540215026122\n",
      "diag norm: 3.5295521075080183\n",
      "diag_diff: 2.0607674118111614\n",
      "rho * change E: 0.2322627426117481\n",
      "\n",
      "norm E 0.27151997903459985\n",
      "norm D 821.7787559539861\n",
      "diag norm: 3.5196873203832904\n",
      "diag_diff: 1.9282935309622848\n",
      "rho * change E: 0.21275626308195827\n",
      "\n",
      "\n",
      "Evaluating with 1000 users\n",
      "Average Recall@20 0.495\n",
      "Average Recall@100 0.662\n",
      "Average nDCG@100 0.314\n",
      "Training model EDLAE with hyperparameters {'l2': 50, 'rho': 100, 'max_iterations': 10, 't': 2158}\n"
     ]
    },
    {
     "data": {
      "application/vnd.jupyter.widget-view+json": {
       "model_id": "a85e4f77fa0f4db4819b73c31d79a5ef",
       "version_major": 2,
       "version_minor": 0
      },
      "text/plain": [
       "HBox(children=(FloatProgress(value=0.0, max=10.0), HTML(value='')))"
      ]
     },
     "metadata": {},
     "output_type": "display_data"
    },
    {
     "name": "stdout",
     "output_type": "stream",
     "text": [
      "norm E 1.281633912482363\n",
      "norm D 748.2406332562382\n",
      "diag norm: 13.518430476001052\n",
      "diag_diff: 10.36129669985494\n",
      "\n",
      "norm E 1.086803444897747\n",
      "norm D 787.2214326036773\n",
      "diag norm: 12.997311715041487\n",
      "diag_diff: 7.049883213346109\n",
      "rho * change E: 50.298693488499886\n",
      "\n",
      "norm E 1.0678640231656702\n",
      "norm D 796.5302789428126\n",
      "diag norm: 12.786629803182409\n",
      "diag_diff: 4.93785216318242\n",
      "rho * change E: 12.779858287273603\n",
      "\n",
      "norm E 1.0675665407234955\n",
      "norm D 800.3088939891353\n",
      "diag norm: 12.682410175955745\n",
      "diag_diff: 3.5341052353377864\n",
      "rho * change E: 6.44479672199344\n",
      "\n",
      "norm E 1.0715607723827925\n",
      "norm D 802.3222295734981\n",
      "diag norm: 12.625851538634638\n",
      "diag_diff: 2.5777899775009594\n",
      "rho * change E: 4.263268850512301\n",
      "\n",
      "norm E 1.076022285661919\n",
      "norm D 803.5685551350394\n",
      "diag norm: 12.593652370258845\n",
      "diag_diff: 1.9132744220188687\n",
      "rho * change E: 3.134847983247642\n",
      "\n",
      "norm E 1.0799362542162276\n",
      "norm D 804.3809676836939\n",
      "diag norm: 12.575380865642195\n",
      "diag_diff: 1.4432149039078432\n",
      "rho * change E: 2.425857281425031\n",
      "\n",
      "norm E 1.0831444045982876\n",
      "norm D 804.9240146698867\n",
      "diag norm: 12.565711230577232\n",
      "diag_diff: 1.104979755442869\n",
      "rho * change E: 1.9229733427149396\n",
      "\n",
      "norm E 1.0857343629478888\n",
      "norm D 805.3153943967238\n",
      "diag norm: 12.561648505975914\n",
      "diag_diff: 0.8576087169844132\n",
      "rho * change E: 1.5731056550579803\n",
      "\n",
      "norm E 1.0878412543677873\n",
      "norm D 805.6054531354574\n",
      "diag norm: 12.56135581862049\n",
      "diag_diff: 0.6739352389216525\n",
      "rho * change E: 1.3234317149338841\n",
      "\n",
      "\n",
      "Evaluating with 1000 users\n",
      "Average Recall@20 0.497\n",
      "Average Recall@100 0.649\n",
      "Average nDCG@100 0.319\n",
      "Training model EDLAE with hyperparameters {'l2': 100, 'rho': 100, 'max_iterations': 10, 't': 2158}\n"
     ]
    },
    {
     "data": {
      "application/vnd.jupyter.widget-view+json": {
       "model_id": "bb1fb17173cd4449ad0de4add0a221e4",
       "version_major": 2,
       "version_minor": 0
      },
      "text/plain": [
       "HBox(children=(FloatProgress(value=0.0, max=10.0), HTML(value='')))"
      ]
     },
     "metadata": {},
     "output_type": "display_data"
    },
    {
     "name": "stdout",
     "output_type": "stream",
     "text": [
      "norm E 0.8548300541956352\n",
      "norm D 768.1572731493953\n",
      "diag norm: 9.831543362431722\n",
      "diag_diff: 7.967179624106339\n",
      "\n",
      "norm E 0.7724066524344697\n",
      "norm D 798.9844493649114\n",
      "diag norm: 9.613619492831104\n",
      "diag_diff: 5.948328988959072\n",
      "rho * change E: 26.169280416103163\n",
      "\n",
      "norm E 0.7576449729466933\n",
      "norm D 807.9798843569577\n",
      "diag norm: 9.473068712893385\n",
      "diag_diff: 4.462604043067302\n",
      "rho * change E: 7.925068140671882\n",
      "\n",
      "norm E 0.7525076951050734\n",
      "norm D 812.1092226665551\n",
      "diag norm: 9.394473754438053\n",
      "diag_diff: 3.3843549963739674\n",
      "rho * change E: 4.27477412289992\n",
      "\n",
      "norm E 0.7516353849868291\n",
      "norm D 814.4017039067191\n",
      "diag norm: 9.348008600536165\n",
      "diag_diff: 2.5936853075318544\n",
      "rho * change E: 2.716498769281944\n",
      "\n",
      "norm E 0.752394297874322\n",
      "norm D 815.8320095586331\n",
      "diag norm: 9.31873634500775\n",
      "diag_diff: 2.007625859511063\n",
      "rho * change E: 1.9547307260311755\n",
      "\n",
      "norm E 0.7536212956885829\n",
      "norm D 816.7751399828043\n",
      "diag norm: 9.299454250056503\n",
      "diag_diff: 1.5683913306160933\n",
      "rho * change E: 1.5074000691063842\n",
      "\n",
      "norm E 0.7548915690325394\n",
      "norm D 817.4420718034504\n",
      "diag norm: 9.286418553366065\n",
      "diag_diff: 1.2359672952925955\n",
      "rho * change E: 1.2098755708179272\n",
      "\n",
      "norm E 0.7560539654581077\n",
      "norm D 817.9372995897634\n",
      "diag norm: 9.277496826769593\n",
      "diag_diff: 0.9820318402779301\n",
      "rho * change E: 0.9988201140090339\n",
      "\n",
      "norm E 0.7570674687163\n",
      "norm D 818.3247565814642\n",
      "diag norm: 9.271393901817065\n",
      "diag_diff: 0.7863770494899741\n",
      "rho * change E: 0.8425109400602981\n",
      "\n",
      "\n",
      "Evaluating with 1000 users\n",
      "Average Recall@20 0.493\n",
      "Average Recall@100 0.655\n",
      "Average nDCG@100 0.317\n",
      "Training model EDLAE with hyperparameters {'l2': 200, 'rho': 100, 'max_iterations': 10, 't': 2158}\n"
     ]
    },
    {
     "data": {
      "application/vnd.jupyter.widget-view+json": {
       "model_id": "67ca96b175dc4e9898602552287b2e39",
       "version_major": 2,
       "version_minor": 0
      },
      "text/plain": [
       "HBox(children=(FloatProgress(value=0.0, max=10.0), HTML(value='')))"
      ]
     },
     "metadata": {},
     "output_type": "display_data"
    },
    {
     "name": "stdout",
     "output_type": "stream",
     "text": [
      "norm E 0.5490344323980699\n",
      "norm D 780.42360392833\n",
      "diag norm: 6.659873867146197\n",
      "diag_diff: 5.714202094823844\n",
      "\n",
      "norm E 0.5192144655111164\n",
      "norm D 805.307287782579\n",
      "diag norm: 6.607540279387849\n",
      "diag_diff: 4.669870659159156\n",
      "rho * change E: 13.177381633061762\n",
      "\n",
      "norm E 0.5108651294384311\n",
      "norm D 812.4703694276566\n",
      "diag norm: 6.526540211480329\n",
      "diag_diff: 3.776487551392271\n",
      "rho * change E: 4.417161383214995\n",
      "\n",
      "norm E 0.5060912265146968\n",
      "norm D 816.3649069042882\n",
      "diag norm: 6.471750485000736\n",
      "diag_diff: 3.0653028151423727\n",
      "rho * change E: 2.7010790242266407\n",
      "\n",
      "norm E 0.5035024795306744\n",
      "norm D 818.8533595946456\n",
      "diag norm: 6.435641513841037\n",
      "diag_diff: 2.4986691697919463\n",
      "rho * change E: 1.8568060986275026\n",
      "\n",
      "norm E 0.5022771246623723\n",
      "norm D 820.5870530128044\n",
      "diag norm: 6.411421282159632\n",
      "diag_diff: 2.044883118300727\n",
      "rho * change E: 1.3472143619122834\n",
      "\n",
      "norm E 0.5018572027477964\n",
      "norm D 821.8218937450947\n",
      "diag norm: 6.394731445352318\n",
      "diag_diff: 1.6799459973525614\n",
      "rho * change E: 1.0258080046233895\n",
      "\n",
      "norm E 0.5018694609195646\n",
      "norm D 822.7342440672427\n",
      "diag norm: 6.382856943841386\n",
      "diag_diff: 1.3853024852224005\n",
      "rho * change E: 0.8153058717874249\n",
      "\n",
      "norm E 0.5020921379692913\n",
      "norm D 823.4385303895749\n",
      "diag norm: 6.374166049031602\n",
      "diag_diff: 1.1466507241772697\n",
      "rho * change E: 0.6732924062783145\n",
      "\n",
      "norm E 0.50239979029173\n",
      "norm D 823.9892834088712\n",
      "diag norm: 6.367665018401285\n",
      "diag_diff: 0.9526604315206145\n",
      "rho * change E: 0.570410668718235\n",
      "\n",
      "\n",
      "Evaluating with 1000 users\n",
      "Average Recall@20 0.488\n",
      "Average Recall@100 0.659\n",
      "Average nDCG@100 0.314\n",
      "Training model EDLAE with hyperparameters {'l2': 500, 'rho': 100, 'max_iterations': 10, 't': 2158}\n"
     ]
    },
    {
     "data": {
      "application/vnd.jupyter.widget-view+json": {
       "model_id": "801e433d4a3b4e729c6d7e555217cbaa",
       "version_major": 2,
       "version_minor": 0
      },
      "text/plain": [
       "HBox(children=(FloatProgress(value=0.0, max=10.0), HTML(value='')))"
      ]
     },
     "metadata": {},
     "output_type": "display_data"
    },
    {
     "name": "stdout",
     "output_type": "stream",
     "text": [
      "norm E 0.2840177763855268\n",
      "norm D 789.2700140075913\n",
      "diag norm: 3.5773706839974544\n",
      "diag_diff: 3.27789176833682\n",
      "\n",
      "norm E 0.27790142527682155\n",
      "norm D 811.5053497586057\n",
      "diag norm: 3.6013954566057644\n",
      "diag_diff: 2.95366108311704\n",
      "rho * change E: 5.3290846467502675\n",
      "\n",
      "norm E 0.27534813656008594\n",
      "norm D 816.4844614078019\n",
      "diag norm: 3.576041763542315\n",
      "diag_diff: 2.6127954348459843\n",
      "rho * change E: 1.7524599658732536\n",
      "\n",
      "norm E 0.27338023078902857\n",
      "norm D 818.9858472023412\n",
      "diag norm: 3.5531174985690117\n",
      "diag_diff: 2.3098748566214025\n",
      "rho * change E: 1.1005563140379826\n",
      "\n",
      "norm E 0.2718485191930594\n",
      "norm D 820.7805359992124\n",
      "diag norm: 3.5345510138762926\n",
      "diag_diff: 2.0433406999914596\n",
      "rho * change E: 0.8478525353588271\n",
      "\n",
      "norm E 0.27067889399799505\n",
      "norm D 822.2570800219048\n",
      "diag norm: 3.5199339131465233\n",
      "diag_diff: 1.809197498989169\n",
      "rho * change E: 0.6955668228456752\n",
      "\n",
      "norm E 0.26980207332549133\n",
      "norm D 823.5284172499142\n",
      "diag norm: 3.508527569589525\n",
      "diag_diff: 1.603335212931946\n",
      "rho * change E: 0.5827493503263282\n",
      "\n",
      "norm E 0.26916063706586335\n",
      "norm D 824.5861030772179\n",
      "diag norm: 3.499633753042354\n",
      "diag_diff: 1.4220902781813263\n",
      "rho * change E: 0.4907515019903223\n",
      "\n",
      "norm E 0.2687050893081124\n",
      "norm D 825.4777078678655\n",
      "diag norm: 3.492680200579615\n",
      "diag_diff: 1.2622535515346271\n",
      "rho * change E: 0.41598791915030486\n",
      "\n",
      "norm E 0.26839580915086797\n",
      "norm D 826.2440353427479\n",
      "diag norm: 3.487234857374146\n",
      "diag_diff: 1.1211521019216133\n",
      "rho * change E: 0.35652557731862133\n",
      "\n",
      "\n",
      "Evaluating with 1000 users\n",
      "Average Recall@20 0.492\n",
      "Average Recall@100 0.663\n",
      "Average nDCG@100 0.312\n",
      "Training model EDLAE with hyperparameters {'l2': 50, 'rho': 200, 'max_iterations': 10, 't': 2158}\n"
     ]
    },
    {
     "data": {
      "application/vnd.jupyter.widget-view+json": {
       "model_id": "028cc662a60346b2bba99f0700c464fd",
       "version_major": 2,
       "version_minor": 0
      },
      "text/plain": [
       "HBox(children=(FloatProgress(value=0.0, max=10.0), HTML(value='')))"
      ]
     },
     "metadata": {},
     "output_type": "display_data"
    },
    {
     "name": "stdout",
     "output_type": "stream",
     "text": [
      "norm E 1.2818337219643559\n",
      "norm D 747.8372601409874\n",
      "diag norm: 13.518820369639455\n",
      "diag_diff: 9.057552178373438\n",
      "\n",
      "norm E 1.079907659708548\n",
      "norm D 792.3695874550419\n",
      "diag norm: 12.967988461093901\n",
      "diag_diff: 5.4480661995339466\n",
      "rho * change E: 104.09089058060854\n",
      "\n",
      "norm E 1.0710577047776098\n",
      "norm D 801.3541729877649\n",
      "diag norm: 12.773608250792746\n",
      "diag_diff: 3.4002122577750256\n",
      "rho * change E: 23.553474099955945\n",
      "\n",
      "norm E 1.0752743382620877\n",
      "norm D 804.7217356571699\n",
      "diag norm: 12.679188012043141\n",
      "diag_diff: 2.166833222392781\n",
      "rho * change E: 11.888903971775274\n",
      "\n",
      "norm E 1.080377324487732\n",
      "norm D 806.454298613789\n",
      "diag norm: 12.629800981420024\n",
      "diag_diff: 1.4077895262633233\n",
      "rho * change E: 7.689847349132834\n",
      "\n",
      "norm E 1.084518454864487\n",
      "norm D 807.4977249795849\n",
      "diag norm: 12.604051917398378\n",
      "diag_diff: 0.9331985570082985\n",
      "rho * change E: 5.471070712765787\n",
      "\n",
      "norm E 1.0876263524517376\n",
      "norm D 808.1605350552206\n",
      "diag norm: 12.591714397811982\n",
      "diag_diff: 0.6321373594922656\n",
      "rho * change E: 4.1181793560947675\n",
      "\n",
      "norm E 1.0899424290218576\n",
      "norm D 808.6152690047862\n",
      "diag norm: 12.587185392857714\n",
      "diag_diff: 0.4385411609784349\n",
      "rho * change E: 3.2699418873825445\n",
      "\n",
      "norm E 1.0917049503585938\n",
      "norm D 808.9504728803737\n",
      "diag norm: 12.58729631107597\n",
      "diag_diff: 0.3126025482092782\n",
      "rho * change E: 2.706832550411514\n",
      "\n",
      "norm E 1.0930937821172557\n",
      "norm D 809.2184457733151\n",
      "diag norm: 12.59028395177478\n",
      "diag_diff: 0.23014944335442958\n",
      "rho * change E: 2.344601059958172\n",
      "\n",
      "\n",
      "Evaluating with 1000 users\n",
      "Average Recall@20 0.496\n",
      "Average Recall@100 0.649\n",
      "Average nDCG@100 0.316\n",
      "Training model EDLAE with hyperparameters {'l2': 100, 'rho': 200, 'max_iterations': 10, 't': 2158}\n"
     ]
    },
    {
     "data": {
      "application/vnd.jupyter.widget-view+json": {
       "model_id": "4505d688f1de44b59191bb524d2c1849",
       "version_major": 2,
       "version_minor": 0
      },
      "text/plain": [
       "HBox(children=(FloatProgress(value=0.0, max=10.0), HTML(value='')))"
      ]
     },
     "metadata": {},
     "output_type": "display_data"
    },
    {
     "name": "stdout",
     "output_type": "stream",
     "text": [
      "norm E 0.8547469381785604\n",
      "norm D 768.2745830656811\n",
      "diag norm: 9.832908296378593\n",
      "diag_diff: 7.002665658274187\n",
      "\n",
      "norm E 0.762947366785186\n",
      "norm D 806.457844693479\n",
      "diag norm: 9.578455615744781\n",
      "diag_diff: 4.597187474092924\n",
      "rho * change E: 55.1443724452542\n",
      "\n",
      "norm E 0.7554691181510479\n",
      "norm D 815.1766555881015\n",
      "diag norm: 9.465160492712615\n",
      "diag_diff: 3.0716694013140957\n",
      "rho * change E: 13.750789671693902\n",
      "\n",
      "norm E 0.7556438325717776\n",
      "norm D 818.6500659920775\n",
      "diag norm: 9.403841602517815\n",
      "diag_diff: 2.0795364033709207\n",
      "rho * change E: 6.992351577622946\n",
      "\n",
      "norm E 0.7573005144796334\n",
      "norm D 820.4832215421743\n",
      "diag norm: 9.367334156170815\n",
      "diag_diff: 1.4245110308974367\n",
      "rho * change E: 4.560380232762168\n",
      "\n",
      "norm E 0.7589721389126481\n",
      "norm D 821.5774785591525\n",
      "diag norm: 9.344501440329914\n",
      "diag_diff: 0.9870298245660478\n",
      "rho * change E: 3.277402643631494\n",
      "\n",
      "norm E 0.7603355065262033\n",
      "norm D 822.3013174698499\n",
      "diag norm: 9.329884195453293\n",
      "diag_diff: 0.691876112036777\n",
      "rho * change E: 2.4802798844239997\n",
      "\n",
      "norm E 0.7613794729956307\n",
      "norm D 822.7992669175325\n",
      "diag norm: 9.320501173355025\n",
      "diag_diff: 0.4908312609990223\n",
      "rho * change E: 1.9548109862708607\n",
      "\n",
      "norm E 0.7621674827466922\n",
      "norm D 823.1614457058806\n",
      "diag norm: 9.31458380498589\n",
      "diag_diff: 0.35263841086150216\n",
      "rho * change E: 1.594923594495274\n",
      "\n",
      "norm E 0.7627677104789234\n",
      "norm D 823.4366861503154\n",
      "diag norm: 9.311013103512577\n",
      "diag_diff: 0.2568059341454116\n",
      "rho * change E: 1.340221775586523\n",
      "\n",
      "\n",
      "Evaluating with 1000 users\n",
      "Average Recall@20 0.491\n",
      "Average Recall@100 0.654\n",
      "Average nDCG@100 0.315\n",
      "Training model EDLAE with hyperparameters {'l2': 200, 'rho': 200, 'max_iterations': 10, 't': 2158}\n"
     ]
    },
    {
     "data": {
      "application/vnd.jupyter.widget-view+json": {
       "model_id": "06bbbb46ee1945c8b46b3bb84cc45b63",
       "version_major": 2,
       "version_minor": 0
      },
      "text/plain": [
       "HBox(children=(FloatProgress(value=0.0, max=10.0), HTML(value='')))"
      ]
     },
     "metadata": {},
     "output_type": "display_data"
    },
    {
     "name": "stdout",
     "output_type": "stream",
     "text": [
      "norm E 0.5483192801004249\n",
      "norm D 780.475862834069\n",
      "diag norm: 6.6592848907325335\n",
      "diag_diff: 5.100556047754349\n",
      "\n",
      "norm E 0.5107630409541329\n",
      "norm D 811.4043690553918\n",
      "diag norm: 6.5553082508562905\n",
      "diag_diff: 3.6829753283260604\n",
      "rho * change E: 27.713280864415587\n",
      "\n",
      "norm E 0.5051284505184751\n",
      "norm D 820.1129919084447\n",
      "diag norm: 6.491429925747335\n",
      "diag_diff: 2.668067927772642\n",
      "rho * change E: 8.198333494174328\n",
      "\n",
      "norm E 0.5034809100692068\n",
      "norm D 824.0280542725568\n",
      "diag norm: 6.454815684233415\n",
      "diag_diff: 1.9453190058135283\n",
      "rho * change E: 4.397724562982584\n",
      "\n",
      "norm E 0.5034257351196938\n",
      "norm D 826.1523389838612\n",
      "diag norm: 6.432438379723285\n",
      "diag_diff: 1.4274023684428634\n",
      "rho * change E: 2.780481185659646\n",
      "\n",
      "norm E 0.5038915022887659\n",
      "norm D 827.501622982949\n",
      "diag norm: 6.417870892588902\n",
      "diag_diff: 1.0538057156474998\n",
      "rho * change E: 1.985170786861024\n",
      "\n",
      "norm E 0.5044566562898685\n",
      "norm D 828.4205401450807\n",
      "diag norm: 6.408006002839216\n",
      "diag_diff: 0.7825866087953707\n",
      "rho * change E: 1.5237708474831506\n",
      "\n",
      "norm E 0.5049830279691939\n",
      "norm D 829.0640052231246\n",
      "diag norm: 6.401170103987355\n",
      "diag_diff: 0.5845559118428539\n",
      "rho * change E: 1.2085614988059106\n",
      "\n",
      "norm E 0.5054325881058856\n",
      "norm D 829.5435692434833\n",
      "diag norm: 6.39638510243195\n",
      "diag_diff: 0.4392003672329901\n",
      "rho * change E: 0.9894645459447102\n",
      "\n",
      "norm E 0.5058032491252076\n",
      "norm D 829.9085391317919\n",
      "diag norm: 6.393016700738674\n",
      "diag_diff: 0.3319676540522731\n",
      "rho * change E: 0.826116911911915\n",
      "\n",
      "\n",
      "Evaluating with 1000 users\n",
      "Average Recall@20 0.489\n",
      "Average Recall@100 0.658\n",
      "Average nDCG@100 0.313\n",
      "Training model EDLAE with hyperparameters {'l2': 500, 'rho': 200, 'max_iterations': 10, 't': 2158}\n"
     ]
    },
    {
     "data": {
      "application/vnd.jupyter.widget-view+json": {
       "model_id": "c1cc56729147444181c1e7a5550a308d",
       "version_major": 2,
       "version_minor": 0
      },
      "text/plain": [
       "HBox(children=(FloatProgress(value=0.0, max=10.0), HTML(value='')))"
      ]
     },
     "metadata": {},
     "output_type": "display_data"
    },
    {
     "name": "stdout",
     "output_type": "stream",
     "text": [
      "norm E 0.284207737836086\n",
      "norm D 788.609782732195\n",
      "diag norm: 3.5777465014510086\n",
      "diag_diff: 3.023880416884843\n",
      "\n",
      "norm E 0.274715313963253\n",
      "norm D 812.4134863438331\n",
      "diag norm: 3.566073749514092\n",
      "diag_diff: 2.4783076793184304\n",
      "rho * change E: 10.811865872316483\n",
      "\n",
      "norm E 0.27205932290843693\n",
      "norm D 818.950489027062\n",
      "diag norm: 3.538853496499999\n",
      "diag_diff: 2.0114186017295363\n",
      "rho * change E: 3.6194097967051753\n",
      "\n",
      "norm E 0.27045089497704583\n",
      "norm D 822.5530693009111\n",
      "diag norm: 3.519572175851894\n",
      "diag_diff: 1.6343218197553362\n",
      "rho * change E: 2.2603840559115147\n",
      "\n",
      "norm E 0.2695070148291101\n",
      "norm D 824.9816509464232\n",
      "diag norm: 3.506490530256422\n",
      "diag_diff: 1.330248539517922\n",
      "rho * change E: 1.5997380205893448\n",
      "\n",
      "norm E 0.2690026413939412\n",
      "norm D 826.7472428344431\n",
      "diag norm: 3.4975726262426536\n",
      "diag_diff: 1.0845716048560623\n",
      "rho * change E: 1.181598297754754\n",
      "\n",
      "norm E 0.26877539285553464\n",
      "norm D 828.0274688139326\n",
      "diag norm: 3.4914002094734116\n",
      "diag_diff: 0.8856264242996622\n",
      "rho * change E: 0.9004922057271936\n",
      "\n",
      "norm E 0.26871404971436397\n",
      "norm D 828.9961351953873\n",
      "diag norm: 3.4870453384556197\n",
      "diag_diff: 0.7242833193854439\n",
      "rho * change E: 0.7112336779988659\n",
      "\n",
      "norm E 0.26874300607666307\n",
      "norm D 829.7576051915262\n",
      "diag norm: 3.4839020334480817\n",
      "diag_diff: 0.5932187696462915\n",
      "rho * change E: 0.5818557024988881\n",
      "\n",
      "norm E 0.26881698218344274\n",
      "norm D 830.3751303035882\n",
      "diag norm: 3.481589555877138\n",
      "diag_diff: 0.48664570345678254\n",
      "rho * change E: 0.4897513466636785\n",
      "\n",
      "\n",
      "Evaluating with 1000 users\n",
      "Average Recall@20 0.487\n",
      "Average Recall@100 0.658\n",
      "Average nDCG@100 0.31\n",
      "\n"
     ]
    }
   ],
   "source": [
    "score, best_hyperparams = evaluation.gridsearch(ALG, X, None, Xval_in, Xval_out, HYPERPARAMS)"
   ]
  },
  {
   "cell_type": "code",
   "execution_count": 8,
   "id": "2c057f9c",
   "metadata": {},
   "outputs": [
    {
     "data": {
      "text/plain": [
       "\"Best score of 0.32052145901943 achieved with {'l2': 100, 'rho': 50, 'max_iterations': 10, 't': 2158}.\""
      ]
     },
     "execution_count": 8,
     "metadata": {},
     "output_type": "execute_result"
    }
   ],
   "source": [
    "f\"Best score of {score} achieved with {best_hyperparams}.\""
   ]
  },
  {
   "cell_type": "markdown",
   "id": "e89dad17",
   "metadata": {},
   "source": [
    "## Evaluate model with optimal hyperparams on test set"
   ]
  },
  {
   "cell_type": "code",
   "execution_count": 9,
   "id": "81674e0b",
   "metadata": {
    "scrolled": true
   },
   "outputs": [
    {
     "data": {
      "application/vnd.jupyter.widget-view+json": {
       "model_id": "16c807ee6788455d870a9bf5304f24f1",
       "version_major": 2,
       "version_minor": 0
      },
      "text/plain": [
       "HBox(children=(FloatProgress(value=0.0, max=10.0), HTML(value='')))"
      ]
     },
     "metadata": {},
     "output_type": "display_data"
    },
    {
     "name": "stdout",
     "output_type": "stream",
     "text": [
      "norm E 0.855202168501103\n",
      "norm D 768.3410434131865\n",
      "diag norm: 9.832134778586088\n",
      "diag_diff: 8.849805458484065\n",
      "\n",
      "norm E 0.7929502320696032\n",
      "norm D 793.1108541901999\n",
      "diag norm: 9.75745643686079\n",
      "diag_diff: 7.47928959817519\n",
      "rho * change E: 12.435422323880635\n",
      "\n",
      "norm E 0.7729545993968232\n",
      "norm D 800.2173654046751\n",
      "diag norm: 9.57828935550758\n",
      "diag_diff: 6.204621853249347\n",
      "rho * change E: 4.2277454001893355\n",
      "\n",
      "norm E 0.7609757106953062\n",
      "norm D 804.1361466584732\n",
      "diag norm: 9.455415436745021\n",
      "diag_diff: 5.174995950227857\n",
      "rho * change E: 2.5891051417778734\n",
      "\n",
      "norm E 0.7540197689723358\n",
      "norm D 806.6991339324052\n",
      "diag norm: 9.374426009126193\n",
      "diag_diff: 4.343076482621832\n",
      "rho * change E: 1.797912708373605\n",
      "\n",
      "norm E 0.7503721681029406\n",
      "norm D 808.4881285858138\n",
      "diag norm: 9.320638694110714\n",
      "diag_diff: 3.6659680197032833\n",
      "rho * change E: 1.3159867440155542\n",
      "\n",
      "norm E 0.7488024394290526\n",
      "norm D 809.7649539074665\n",
      "diag norm: 9.284241987478607\n",
      "diag_diff: 3.111208974515965\n",
      "rho * change E: 1.0061096717556761\n",
      "\n",
      "norm E 0.7484532960426247\n",
      "norm D 810.7317373440234\n",
      "diag norm: 9.258995219927092\n",
      "diag_diff: 2.6542095431601997\n",
      "rho * change E: 0.8071421920977808\n",
      "\n",
      "norm E 0.748761654615928\n",
      "norm D 811.4867201887351\n",
      "diag norm: 9.24103009749651\n",
      "diag_diff: 2.275788494848784\n",
      "rho * change E: 0.6720485492792436\n",
      "\n",
      "norm E 0.7493906887802266\n",
      "norm D 812.0768271051621\n",
      "diag norm: 9.227975489349285\n",
      "diag_diff: 1.9609227013575743\n",
      "rho * change E: 0.5727931168816833\n",
      "\n",
      "\n",
      "CPU times: user 1h 16min 32s, sys: 10min 32s, total: 1h 27min 5s\n",
      "Wall time: 6min 1s\n"
     ]
    },
    {
     "data": {
      "text/plain": [
       "<teaser.algorithm.baseline.edlae.EDLAE at 0x7faca56cb400>"
      ]
     },
     "execution_count": 9,
     "metadata": {},
     "output_type": "execute_result"
    }
   ],
   "source": [
    "%%time\n",
    "alg = ALG(**best_hyperparams)\n",
    "alg.fit(X)"
   ]
  },
  {
   "cell_type": "code",
   "execution_count": 10,
   "id": "005a5a02",
   "metadata": {},
   "outputs": [
    {
     "name": "stdout",
     "output_type": "stream",
     "text": [
      "Performance on test set\n",
      "Evaluating with 1500 users\n",
      "Average Recall@20 0.488\n",
      "Average Recall@100 0.657\n",
      "Average nDCG@100 0.322\n"
     ]
    }
   ],
   "source": [
    "print(\"Performance on test set\")\n",
    "score = evaluation.eval(alg, Xtest_in, Xtest_out)"
   ]
  },
  {
   "cell_type": "markdown",
   "id": "9c1a9dea",
   "metadata": {},
   "source": [
    "## Plot amount of items from long tail recommended"
   ]
  },
  {
   "cell_type": "code",
   "execution_count": 11,
   "id": "95cc7884",
   "metadata": {},
   "outputs": [
    {
     "data": {
      "image/png": "[encoded data removed]",
      "text/plain": [
       "<Figure size 432x288 with 1 Axes>"
      ]
     },
     "metadata": {
      "needs_background": "light"
     },
     "output_type": "display_data"
    }
   ],
   "source": [
    "# evaluation.plot_long_tail(alg, Xtest_in=Xtest_in, Xtest_out=Xtest_out, labels=[\"EASE\", \"Test items\"], k=100)\n",
    "evaluation.plot_long_tail(alg, histories=Xtest_in, labels=[\"EDLAE\"], k=100)"
   ]
  }
 ],
 "metadata": {
  "kernelspec": {
   "display_name": "Python 3",
   "language": "python",
   "name": "python3"
  },
  "language_info": {
   "codemirror_mode": {
    "name": "ipython",
    "version": 3
   },
   "file_extension": ".py",
   "mimetype": "text/x-python",
   "name": "python",
   "nbconvert_exporter": "python",
   "pygments_lexer": "ipython3",
   "version": "3.8.10"
  }
 },
 "nbformat": 4,
 "nbformat_minor": 5
}
